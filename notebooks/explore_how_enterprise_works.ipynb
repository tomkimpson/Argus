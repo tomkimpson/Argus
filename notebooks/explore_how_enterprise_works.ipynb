{
 "cells": [
  {
   "cell_type": "markdown",
   "metadata": {},
   "source": [
    "## Explore how enterprise works\n",
    "\n",
    "This notebook is a sandbox for playing with the pulsar timing software [enterprise](https://enterprise.readthedocs.io/en/latest/)\n",
    "\n",
    "---"
   ]
  },
  {
   "cell_type": "code",
   "execution_count": 1,
   "metadata": {},
   "outputs": [],
   "source": [
    "from enterprise.pulsar import Pulsar as enterprise_Pulsar"
   ]
  },
  {
   "cell_type": "code",
   "execution_count": 2,
   "metadata": {},
   "outputs": [
    {
     "name": "stderr",
     "output_type": "stream",
     "text": [
      "/fred/oz022/tkimpson/conda_envs/Argus3/lib/python3.12/site-packages/pint/models/model_builder.py:225: UserWarning: Unrecognized parfile line 'EPHVER 5'\n",
      "  warnings.warn(f\"Unrecognized parfile line '{p_line}'\", UserWarning)\n",
      "\u001b[32m2025-01-28 11:26:50.968\u001b[0m | \u001b[33m\u001b[1mWARNING \u001b[0m | \u001b[36mpint.models.model_builder\u001b[0m:\u001b[36m__call__\u001b[0m:\u001b[36m229\u001b[0m - \u001b[33m\u001b[1mUNITS is not specified. Assuming TDB...\u001b[0m\n",
      "\u001b[32m2025-01-28 11:26:51.045\u001b[0m | \u001b[34m\u001b[1mDEBUG   \u001b[0m | \u001b[36mpint.toa\u001b[0m:\u001b[36m__init__\u001b[0m:\u001b[36m1377\u001b[0m - \u001b[34m\u001b[1mNo pulse number flags found in the TOAs\u001b[0m\n",
      "\u001b[32m2025-01-28 11:26:51.046\u001b[0m | \u001b[34m\u001b[1mDEBUG   \u001b[0m | \u001b[36mpint.toa\u001b[0m:\u001b[36mapply_clock_corrections\u001b[0m:\u001b[36m2224\u001b[0m - \u001b[34m\u001b[1mApplying clock corrections (include_bipm = False)\u001b[0m\n",
      "\u001b[32m2025-01-28 11:26:51.055\u001b[0m | \u001b[1mINFO    \u001b[0m | \u001b[36mpint.observatory.topo_obs\u001b[0m:\u001b[36mclock_corrections\u001b[0m:\u001b[36m354\u001b[0m - \u001b[1mObservatory axis requires no clock corrections.\u001b[0m\n",
      "\u001b[32m2025-01-28 11:26:51.145\u001b[0m | \u001b[34m\u001b[1mDEBUG   \u001b[0m | \u001b[36mpint.toa\u001b[0m:\u001b[36mcompute_TDBs\u001b[0m:\u001b[36m2270\u001b[0m - \u001b[34m\u001b[1mComputing TDB columns.\u001b[0m\n",
      "\u001b[32m2025-01-28 11:26:51.145\u001b[0m | \u001b[34m\u001b[1mDEBUG   \u001b[0m | \u001b[36mpint.toa\u001b[0m:\u001b[36mcompute_TDBs\u001b[0m:\u001b[36m2291\u001b[0m - \u001b[34m\u001b[1mUsing EPHEM = DE440 for TDB calculation.\u001b[0m\n",
      "\u001b[32m2025-01-28 11:26:51.164\u001b[0m | \u001b[34m\u001b[1mDEBUG   \u001b[0m | \u001b[36mpint.toa\u001b[0m:\u001b[36mget_TOAs\u001b[0m:\u001b[36m310\u001b[0m - \u001b[34m\u001b[1mPlanet PosVels will be calculated.\u001b[0m\n",
      "\u001b[32m2025-01-28 11:26:51.165\u001b[0m | \u001b[34m\u001b[1mDEBUG   \u001b[0m | \u001b[36mpint.toa\u001b[0m:\u001b[36mcompute_posvels\u001b[0m:\u001b[36m2366\u001b[0m - \u001b[34m\u001b[1mComputing PosVels of observatories, Earth and planets, using DE440\u001b[0m\n",
      "\u001b[32m2025-01-28 11:26:51.549\u001b[0m | \u001b[1mINFO    \u001b[0m | \u001b[36mpint.solar_system_ephemerides\u001b[0m:\u001b[36mload_kernel\u001b[0m:\u001b[36m194\u001b[0m - \u001b[1mSet solar system ephemeris to de440 through astropy\u001b[0m\n",
      "\u001b[32m2025-01-28 11:26:52.407\u001b[0m | \u001b[34m\u001b[1mDEBUG   \u001b[0m | \u001b[36mpint.toa\u001b[0m:\u001b[36mcompute_posvels\u001b[0m:\u001b[36m2424\u001b[0m - \u001b[34m\u001b[1mSSB obs pos [-1.16725313e+10  1.34138434e+11  5.81425475e+10] m\u001b[0m\n",
      "\u001b[32m2025-01-28 11:26:52.408\u001b[0m | \u001b[1mINFO    \u001b[0m | \u001b[36mpint.solar_system_ephemerides\u001b[0m:\u001b[36mload_kernel\u001b[0m:\u001b[36m194\u001b[0m - \u001b[1mSet solar system ephemeris to de440 through astropy\u001b[0m\n",
      "\u001b[32m2025-01-28 11:26:52.415\u001b[0m | \u001b[1mINFO    \u001b[0m | \u001b[36mpint.solar_system_ephemerides\u001b[0m:\u001b[36mload_kernel\u001b[0m:\u001b[36m194\u001b[0m - \u001b[1mSet solar system ephemeris to de440 through astropy\u001b[0m\n",
      "\u001b[32m2025-01-28 11:26:52.422\u001b[0m | \u001b[1mINFO    \u001b[0m | \u001b[36mpint.solar_system_ephemerides\u001b[0m:\u001b[36mload_kernel\u001b[0m:\u001b[36m194\u001b[0m - \u001b[1mSet solar system ephemeris to de440 through astropy\u001b[0m\n",
      "\u001b[32m2025-01-28 11:26:52.423\u001b[0m | \u001b[1mINFO    \u001b[0m | \u001b[36mpint.solar_system_ephemerides\u001b[0m:\u001b[36mload_kernel\u001b[0m:\u001b[36m194\u001b[0m - \u001b[1mSet solar system ephemeris to de440 through astropy\u001b[0m\n",
      "\u001b[32m2025-01-28 11:26:52.430\u001b[0m | \u001b[1mINFO    \u001b[0m | \u001b[36mpint.solar_system_ephemerides\u001b[0m:\u001b[36mload_kernel\u001b[0m:\u001b[36m194\u001b[0m - \u001b[1mSet solar system ephemeris to de440 through astropy\u001b[0m\n",
      "\u001b[32m2025-01-28 11:26:52.436\u001b[0m | \u001b[1mINFO    \u001b[0m | \u001b[36mpint.solar_system_ephemerides\u001b[0m:\u001b[36mload_kernel\u001b[0m:\u001b[36m194\u001b[0m - \u001b[1mSet solar system ephemeris to de440 through astropy\u001b[0m\n",
      "\u001b[32m2025-01-28 11:26:52.437\u001b[0m | \u001b[1mINFO    \u001b[0m | \u001b[36mpint.solar_system_ephemerides\u001b[0m:\u001b[36mload_kernel\u001b[0m:\u001b[36m194\u001b[0m - \u001b[1mSet solar system ephemeris to de440 through astropy\u001b[0m\n",
      "\u001b[32m2025-01-28 11:26:52.438\u001b[0m | \u001b[34m\u001b[1mDEBUG   \u001b[0m | \u001b[36mpint.toa\u001b[0m:\u001b[36mcompute_posvels\u001b[0m:\u001b[36m2438\u001b[0m - \u001b[34m\u001b[1mAdding columns ssb_obs_pos ssb_obs_vel obs_sun_pos obs_jupiter_pos obs_saturn_pos obs_venus_pos obs_uranus_pos obs_neptune_pos obs_earth_pos\u001b[0m\n",
      "\u001b[32m2025-01-28 11:26:52.440\u001b[0m | \u001b[1mINFO    \u001b[0m | \u001b[36mpint.models.model_builder\u001b[0m:\u001b[36mget_model_and_toas\u001b[0m:\u001b[36m968\u001b[0m - \u001b[1mCreating a TZR TOA (AbsPhase) using the given TOAs object.\u001b[0m\n",
      "\u001b[32m2025-01-28 11:26:52.447\u001b[0m | \u001b[1mINFO    \u001b[0m | \u001b[36mpint.models.absolute_phase\u001b[0m:\u001b[36mvalidate\u001b[0m:\u001b[36m74\u001b[0m - \u001b[1mThe TZRSITE is set at the solar system barycenter.\u001b[0m\n",
      "\u001b[32m2025-01-28 11:26:52.448\u001b[0m | \u001b[1mINFO    \u001b[0m | \u001b[36mpint.models.absolute_phase\u001b[0m:\u001b[36mvalidate\u001b[0m:\u001b[36m78\u001b[0m - \u001b[1mTZRFRQ was 0.0 or None. Setting to infinite frequency.\u001b[0m\n",
      "\u001b[32m2025-01-28 11:26:52.459\u001b[0m | \u001b[34m\u001b[1mDEBUG   \u001b[0m | \u001b[36mpint.models.absolute_phase\u001b[0m:\u001b[36mget_TZR_toa\u001b[0m:\u001b[36m101\u001b[0m - \u001b[34m\u001b[1mCreating and dealing with the single TZR_toa for absolute phase\u001b[0m\n",
      "\u001b[32m2025-01-28 11:26:52.462\u001b[0m | \u001b[34m\u001b[1mDEBUG   \u001b[0m | \u001b[36mpint.toa\u001b[0m:\u001b[36m__init__\u001b[0m:\u001b[36m1377\u001b[0m - \u001b[34m\u001b[1mNo pulse number flags found in the TOAs\u001b[0m\n",
      "\u001b[32m2025-01-28 11:26:52.462\u001b[0m | \u001b[34m\u001b[1mDEBUG   \u001b[0m | \u001b[36mpint.toa\u001b[0m:\u001b[36mapply_clock_corrections\u001b[0m:\u001b[36m2224\u001b[0m - \u001b[34m\u001b[1mApplying clock corrections (include_bipm = False)\u001b[0m\n",
      "\u001b[32m2025-01-28 11:26:52.464\u001b[0m | \u001b[34m\u001b[1mDEBUG   \u001b[0m | \u001b[36mpint.toa\u001b[0m:\u001b[36mcompute_TDBs\u001b[0m:\u001b[36m2270\u001b[0m - \u001b[34m\u001b[1mComputing TDB columns.\u001b[0m\n",
      "\u001b[32m2025-01-28 11:26:52.464\u001b[0m | \u001b[34m\u001b[1mDEBUG   \u001b[0m | \u001b[36mpint.toa\u001b[0m:\u001b[36mcompute_TDBs\u001b[0m:\u001b[36m2291\u001b[0m - \u001b[34m\u001b[1mUsing EPHEM = DE440 for TDB calculation.\u001b[0m\n",
      "\u001b[32m2025-01-28 11:26:52.473\u001b[0m | \u001b[34m\u001b[1mDEBUG   \u001b[0m | \u001b[36mpint.toa\u001b[0m:\u001b[36mcompute_posvels\u001b[0m:\u001b[36m2366\u001b[0m - \u001b[34m\u001b[1mComputing PosVels of observatories, Earth and planets, using DE440\u001b[0m\n",
      "\u001b[32m2025-01-28 11:26:52.474\u001b[0m | \u001b[34m\u001b[1mDEBUG   \u001b[0m | \u001b[36mpint.toa\u001b[0m:\u001b[36mcompute_posvels\u001b[0m:\u001b[36m2424\u001b[0m - \u001b[34m\u001b[1mSSB obs pos [0. 0. 0.] m\u001b[0m\n",
      "\u001b[32m2025-01-28 11:26:52.475\u001b[0m | \u001b[1mINFO    \u001b[0m | \u001b[36mpint.solar_system_ephemerides\u001b[0m:\u001b[36mload_kernel\u001b[0m:\u001b[36m194\u001b[0m - \u001b[1mSet solar system ephemeris to de440 through astropy\u001b[0m\n",
      "\u001b[32m2025-01-28 11:26:52.476\u001b[0m | \u001b[1mINFO    \u001b[0m | \u001b[36mpint.solar_system_ephemerides\u001b[0m:\u001b[36mload_kernel\u001b[0m:\u001b[36m194\u001b[0m - \u001b[1mSet solar system ephemeris to de440 through astropy\u001b[0m\n",
      "\u001b[32m2025-01-28 11:26:52.477\u001b[0m | \u001b[1mINFO    \u001b[0m | \u001b[36mpint.solar_system_ephemerides\u001b[0m:\u001b[36mload_kernel\u001b[0m:\u001b[36m194\u001b[0m - \u001b[1mSet solar system ephemeris to de440 through astropy\u001b[0m\n",
      "\u001b[32m2025-01-28 11:26:52.478\u001b[0m | \u001b[1mINFO    \u001b[0m | \u001b[36mpint.solar_system_ephemerides\u001b[0m:\u001b[36mload_kernel\u001b[0m:\u001b[36m194\u001b[0m - \u001b[1mSet solar system ephemeris to de440 through astropy\u001b[0m\n",
      "\u001b[32m2025-01-28 11:26:52.479\u001b[0m | \u001b[1mINFO    \u001b[0m | \u001b[36mpint.solar_system_ephemerides\u001b[0m:\u001b[36mload_kernel\u001b[0m:\u001b[36m194\u001b[0m - \u001b[1mSet solar system ephemeris to de440 through astropy\u001b[0m\n",
      "\u001b[32m2025-01-28 11:26:52.480\u001b[0m | \u001b[1mINFO    \u001b[0m | \u001b[36mpint.solar_system_ephemerides\u001b[0m:\u001b[36mload_kernel\u001b[0m:\u001b[36m194\u001b[0m - \u001b[1mSet solar system ephemeris to de440 through astropy\u001b[0m\n",
      "\u001b[32m2025-01-28 11:26:52.481\u001b[0m | \u001b[1mINFO    \u001b[0m | \u001b[36mpint.solar_system_ephemerides\u001b[0m:\u001b[36mload_kernel\u001b[0m:\u001b[36m194\u001b[0m - \u001b[1mSet solar system ephemeris to de440 through astropy\u001b[0m\n",
      "\u001b[32m2025-01-28 11:26:52.482\u001b[0m | \u001b[34m\u001b[1mDEBUG   \u001b[0m | \u001b[36mpint.toa\u001b[0m:\u001b[36mcompute_posvels\u001b[0m:\u001b[36m2438\u001b[0m - \u001b[34m\u001b[1mAdding columns ssb_obs_pos ssb_obs_vel obs_sun_pos obs_jupiter_pos obs_saturn_pos obs_venus_pos obs_uranus_pos obs_neptune_pos obs_earth_pos\u001b[0m\n",
      "\u001b[32m2025-01-28 11:26:52.484\u001b[0m | \u001b[34m\u001b[1mDEBUG   \u001b[0m | \u001b[36mpint.models.absolute_phase\u001b[0m:\u001b[36mget_TZR_toa\u001b[0m:\u001b[36m122\u001b[0m - \u001b[34m\u001b[1mDone with TZR_toa\u001b[0m\n"
     ]
    }
   ],
   "source": [
    "\n",
    "psr_name = 'J0030+0451'\n",
    "\n",
    "par = f'../data/IPTA_MockDataChallenge/IPTA_Challenge1_open/Challenge_Data/Dataset1/{psr_name}.par'\n",
    "tim = f'../data/IPTA_MockDataChallenge/IPTA_Challenge1_open/Challenge_Data/Dataset1/{psr_name}.tim'\n",
    "\n",
    "\n",
    "# https://github.com/nanograv/enterprise/blob/master/enterprise/pulsar.py\n",
    "pulsar_object = enterprise_Pulsar(str(par), str(tim),\n",
    "                                  timing_package=\"pint\", \n",
    "                                  ephem=\"DE440\", \n",
    "                                  bipm_version=\"BIPM2019\", \n",
    "                                  clk=\"TT(BIPM2019)\")"
   ]
  },
  {
   "cell_type": "code",
   "execution_count": 3,
   "metadata": {},
   "outputs": [
    {
     "data": {
      "text/plain": [
       "['Offset', 'PX', 'RAJ', 'DECJ', 'PMRA', 'PMDEC', 'F0', 'F1']"
      ]
     },
     "execution_count": 3,
     "metadata": {},
     "output_type": "execute_result"
    }
   ],
   "source": [
    "pulsar_object.fitpars #these are the fit parameeters. See https://nanograv-pint.readthedocs.io/en/latest/timingmodels.html"
   ]
  },
  {
   "cell_type": "code",
   "execution_count": 7,
   "metadata": {},
   "outputs": [
    {
     "data": {
      "text/plain": [
       "(array([[ 4.86545328e-03,  1.15594935e-06, -1.17034203e+02, ...,\n",
       "         -1.88819100e-12, -4.92573894e-01, -2.49338578e+01],\n",
       "        [ 4.86545328e-03,  1.12610499e-06, -1.15198481e+02, ...,\n",
       "         -3.56453526e-08, -5.88515305e+03, -3.55928055e+09],\n",
       "        [ 4.86545328e-03,  9.65816717e-07, -1.06360943e+02, ...,\n",
       "         -6.70746346e-08, -1.17698387e+04, -1.42359916e+10],\n",
       "        ...,\n",
       "        [ 4.86545328e-03,  4.36065556e-07, -7.28081276e+01, ...,\n",
       "         -2.57050544e-06, -7.47429278e+05, -5.74099157e+13],\n",
       "        [ 4.86545328e-03,  7.22486341e-07, -9.32329531e+01, ...,\n",
       "         -3.44574131e-06, -7.53314116e+05, -5.83175013e+13],\n",
       "        [ 4.86545328e-03,  9.78458964e-07, -1.08112570e+02, ...,\n",
       "         -4.12782341e-06, -7.59198863e+05, -5.92321907e+13]]),\n",
       " ['Offset', 'PX', 'RAJ', 'DECJ', 'PMRA', 'PMDEC', 'F0', 'F1'],\n",
       " [Unit(dimensionless),\n",
       "  Unit(\"1 / (Hz mas)\"),\n",
       "  Unit(\"1 / (Hz hourangle)\"),\n",
       "  Unit(\"1 / (Hz deg)\"),\n",
       "  Unit(\"yr / (Hz mas)\"),\n",
       "  Unit(\"yr / (Hz mas)\"),\n",
       "  Unit(\"1 / Hz2\"),\n",
       "  Unit(\"s / Hz2\")])"
      ]
     },
     "execution_count": 7,
     "metadata": {},
     "output_type": "execute_result"
    }
   ],
   "source": [
    "pulsar_object._designmatrix, pulsar_object.fitpars, pulsar_object.designmatrix_units"
   ]
  },
  {
   "cell_type": "code",
   "execution_count": 5,
   "metadata": {},
   "outputs": [
    {
     "data": {
      "text/plain": [
       "['Mmat',\n",
       " '__class__',\n",
       " '__delattr__',\n",
       " '__dict__',\n",
       " '__dir__',\n",
       " '__doc__',\n",
       " '__eq__',\n",
       " '__format__',\n",
       " '__ge__',\n",
       " '__getattribute__',\n",
       " '__getstate__',\n",
       " '__gt__',\n",
       " '__hash__',\n",
       " '__init__',\n",
       " '__init_subclass__',\n",
       " '__le__',\n",
       " '__lt__',\n",
       " '__module__',\n",
       " '__ne__',\n",
       " '__new__',\n",
       " '__reduce__',\n",
       " '__reduce_ex__',\n",
       " '__repr__',\n",
       " '__setattr__',\n",
       " '__sizeof__',\n",
       " '__str__',\n",
       " '__subclasshook__',\n",
       " '__weakref__',\n",
       " '_decj',\n",
       " '_designmatrix',\n",
       " '_dm',\n",
       " '_flags',\n",
       " '_get_pdist',\n",
       " '_get_planetssb',\n",
       " '_get_pos',\n",
       " '_get_radec',\n",
       " '_get_radec_from_ecliptic',\n",
       " '_get_ssb_lsec',\n",
       " '_get_sunssb',\n",
       " '_iisort',\n",
       " '_isort',\n",
       " '_pdist',\n",
       " '_planetssb',\n",
       " '_pos',\n",
       " '_pos_t',\n",
       " '_raj',\n",
       " '_residuals',\n",
       " '_set_dm',\n",
       " '_sort',\n",
       " '_ssbfreqs',\n",
       " '_stoas',\n",
       " '_sunssb',\n",
       " '_telescope',\n",
       " '_toaerrs',\n",
       " '_toas',\n",
       " 'backend_flags',\n",
       " 'designmatrix_units',\n",
       " 'dm',\n",
       " 'dmx',\n",
       " 'drop_not_picklable',\n",
       " 'drop_pintpsr',\n",
       " 'filter_data',\n",
       " 'fitpars',\n",
       " 'flags',\n",
       " 'freqs',\n",
       " 'iisort',\n",
       " 'isort',\n",
       " 'name',\n",
       " 'pdist',\n",
       " 'phi',\n",
       " 'planets',\n",
       " 'planetssb',\n",
       " 'pos',\n",
       " 'pos_t',\n",
       " 'residuals',\n",
       " 'set_flags',\n",
       " 'setpars',\n",
       " 'sort_data',\n",
       " 'stoas',\n",
       " 'sunssb',\n",
       " 'telescope',\n",
       " 'theta',\n",
       " 'to_pickle',\n",
       " 'toaerrs',\n",
       " 'toas']"
      ]
     },
     "execution_count": 5,
     "metadata": {},
     "output_type": "execute_result"
    }
   ],
   "source": [
    "dir(pulsar_object)"
   ]
  },
  {
   "cell_type": "code",
   "execution_count": 8,
   "metadata": {},
   "outputs": [],
   "source": [
    "x0 = []\n",
    "x0.extend([0]*20)"
   ]
  },
  {
   "cell_type": "code",
   "execution_count": 9,
   "metadata": {},
   "outputs": [
    {
     "data": {
      "text/plain": [
       "[0, 0, 0, 0, 0, 0, 0, 0, 0, 0, 0, 0, 0, 0, 0, 0, 0, 0, 0, 0]"
      ]
     },
     "execution_count": 9,
     "metadata": {},
     "output_type": "execute_result"
    }
   ],
   "source": [
    "x0 "
   ]
  },
  {
   "cell_type": "code",
   "execution_count": 28,
   "metadata": {},
   "outputs": [
    {
     "data": {
      "text/plain": [
       "[Unit(dimensionless),\n",
       " Unit(\"1 / (Hz mas)\"),\n",
       " Unit(\"1 / (Hz hourangle)\"),\n",
       " Unit(\"1 / (Hz deg)\"),\n",
       " Unit(\"yr / (Hz mas)\"),\n",
       " Unit(\"yr / (Hz mas)\"),\n",
       " Unit(\"1 / Hz2\"),\n",
       " Unit(\"s / Hz2\")]"
      ]
     },
     "execution_count": 28,
     "metadata": {},
     "output_type": "execute_result"
    }
   ],
   "source": [
    "pulsar_object.designmatrix_units"
   ]
  },
  {
   "cell_type": "code",
   "execution_count": null,
   "metadata": {},
   "outputs": [],
   "source": []
  },
  {
   "cell_type": "code",
   "execution_count": 32,
   "metadata": {},
   "outputs": [
    {
     "data": {
      "text/plain": [
       "array([[ True,  True,  True, ...,  True,  True,  True],\n",
       "       [ True,  True,  True, ...,  True,  True,  True],\n",
       "       [ True,  True,  True, ...,  True,  True,  True],\n",
       "       ...,\n",
       "       [ True,  True,  True, ...,  True,  True,  True],\n",
       "       [ True,  True,  True, ...,  True,  True,  True],\n",
       "       [ True,  True,  True, ...,  True,  True,  True]])"
      ]
     },
     "execution_count": 32,
     "metadata": {},
     "output_type": "execute_result"
    }
   ],
   "source": [
    "pulsar_object._designmatrix == pulsar_object.Mmat"
   ]
  },
  {
   "cell_type": "code",
   "execution_count": 5,
   "metadata": {},
   "outputs": [
    {
     "data": {
      "text/plain": [
       "['Mmat',\n",
       " '__class__',\n",
       " '__delattr__',\n",
       " '__dict__',\n",
       " '__dir__',\n",
       " '__doc__',\n",
       " '__eq__',\n",
       " '__format__',\n",
       " '__ge__',\n",
       " '__getattribute__',\n",
       " '__getstate__',\n",
       " '__gt__',\n",
       " '__hash__',\n",
       " '__init__',\n",
       " '__init_subclass__',\n",
       " '__le__',\n",
       " '__lt__',\n",
       " '__module__',\n",
       " '__ne__',\n",
       " '__new__',\n",
       " '__reduce__',\n",
       " '__reduce_ex__',\n",
       " '__repr__',\n",
       " '__setattr__',\n",
       " '__sizeof__',\n",
       " '__str__',\n",
       " '__subclasshook__',\n",
       " '__weakref__',\n",
       " '_decj',\n",
       " '_designmatrix',\n",
       " '_dm',\n",
       " '_flags',\n",
       " '_get_pdist',\n",
       " '_get_planetssb',\n",
       " '_get_pos',\n",
       " '_get_radec',\n",
       " '_get_radec_from_ecliptic',\n",
       " '_get_ssb_lsec',\n",
       " '_get_sunssb',\n",
       " '_iisort',\n",
       " '_isort',\n",
       " '_pdist',\n",
       " '_planetssb',\n",
       " '_pos',\n",
       " '_pos_t',\n",
       " '_raj',\n",
       " '_residuals',\n",
       " '_set_dm',\n",
       " '_sort',\n",
       " '_ssbfreqs',\n",
       " '_stoas',\n",
       " '_sunssb',\n",
       " '_telescope',\n",
       " '_toaerrs',\n",
       " '_toas',\n",
       " 'backend_flags',\n",
       " 'designmatrix_units',\n",
       " 'dm',\n",
       " 'dmx',\n",
       " 'drop_not_picklable',\n",
       " 'drop_pintpsr',\n",
       " 'filter_data',\n",
       " 'fitpars',\n",
       " 'flags',\n",
       " 'freqs',\n",
       " 'iisort',\n",
       " 'isort',\n",
       " 'name',\n",
       " 'pdist',\n",
       " 'phi',\n",
       " 'planets',\n",
       " 'planetssb',\n",
       " 'pos',\n",
       " 'pos_t',\n",
       " 'residuals',\n",
       " 'set_flags',\n",
       " 'setpars',\n",
       " 'sort_data',\n",
       " 'stoas',\n",
       " 'sunssb',\n",
       " 'telescope',\n",
       " 'theta',\n",
       " 'to_pickle',\n",
       " 'toaerrs',\n",
       " 'toas']"
      ]
     },
     "execution_count": 5,
     "metadata": {},
     "output_type": "execute_result"
    }
   ],
   "source": [
    "dir(pulsar_object)"
   ]
  },
  {
   "cell_type": "code",
   "execution_count": 6,
   "metadata": {},
   "outputs": [
    {
     "name": "stdout",
     "output_type": "stream",
     "text": [
      "Mmat\n",
      "__class__\n",
      "__delattr__\n",
      "__dict__\n",
      "__dir__\n",
      "__doc__\n",
      "__eq__\n",
      "__format__\n",
      "__ge__\n",
      "__getattribute__\n",
      "__getstate__\n",
      "__gt__\n",
      "__hash__\n",
      "__init__\n",
      "__init_subclass__\n",
      "__le__\n",
      "__lt__\n",
      "__module__\n",
      "__ne__\n",
      "__new__\n",
      "__reduce__\n",
      "__reduce_ex__\n",
      "__repr__\n",
      "__setattr__\n",
      "__sizeof__\n",
      "__str__\n",
      "__subclasshook__\n",
      "__weakref__\n",
      "_decj\n",
      "_designmatrix\n",
      "_dm\n",
      "_flags\n",
      "_get_pdist\n",
      "_get_planetssb\n",
      "_get_pos\n",
      "_get_radec\n",
      "_get_radec_from_ecliptic\n",
      "_get_ssb_lsec\n",
      "_get_sunssb\n",
      "_iisort\n",
      "_isort\n",
      "_pdist\n",
      "_planetssb\n",
      "_pos\n",
      "_pos_t\n",
      "_raj\n",
      "_residuals\n",
      "_set_dm\n",
      "_sort\n",
      "_ssbfreqs\n",
      "_stoas\n",
      "_sunssb\n",
      "_telescope\n",
      "_toaerrs\n",
      "_toas\n",
      "backend_flags\n",
      "designmatrix_units\n",
      "dm\n",
      "dmx\n",
      "drop_not_picklable\n",
      "drop_pintpsr\n",
      "filter_data\n",
      "fitpars\n",
      "flags\n",
      "freqs\n",
      "iisort\n",
      "isort\n",
      "name\n",
      "pdist\n",
      "phi\n",
      "planets\n",
      "planetssb\n",
      "pos\n",
      "pos_t\n",
      "residuals\n",
      "set_flags\n",
      "setpars\n",
      "sort_data\n",
      "stoas\n",
      "sunssb\n",
      "telescope\n",
      "theta\n",
      "to_pickle\n",
      "toaerrs\n",
      "toas\n"
     ]
    }
   ],
   "source": [
    "for thing in dir(pulsar_object):\n",
    "        print(thing)"
   ]
  },
  {
   "cell_type": "code",
   "execution_count": 9,
   "metadata": {},
   "outputs": [
    {
     "data": {
      "text/plain": [
       "(130, 8)"
      ]
     },
     "execution_count": 9,
     "metadata": {},
     "output_type": "execute_result"
    }
   ],
   "source": [
    "pulsar_object.Mmat.shape"
   ]
  },
  {
   "cell_type": "code",
   "execution_count": 10,
   "metadata": {},
   "outputs": [],
   "source": [
    "from enterprise.signals import gp_signals\n"
   ]
  },
  {
   "cell_type": "code",
   "execution_count": 11,
   "metadata": {},
   "outputs": [],
   "source": [
    "tm = gp_signals.TimingModel(use_svd=True) # stabilizing timing model design matrix with SVD"
   ]
  },
  {
   "cell_type": "markdown",
   "metadata": {},
   "source": [
    "---\n",
    "\n",
    "# Appendix "
   ]
  },
  {
   "cell_type": "code",
   "execution_count": 13,
   "metadata": {},
   "outputs": [
    {
     "data": {
      "text/plain": [
       "['__class__',\n",
       " '__delattr__',\n",
       " '__dict__',\n",
       " '__dir__',\n",
       " '__doc__',\n",
       " '__eq__',\n",
       " '__format__',\n",
       " '__ge__',\n",
       " '__getattribute__',\n",
       " '__getstate__',\n",
       " '__gt__',\n",
       " '__hash__',\n",
       " '__init__',\n",
       " '__init_subclass__',\n",
       " '__le__',\n",
       " '__lt__',\n",
       " '__module__',\n",
       " '__ne__',\n",
       " '__new__',\n",
       " '__reduce__',\n",
       " '__reduce_ex__',\n",
       " '__repr__',\n",
       " '__setattr__',\n",
       " '__sizeof__',\n",
       " '__str__',\n",
       " '__subclasshook__',\n",
       " '__weakref__',\n",
       " '_construct_basis',\n",
       " '_do_selection',\n",
       " 'basis_combine',\n",
       " 'basis_params',\n",
       " 'delay_params',\n",
       " 'get',\n",
       " 'get_basis',\n",
       " 'get_delay',\n",
       " 'get_logsignalprior',\n",
       " 'get_ndiag',\n",
       " 'get_phi',\n",
       " 'get_phiinv',\n",
       " 'param_names',\n",
       " 'params',\n",
       " 'set_default_params',\n",
       " 'signal_id',\n",
       " 'signal_name',\n",
       " 'signal_type']"
      ]
     },
     "execution_count": 13,
     "metadata": {},
     "output_type": "execute_result"
    }
   ],
   "source": [
    "dir(tm)"
   ]
  },
  {
   "cell_type": "code",
   "execution_count": 23,
   "metadata": {},
   "outputs": [
    {
     "data": {
      "text/plain": [
       "['__class__',\n",
       " '__delattr__',\n",
       " '__delete__',\n",
       " '__dir__',\n",
       " '__doc__',\n",
       " '__eq__',\n",
       " '__format__',\n",
       " '__ge__',\n",
       " '__get__',\n",
       " '__getattribute__',\n",
       " '__getstate__',\n",
       " '__gt__',\n",
       " '__hash__',\n",
       " '__init__',\n",
       " '__init_subclass__',\n",
       " '__isabstractmethod__',\n",
       " '__le__',\n",
       " '__lt__',\n",
       " '__ne__',\n",
       " '__new__',\n",
       " '__reduce__',\n",
       " '__reduce_ex__',\n",
       " '__repr__',\n",
       " '__set__',\n",
       " '__set_name__',\n",
       " '__setattr__',\n",
       " '__sizeof__',\n",
       " '__str__',\n",
       " '__subclasshook__',\n",
       " 'deleter',\n",
       " 'fdel',\n",
       " 'fget',\n",
       " 'fset',\n",
       " 'getter',\n",
       " 'setter']"
      ]
     },
     "execution_count": 23,
     "metadata": {},
     "output_type": "execute_result"
    }
   ],
   "source": [
    "dir(tm.params)"
   ]
  },
  {
   "cell_type": "code",
   "execution_count": 26,
   "metadata": {},
   "outputs": [
    {
     "data": {
      "text/plain": [
       "['__class__',\n",
       " '__delattr__',\n",
       " '__delete__',\n",
       " '__dir__',\n",
       " '__doc__',\n",
       " '__eq__',\n",
       " '__format__',\n",
       " '__ge__',\n",
       " '__get__',\n",
       " '__getattribute__',\n",
       " '__getstate__',\n",
       " '__gt__',\n",
       " '__hash__',\n",
       " '__init__',\n",
       " '__init_subclass__',\n",
       " '__isabstractmethod__',\n",
       " '__le__',\n",
       " '__lt__',\n",
       " '__ne__',\n",
       " '__new__',\n",
       " '__reduce__',\n",
       " '__reduce_ex__',\n",
       " '__repr__',\n",
       " '__set__',\n",
       " '__set_name__',\n",
       " '__setattr__',\n",
       " '__sizeof__',\n",
       " '__str__',\n",
       " '__subclasshook__',\n",
       " 'deleter',\n",
       " 'fdel',\n",
       " 'fget',\n",
       " 'fset',\n",
       " 'getter',\n",
       " 'setter']"
      ]
     },
     "execution_count": 26,
     "metadata": {},
     "output_type": "execute_result"
    }
   ],
   "source": [
    "dir(tm.params)"
   ]
  },
  {
   "cell_type": "code",
   "execution_count": 17,
   "metadata": {},
   "outputs": [
    {
     "data": {
      "text/plain": [
       "enterprise.signals.gp_signals.TimingModel.<locals>.TimingModel"
      ]
     },
     "execution_count": 17,
     "metadata": {},
     "output_type": "execute_result"
    }
   ],
   "source": [
    "tm "
   ]
  },
  {
   "cell_type": "code",
   "execution_count": null,
   "metadata": {},
   "outputs": [],
   "source": []
  }
 ],
 "metadata": {
  "kernelspec": {
   "display_name": "Argus3",
   "language": "python",
   "name": "python3"
  },
  "language_info": {
   "codemirror_mode": {
    "name": "ipython",
    "version": 3
   },
   "file_extension": ".py",
   "mimetype": "text/x-python",
   "name": "python",
   "nbconvert_exporter": "python",
   "pygments_lexer": "ipython3",
   "version": "3.12.2"
  }
 },
 "nbformat": 4,
 "nbformat_minor": 2
}
