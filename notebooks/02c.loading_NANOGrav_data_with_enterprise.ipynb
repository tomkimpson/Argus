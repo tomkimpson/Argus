{
 "cells": [
  {
   "cell_type": "markdown",
   "metadata": {},
   "source": [
    "# Test loading mock data\n",
    "\n",
    "This notebook looks at loading the IPTA mock data files using enterprise \n",
    "\n",
    "\n",
    "Tl;dr: works ok with standard TEMPO load. Does not work with PINT load as binary model T2 is not available "
   ]
  },
  {
   "cell_type": "code",
   "execution_count": 1,
   "metadata": {},
   "outputs": [],
   "source": [
    "\n",
    "from enterprise.pulsar import Pulsar as enterprise_pulsar\n",
    "import glob \n",
    "datadir= '../data/NANOGrav15year/wideband/'\n",
    "\n"
   ]
  },
  {
   "cell_type": "code",
   "execution_count": 2,
   "metadata": {},
   "outputs": [],
   "source": [
    "parfiles = sorted(glob.glob(datadir + 'par/*.par'))\n",
    "timfiles = sorted(glob.glob(datadir + 'tim/*.tim'))"
   ]
  },
  {
   "cell_type": "code",
   "execution_count": null,
   "metadata": {},
   "outputs": [
    {
     "ename": "",
     "evalue": "",
     "output_type": "error",
     "traceback": [
      "\u001b[1;31mThe Kernel crashed while executing code in the current cell or a previous cell. \n",
      "\u001b[1;31mPlease review the code in the cell(s) to identify a possible cause of the failure. \n",
      "\u001b[1;31mClick <a href='https://aka.ms/vscodeJupyterKernelCrash'>here</a> for more info. \n",
      "\u001b[1;31mView Jupyter <a href='command:jupyter.viewOutput'>log</a> for further details."
     ]
    }
   ],
   "source": [
    "assert len(parfiles) != 0 \n",
    "assert len(parfiles) == len(timfiles)"
   ]
  },
  {
   "cell_type": "code",
   "execution_count": null,
   "metadata": {},
   "outputs": [],
   "source": [
    "#example from https://enterprise.readthedocs.io/en/latest/mdc.html\n",
    "\n",
    "psrs = []\n",
    "for p, t in zip(parfiles, timfiles):\n",
    "    print(p)\n",
    "    psr = enterprise_pulsar(p, t)\n",
    "    psrs.append(psr)\n"
   ]
  },
  {
   "cell_type": "code",
   "execution_count": null,
   "metadata": {},
   "outputs": [
    {
     "data": {
      "text/plain": [
       "[<enterprise.pulsar.Tempo2Pulsar at 0x7f2d7a736c00>,\n",
       " <enterprise.pulsar.Tempo2Pulsar at 0x7f2d7a44bdd0>,\n",
       " <enterprise.pulsar.Tempo2Pulsar at 0x7f2d7a4ac0b0>,\n",
       " <enterprise.pulsar.Tempo2Pulsar at 0x7f2d7a44bcb0>,\n",
       " <enterprise.pulsar.Tempo2Pulsar at 0x7f2d7a4ac1a0>,\n",
       " <enterprise.pulsar.Tempo2Pulsar at 0x7f2d7a44baa0>,\n",
       " <enterprise.pulsar.Tempo2Pulsar at 0x7f2d7a4ac2f0>,\n",
       " <enterprise.pulsar.Tempo2Pulsar at 0x7f2d7a44b8c0>,\n",
       " <enterprise.pulsar.Tempo2Pulsar at 0x7f2d7a4ac320>,\n",
       " <enterprise.pulsar.Tempo2Pulsar at 0x7f2d7a44b6b0>,\n",
       " <enterprise.pulsar.Tempo2Pulsar at 0x7f2d7a4ac590>,\n",
       " <enterprise.pulsar.Tempo2Pulsar at 0x7f2d7a44b440>,\n",
       " <enterprise.pulsar.Tempo2Pulsar at 0x7f2d7a4ac7d0>,\n",
       " <enterprise.pulsar.Tempo2Pulsar at 0x7f2d7a44b1d0>,\n",
       " <enterprise.pulsar.Tempo2Pulsar at 0x7f2d7a4ac9e0>,\n",
       " <enterprise.pulsar.Tempo2Pulsar at 0x7f2d7a44af60>,\n",
       " <enterprise.pulsar.Tempo2Pulsar at 0x7f2d7c800080>,\n",
       " <enterprise.pulsar.Tempo2Pulsar at 0x7f2d7a44ac30>,\n",
       " <enterprise.pulsar.Tempo2Pulsar at 0x7f2d7a4ace00>,\n",
       " <enterprise.pulsar.Tempo2Pulsar at 0x7f2d4a2f0b00>,\n",
       " <enterprise.pulsar.Tempo2Pulsar at 0x7f2d7a4ad130>,\n",
       " <enterprise.pulsar.Tempo2Pulsar at 0x7f2d4a2f0e30>,\n",
       " <enterprise.pulsar.Tempo2Pulsar at 0x7f2d94dfa8d0>,\n",
       " <enterprise.pulsar.Tempo2Pulsar at 0x7f2d7a44aa20>,\n",
       " <enterprise.pulsar.Tempo2Pulsar at 0x7f2d4a2f0650>,\n",
       " <enterprise.pulsar.Tempo2Pulsar at 0x7f2d7a44a4e0>,\n",
       " <enterprise.pulsar.Tempo2Pulsar at 0x7f2d4a2f05f0>,\n",
       " <enterprise.pulsar.Tempo2Pulsar at 0x7f2d7a44a0f0>,\n",
       " <enterprise.pulsar.Tempo2Pulsar at 0x7f2d4a2f04d0>,\n",
       " <enterprise.pulsar.Tempo2Pulsar at 0x7f2d7a449ee0>,\n",
       " <enterprise.pulsar.Tempo2Pulsar at 0x7f2d7cf03bc0>,\n",
       " <enterprise.pulsar.Tempo2Pulsar at 0x7f2d7a7be960>,\n",
       " <enterprise.pulsar.Tempo2Pulsar at 0x7f2d7a4ad8b0>,\n",
       " <enterprise.pulsar.Tempo2Pulsar at 0x7f2d4a2f1070>,\n",
       " <enterprise.pulsar.Tempo2Pulsar at 0x7f2d7a4adb20>,\n",
       " <enterprise.pulsar.Tempo2Pulsar at 0x7f2d4a2f98e0>]"
      ]
     },
     "execution_count": 4,
     "metadata": {},
     "output_type": "execute_result"
    }
   ],
   "source": [
    "psrs "
   ]
  },
  {
   "cell_type": "markdown",
   "metadata": {},
   "source": [
    "# PINT "
   ]
  },
  {
   "cell_type": "code",
   "execution_count": null,
   "metadata": {},
   "outputs": [
    {
     "name": "stdout",
     "output_type": "stream",
     "text": [
      "../data/data_from_enterprise/mdc1/J0030+0451.par\n"
     ]
    },
    {
     "name": "stderr",
     "output_type": "stream",
     "text": [
      "/fred/oz022/tkimpson/conda_envs/test_enterprise/lib/python3.12/site-packages/pint/models/model_builder.py:225: UserWarning: Unrecognized parfile line 'EPHVER 5'\n",
      "  warnings.warn(f\"Unrecognized parfile line '{p_line}'\", UserWarning)\n",
      "\u001b[32m2025-02-03 07:51:30.520\u001b[0m | \u001b[33m\u001b[1mWARNING \u001b[0m | \u001b[36mpint.models.model_builder\u001b[0m:\u001b[36m__call__\u001b[0m:\u001b[36m229\u001b[0m - \u001b[33m\u001b[1mUNITS is not specified. Assuming TDB...\u001b[0m\n",
      "\u001b[32m2025-02-03 07:51:30.520\u001b[0m | \u001b[34m\u001b[1mDEBUG   \u001b[0m | \u001b[36mpint.toa\u001b[0m:\u001b[36mget_TOAs\u001b[0m:\u001b[36m195\u001b[0m - \u001b[34m\u001b[1mUsing EPHEM = DE414 from the given model\u001b[0m\n",
      "\u001b[32m2025-02-03 07:51:30.563\u001b[0m | \u001b[34m\u001b[1mDEBUG   \u001b[0m | \u001b[36mpint.toa\u001b[0m:\u001b[36m__init__\u001b[0m:\u001b[36m1377\u001b[0m - \u001b[34m\u001b[1mNo pulse number flags found in the TOAs\u001b[0m\n",
      "\u001b[32m2025-02-03 07:51:30.564\u001b[0m | \u001b[34m\u001b[1mDEBUG   \u001b[0m | \u001b[36mpint.toa\u001b[0m:\u001b[36mapply_clock_corrections\u001b[0m:\u001b[36m2224\u001b[0m - \u001b[34m\u001b[1mApplying clock corrections (include_bipm = False)\u001b[0m\n",
      "\u001b[32m2025-02-03 07:51:30.572\u001b[0m | \u001b[1mINFO    \u001b[0m | \u001b[36mpint.observatory.topo_obs\u001b[0m:\u001b[36mclock_corrections\u001b[0m:\u001b[36m354\u001b[0m - \u001b[1mObservatory axis requires no clock corrections.\u001b[0m\n",
      "\u001b[32m2025-02-03 07:51:30.706\u001b[0m | \u001b[34m\u001b[1mDEBUG   \u001b[0m | \u001b[36mpint.toa\u001b[0m:\u001b[36mcompute_TDBs\u001b[0m:\u001b[36m2270\u001b[0m - \u001b[34m\u001b[1mComputing TDB columns.\u001b[0m\n",
      "\u001b[32m2025-02-03 07:51:30.706\u001b[0m | \u001b[34m\u001b[1mDEBUG   \u001b[0m | \u001b[36mpint.toa\u001b[0m:\u001b[36mcompute_TDBs\u001b[0m:\u001b[36m2291\u001b[0m - \u001b[34m\u001b[1mUsing EPHEM = DE414 for TDB calculation.\u001b[0m\n",
      "\u001b[32m2025-02-03 07:51:30.725\u001b[0m | \u001b[34m\u001b[1mDEBUG   \u001b[0m | \u001b[36mpint.toa\u001b[0m:\u001b[36mget_TOAs\u001b[0m:\u001b[36m310\u001b[0m - \u001b[34m\u001b[1mPlanet PosVels will be calculated.\u001b[0m\n",
      "\u001b[32m2025-02-03 07:51:30.726\u001b[0m | \u001b[34m\u001b[1mDEBUG   \u001b[0m | \u001b[36mpint.toa\u001b[0m:\u001b[36mcompute_posvels\u001b[0m:\u001b[36m2366\u001b[0m - \u001b[34m\u001b[1mComputing PosVels of observatories, Earth and planets, using DE414\u001b[0m\n",
      "\u001b[32m2025-02-03 07:51:32.195\u001b[0m | \u001b[1mINFO    \u001b[0m | \u001b[36mpint.solar_system_ephemerides\u001b[0m:\u001b[36m_load_kernel_link\u001b[0m:\u001b[36m85\u001b[0m - \u001b[1mSet solar system ephemeris to de414 from download\u001b[0m\n",
      "\u001b[32m2025-02-03 07:51:33.470\u001b[0m | \u001b[34m\u001b[1mDEBUG   \u001b[0m | \u001b[36mpint.toa\u001b[0m:\u001b[36mcompute_posvels\u001b[0m:\u001b[36m2424\u001b[0m - \u001b[34m\u001b[1mSSB obs pos [-1.16724229e+10  1.34138480e+11  5.81425370e+10] m\u001b[0m\n",
      "\u001b[32m2025-02-03 07:51:34.178\u001b[0m | \u001b[1mINFO    \u001b[0m | \u001b[36mpint.solar_system_ephemerides\u001b[0m:\u001b[36m_load_kernel_link\u001b[0m:\u001b[36m85\u001b[0m - \u001b[1mSet solar system ephemeris to de414 from download\u001b[0m\n",
      "\u001b[32m2025-02-03 07:51:34.887\u001b[0m | \u001b[1mINFO    \u001b[0m | \u001b[36mpint.solar_system_ephemerides\u001b[0m:\u001b[36m_load_kernel_link\u001b[0m:\u001b[36m85\u001b[0m - \u001b[1mSet solar system ephemeris to de414 from download\u001b[0m\n",
      "\u001b[32m2025-02-03 07:51:35.596\u001b[0m | \u001b[1mINFO    \u001b[0m | \u001b[36mpint.solar_system_ephemerides\u001b[0m:\u001b[36m_load_kernel_link\u001b[0m:\u001b[36m85\u001b[0m - \u001b[1mSet solar system ephemeris to de414 from download\u001b[0m\n",
      "\u001b[32m2025-02-03 07:51:36.304\u001b[0m | \u001b[1mINFO    \u001b[0m | \u001b[36mpint.solar_system_ephemerides\u001b[0m:\u001b[36m_load_kernel_link\u001b[0m:\u001b[36m85\u001b[0m - \u001b[1mSet solar system ephemeris to de414 from download\u001b[0m\n",
      "\u001b[32m2025-02-03 07:51:37.023\u001b[0m | \u001b[1mINFO    \u001b[0m | \u001b[36mpint.solar_system_ephemerides\u001b[0m:\u001b[36m_load_kernel_link\u001b[0m:\u001b[36m85\u001b[0m - \u001b[1mSet solar system ephemeris to de414 from download\u001b[0m\n",
      "\u001b[32m2025-02-03 07:51:37.733\u001b[0m | \u001b[1mINFO    \u001b[0m | \u001b[36mpint.solar_system_ephemerides\u001b[0m:\u001b[36m_load_kernel_link\u001b[0m:\u001b[36m85\u001b[0m - \u001b[1mSet solar system ephemeris to de414 from download\u001b[0m\n",
      "\u001b[32m2025-02-03 07:51:38.442\u001b[0m | \u001b[1mINFO    \u001b[0m | \u001b[36mpint.solar_system_ephemerides\u001b[0m:\u001b[36m_load_kernel_link\u001b[0m:\u001b[36m85\u001b[0m - \u001b[1mSet solar system ephemeris to de414 from download\u001b[0m\n",
      "\u001b[32m2025-02-03 07:51:38.444\u001b[0m | \u001b[34m\u001b[1mDEBUG   \u001b[0m | \u001b[36mpint.toa\u001b[0m:\u001b[36mcompute_posvels\u001b[0m:\u001b[36m2438\u001b[0m - \u001b[34m\u001b[1mAdding columns ssb_obs_pos ssb_obs_vel obs_sun_pos obs_jupiter_pos obs_saturn_pos obs_venus_pos obs_uranus_pos obs_neptune_pos obs_earth_pos\u001b[0m\n",
      "\u001b[32m2025-02-03 07:51:38.445\u001b[0m | \u001b[1mINFO    \u001b[0m | \u001b[36mpint.models.model_builder\u001b[0m:\u001b[36mget_model_and_toas\u001b[0m:\u001b[36m968\u001b[0m - \u001b[1mCreating a TZR TOA (AbsPhase) using the given TOAs object.\u001b[0m\n",
      "\u001b[32m2025-02-03 07:51:38.452\u001b[0m | \u001b[1mINFO    \u001b[0m | \u001b[36mpint.models.absolute_phase\u001b[0m:\u001b[36mvalidate\u001b[0m:\u001b[36m74\u001b[0m - \u001b[1mThe TZRSITE is set at the solar system barycenter.\u001b[0m\n",
      "\u001b[32m2025-02-03 07:51:38.453\u001b[0m | \u001b[1mINFO    \u001b[0m | \u001b[36mpint.models.absolute_phase\u001b[0m:\u001b[36mvalidate\u001b[0m:\u001b[36m78\u001b[0m - \u001b[1mTZRFRQ was 0.0 or None. Setting to infinite frequency.\u001b[0m\n",
      "\u001b[32m2025-02-03 07:51:38.464\u001b[0m | \u001b[34m\u001b[1mDEBUG   \u001b[0m | \u001b[36mpint.models.absolute_phase\u001b[0m:\u001b[36mget_TZR_toa\u001b[0m:\u001b[36m101\u001b[0m - \u001b[34m\u001b[1mCreating and dealing with the single TZR_toa for absolute phase\u001b[0m\n",
      "\u001b[32m2025-02-03 07:51:38.466\u001b[0m | \u001b[34m\u001b[1mDEBUG   \u001b[0m | \u001b[36mpint.toa\u001b[0m:\u001b[36m__init__\u001b[0m:\u001b[36m1377\u001b[0m - \u001b[34m\u001b[1mNo pulse number flags found in the TOAs\u001b[0m\n",
      "\u001b[32m2025-02-03 07:51:38.467\u001b[0m | \u001b[34m\u001b[1mDEBUG   \u001b[0m | \u001b[36mpint.toa\u001b[0m:\u001b[36mapply_clock_corrections\u001b[0m:\u001b[36m2224\u001b[0m - \u001b[34m\u001b[1mApplying clock corrections (include_bipm = False)\u001b[0m\n",
      "\u001b[32m2025-02-03 07:51:38.468\u001b[0m | \u001b[34m\u001b[1mDEBUG   \u001b[0m | \u001b[36mpint.toa\u001b[0m:\u001b[36mcompute_TDBs\u001b[0m:\u001b[36m2270\u001b[0m - \u001b[34m\u001b[1mComputing TDB columns.\u001b[0m\n",
      "\u001b[32m2025-02-03 07:51:38.469\u001b[0m | \u001b[34m\u001b[1mDEBUG   \u001b[0m | \u001b[36mpint.toa\u001b[0m:\u001b[36mcompute_TDBs\u001b[0m:\u001b[36m2291\u001b[0m - \u001b[34m\u001b[1mUsing EPHEM = DE414 for TDB calculation.\u001b[0m\n",
      "\u001b[32m2025-02-03 07:51:38.471\u001b[0m | \u001b[34m\u001b[1mDEBUG   \u001b[0m | \u001b[36mpint.toa\u001b[0m:\u001b[36mcompute_posvels\u001b[0m:\u001b[36m2366\u001b[0m - \u001b[34m\u001b[1mComputing PosVels of observatories, Earth and planets, using DE414\u001b[0m\n",
      "\u001b[32m2025-02-03 07:51:38.473\u001b[0m | \u001b[34m\u001b[1mDEBUG   \u001b[0m | \u001b[36mpint.toa\u001b[0m:\u001b[36mcompute_posvels\u001b[0m:\u001b[36m2424\u001b[0m - \u001b[34m\u001b[1mSSB obs pos [0. 0. 0.] m\u001b[0m\n",
      "\u001b[32m2025-02-03 07:51:39.180\u001b[0m | \u001b[1mINFO    \u001b[0m | \u001b[36mpint.solar_system_ephemerides\u001b[0m:\u001b[36m_load_kernel_link\u001b[0m:\u001b[36m85\u001b[0m - \u001b[1mSet solar system ephemeris to de414 from download\u001b[0m\n",
      "\u001b[32m2025-02-03 07:51:39.888\u001b[0m | \u001b[1mINFO    \u001b[0m | \u001b[36mpint.solar_system_ephemerides\u001b[0m:\u001b[36m_load_kernel_link\u001b[0m:\u001b[36m85\u001b[0m - \u001b[1mSet solar system ephemeris to de414 from download\u001b[0m\n",
      "\u001b[32m2025-02-03 07:51:40.597\u001b[0m | \u001b[1mINFO    \u001b[0m | \u001b[36mpint.solar_system_ephemerides\u001b[0m:\u001b[36m_load_kernel_link\u001b[0m:\u001b[36m85\u001b[0m - \u001b[1mSet solar system ephemeris to de414 from download\u001b[0m\n",
      "\u001b[32m2025-02-03 07:51:41.305\u001b[0m | \u001b[1mINFO    \u001b[0m | \u001b[36mpint.solar_system_ephemerides\u001b[0m:\u001b[36m_load_kernel_link\u001b[0m:\u001b[36m85\u001b[0m - \u001b[1mSet solar system ephemeris to de414 from download\u001b[0m\n",
      "\u001b[32m2025-02-03 07:51:42.013\u001b[0m | \u001b[1mINFO    \u001b[0m | \u001b[36mpint.solar_system_ephemerides\u001b[0m:\u001b[36m_load_kernel_link\u001b[0m:\u001b[36m85\u001b[0m - \u001b[1mSet solar system ephemeris to de414 from download\u001b[0m\n",
      "\u001b[32m2025-02-03 07:51:42.715\u001b[0m | \u001b[1mINFO    \u001b[0m | \u001b[36mpint.solar_system_ephemerides\u001b[0m:\u001b[36m_load_kernel_link\u001b[0m:\u001b[36m85\u001b[0m - \u001b[1mSet solar system ephemeris to de414 from download\u001b[0m\n",
      "\u001b[32m2025-02-03 07:51:43.423\u001b[0m | \u001b[1mINFO    \u001b[0m | \u001b[36mpint.solar_system_ephemerides\u001b[0m:\u001b[36m_load_kernel_link\u001b[0m:\u001b[36m85\u001b[0m - \u001b[1mSet solar system ephemeris to de414 from download\u001b[0m\n",
      "\u001b[32m2025-02-03 07:51:43.426\u001b[0m | \u001b[34m\u001b[1mDEBUG   \u001b[0m | \u001b[36mpint.toa\u001b[0m:\u001b[36mcompute_posvels\u001b[0m:\u001b[36m2438\u001b[0m - \u001b[34m\u001b[1mAdding columns ssb_obs_pos ssb_obs_vel obs_sun_pos obs_jupiter_pos obs_saturn_pos obs_venus_pos obs_uranus_pos obs_neptune_pos obs_earth_pos\u001b[0m\n",
      "\u001b[32m2025-02-03 07:51:43.428\u001b[0m | \u001b[34m\u001b[1mDEBUG   \u001b[0m | \u001b[36mpint.models.absolute_phase\u001b[0m:\u001b[36mget_TZR_toa\u001b[0m:\u001b[36m122\u001b[0m - \u001b[34m\u001b[1mDone with TZR_toa\u001b[0m\n",
      "/fred/oz022/tkimpson/conda_envs/test_enterprise/lib/python3.12/site-packages/pint/models/model_builder.py:225: UserWarning: Unrecognized parfile line 'EPHVER 5'\n",
      "  warnings.warn(f\"Unrecognized parfile line '{p_line}'\", UserWarning)\n",
      "\u001b[32m2025-02-03 07:51:43.668\u001b[0m | \u001b[33m\u001b[1mWARNING \u001b[0m | \u001b[36mpint.models.model_builder\u001b[0m:\u001b[36m__call__\u001b[0m:\u001b[36m229\u001b[0m - \u001b[33m\u001b[1mUNITS is not specified. Assuming TDB...\u001b[0m\n",
      "\u001b[32m2025-02-03 07:51:43.669\u001b[0m | \u001b[34m\u001b[1mDEBUG   \u001b[0m | \u001b[36mpint.toa\u001b[0m:\u001b[36mget_TOAs\u001b[0m:\u001b[36m195\u001b[0m - \u001b[34m\u001b[1mUsing EPHEM = DE414 from the given model\u001b[0m\n"
     ]
    },
    {
     "name": "stdout",
     "output_type": "stream",
     "text": [
      "../data/data_from_enterprise/mdc1/J0218+4232.par\n"
     ]
    },
    {
     "name": "stderr",
     "output_type": "stream",
     "text": [
      "\u001b[32m2025-02-03 07:51:43.716\u001b[0m | \u001b[34m\u001b[1mDEBUG   \u001b[0m | \u001b[36mpint.toa\u001b[0m:\u001b[36m__init__\u001b[0m:\u001b[36m1377\u001b[0m - \u001b[34m\u001b[1mNo pulse number flags found in the TOAs\u001b[0m\n",
      "\u001b[32m2025-02-03 07:51:43.718\u001b[0m | \u001b[34m\u001b[1mDEBUG   \u001b[0m | \u001b[36mpint.toa\u001b[0m:\u001b[36mapply_clock_corrections\u001b[0m:\u001b[36m2224\u001b[0m - \u001b[34m\u001b[1mApplying clock corrections (include_bipm = False)\u001b[0m\n",
      "\u001b[32m2025-02-03 07:51:43.726\u001b[0m | \u001b[1mINFO    \u001b[0m | \u001b[36mpint.observatory.topo_obs\u001b[0m:\u001b[36mclock_corrections\u001b[0m:\u001b[36m354\u001b[0m - \u001b[1mObservatory axis requires no clock corrections.\u001b[0m\n",
      "\u001b[32m2025-02-03 07:51:43.781\u001b[0m | \u001b[34m\u001b[1mDEBUG   \u001b[0m | \u001b[36mpint.toa\u001b[0m:\u001b[36mcompute_TDBs\u001b[0m:\u001b[36m2270\u001b[0m - \u001b[34m\u001b[1mComputing TDB columns.\u001b[0m\n",
      "\u001b[32m2025-02-03 07:51:43.781\u001b[0m | \u001b[34m\u001b[1mDEBUG   \u001b[0m | \u001b[36mpint.toa\u001b[0m:\u001b[36mcompute_TDBs\u001b[0m:\u001b[36m2291\u001b[0m - \u001b[34m\u001b[1mUsing EPHEM = DE414 for TDB calculation.\u001b[0m\n",
      "\u001b[32m2025-02-03 07:51:43.801\u001b[0m | \u001b[34m\u001b[1mDEBUG   \u001b[0m | \u001b[36mpint.toa\u001b[0m:\u001b[36mget_TOAs\u001b[0m:\u001b[36m310\u001b[0m - \u001b[34m\u001b[1mPlanet PosVels will be calculated.\u001b[0m\n",
      "\u001b[32m2025-02-03 07:51:43.801\u001b[0m | \u001b[34m\u001b[1mDEBUG   \u001b[0m | \u001b[36mpint.toa\u001b[0m:\u001b[36mcompute_posvels\u001b[0m:\u001b[36m2366\u001b[0m - \u001b[34m\u001b[1mComputing PosVels of observatories, Earth and planets, using DE414\u001b[0m\n",
      "\u001b[32m2025-02-03 07:51:44.516\u001b[0m | \u001b[1mINFO    \u001b[0m | \u001b[36mpint.solar_system_ephemerides\u001b[0m:\u001b[36m_load_kernel_link\u001b[0m:\u001b[36m85\u001b[0m - \u001b[1mSet solar system ephemeris to de414 from download\u001b[0m\n",
      "\u001b[32m2025-02-03 07:51:44.549\u001b[0m | \u001b[34m\u001b[1mDEBUG   \u001b[0m | \u001b[36mpint.toa\u001b[0m:\u001b[36mcompute_posvels\u001b[0m:\u001b[36m2424\u001b[0m - \u001b[34m\u001b[1mSSB obs pos [-1.16724229e+10  1.34138480e+11  5.81425370e+10] m\u001b[0m\n",
      "\u001b[32m2025-02-03 07:51:45.256\u001b[0m | \u001b[1mINFO    \u001b[0m | \u001b[36mpint.solar_system_ephemerides\u001b[0m:\u001b[36m_load_kernel_link\u001b[0m:\u001b[36m85\u001b[0m - \u001b[1mSet solar system ephemeris to de414 from download\u001b[0m\n",
      "\u001b[32m2025-02-03 07:51:45.964\u001b[0m | \u001b[1mINFO    \u001b[0m | \u001b[36mpint.solar_system_ephemerides\u001b[0m:\u001b[36m_load_kernel_link\u001b[0m:\u001b[36m85\u001b[0m - \u001b[1mSet solar system ephemeris to de414 from download\u001b[0m\n",
      "\u001b[32m2025-02-03 07:51:46.672\u001b[0m | \u001b[1mINFO    \u001b[0m | \u001b[36mpint.solar_system_ephemerides\u001b[0m:\u001b[36m_load_kernel_link\u001b[0m:\u001b[36m85\u001b[0m - \u001b[1mSet solar system ephemeris to de414 from download\u001b[0m\n",
      "\u001b[32m2025-02-03 07:51:47.380\u001b[0m | \u001b[1mINFO    \u001b[0m | \u001b[36mpint.solar_system_ephemerides\u001b[0m:\u001b[36m_load_kernel_link\u001b[0m:\u001b[36m85\u001b[0m - \u001b[1mSet solar system ephemeris to de414 from download\u001b[0m\n",
      "\u001b[32m2025-02-03 07:51:48.089\u001b[0m | \u001b[1mINFO    \u001b[0m | \u001b[36mpint.solar_system_ephemerides\u001b[0m:\u001b[36m_load_kernel_link\u001b[0m:\u001b[36m85\u001b[0m - \u001b[1mSet solar system ephemeris to de414 from download\u001b[0m\n",
      "\u001b[32m2025-02-03 07:51:48.798\u001b[0m | \u001b[1mINFO    \u001b[0m | \u001b[36mpint.solar_system_ephemerides\u001b[0m:\u001b[36m_load_kernel_link\u001b[0m:\u001b[36m85\u001b[0m - \u001b[1mSet solar system ephemeris to de414 from download\u001b[0m\n",
      "\u001b[32m2025-02-03 07:51:49.507\u001b[0m | \u001b[1mINFO    \u001b[0m | \u001b[36mpint.solar_system_ephemerides\u001b[0m:\u001b[36m_load_kernel_link\u001b[0m:\u001b[36m85\u001b[0m - \u001b[1mSet solar system ephemeris to de414 from download\u001b[0m\n",
      "\u001b[32m2025-02-03 07:51:49.509\u001b[0m | \u001b[34m\u001b[1mDEBUG   \u001b[0m | \u001b[36mpint.toa\u001b[0m:\u001b[36mcompute_posvels\u001b[0m:\u001b[36m2438\u001b[0m - \u001b[34m\u001b[1mAdding columns ssb_obs_pos ssb_obs_vel obs_sun_pos obs_jupiter_pos obs_saturn_pos obs_venus_pos obs_uranus_pos obs_neptune_pos obs_earth_pos\u001b[0m\n",
      "\u001b[32m2025-02-03 07:51:49.510\u001b[0m | \u001b[1mINFO    \u001b[0m | \u001b[36mpint.models.model_builder\u001b[0m:\u001b[36mget_model_and_toas\u001b[0m:\u001b[36m968\u001b[0m - \u001b[1mCreating a TZR TOA (AbsPhase) using the given TOAs object.\u001b[0m\n",
      "\u001b[32m2025-02-03 07:51:49.519\u001b[0m | \u001b[1mINFO    \u001b[0m | \u001b[36mpint.models.absolute_phase\u001b[0m:\u001b[36mvalidate\u001b[0m:\u001b[36m74\u001b[0m - \u001b[1mThe TZRSITE is set at the solar system barycenter.\u001b[0m\n",
      "\u001b[32m2025-02-03 07:51:49.520\u001b[0m | \u001b[1mINFO    \u001b[0m | \u001b[36mpint.models.absolute_phase\u001b[0m:\u001b[36mvalidate\u001b[0m:\u001b[36m78\u001b[0m - \u001b[1mTZRFRQ was 0.0 or None. Setting to infinite frequency.\u001b[0m\n",
      "\u001b[32m2025-02-03 07:51:49.539\u001b[0m | \u001b[34m\u001b[1mDEBUG   \u001b[0m | \u001b[36mpint.models.absolute_phase\u001b[0m:\u001b[36mget_TZR_toa\u001b[0m:\u001b[36m101\u001b[0m - \u001b[34m\u001b[1mCreating and dealing with the single TZR_toa for absolute phase\u001b[0m\n",
      "\u001b[32m2025-02-03 07:51:49.541\u001b[0m | \u001b[34m\u001b[1mDEBUG   \u001b[0m | \u001b[36mpint.toa\u001b[0m:\u001b[36m__init__\u001b[0m:\u001b[36m1377\u001b[0m - \u001b[34m\u001b[1mNo pulse number flags found in the TOAs\u001b[0m\n",
      "\u001b[32m2025-02-03 07:51:49.542\u001b[0m | \u001b[34m\u001b[1mDEBUG   \u001b[0m | \u001b[36mpint.toa\u001b[0m:\u001b[36mapply_clock_corrections\u001b[0m:\u001b[36m2224\u001b[0m - \u001b[34m\u001b[1mApplying clock corrections (include_bipm = False)\u001b[0m\n",
      "\u001b[32m2025-02-03 07:51:49.543\u001b[0m | \u001b[34m\u001b[1mDEBUG   \u001b[0m | \u001b[36mpint.toa\u001b[0m:\u001b[36mcompute_TDBs\u001b[0m:\u001b[36m2270\u001b[0m - \u001b[34m\u001b[1mComputing TDB columns.\u001b[0m\n",
      "\u001b[32m2025-02-03 07:51:49.544\u001b[0m | \u001b[34m\u001b[1mDEBUG   \u001b[0m | \u001b[36mpint.toa\u001b[0m:\u001b[36mcompute_TDBs\u001b[0m:\u001b[36m2291\u001b[0m - \u001b[34m\u001b[1mUsing EPHEM = DE414 for TDB calculation.\u001b[0m\n",
      "\u001b[32m2025-02-03 07:51:49.545\u001b[0m | \u001b[34m\u001b[1mDEBUG   \u001b[0m | \u001b[36mpint.toa\u001b[0m:\u001b[36mcompute_posvels\u001b[0m:\u001b[36m2366\u001b[0m - \u001b[34m\u001b[1mComputing PosVels of observatories, Earth and planets, using DE414\u001b[0m\n",
      "\u001b[32m2025-02-03 07:51:49.547\u001b[0m | \u001b[34m\u001b[1mDEBUG   \u001b[0m | \u001b[36mpint.toa\u001b[0m:\u001b[36mcompute_posvels\u001b[0m:\u001b[36m2424\u001b[0m - \u001b[34m\u001b[1mSSB obs pos [0. 0. 0.] m\u001b[0m\n",
      "\u001b[32m2025-02-03 07:51:50.254\u001b[0m | \u001b[1mINFO    \u001b[0m | \u001b[36mpint.solar_system_ephemerides\u001b[0m:\u001b[36m_load_kernel_link\u001b[0m:\u001b[36m85\u001b[0m - \u001b[1mSet solar system ephemeris to de414 from download\u001b[0m\n",
      "\u001b[32m2025-02-03 07:51:50.961\u001b[0m | \u001b[1mINFO    \u001b[0m | \u001b[36mpint.solar_system_ephemerides\u001b[0m:\u001b[36m_load_kernel_link\u001b[0m:\u001b[36m85\u001b[0m - \u001b[1mSet solar system ephemeris to de414 from download\u001b[0m\n",
      "\u001b[32m2025-02-03 07:51:51.668\u001b[0m | \u001b[1mINFO    \u001b[0m | \u001b[36mpint.solar_system_ephemerides\u001b[0m:\u001b[36m_load_kernel_link\u001b[0m:\u001b[36m85\u001b[0m - \u001b[1mSet solar system ephemeris to de414 from download\u001b[0m\n",
      "\u001b[32m2025-02-03 07:51:52.376\u001b[0m | \u001b[1mINFO    \u001b[0m | \u001b[36mpint.solar_system_ephemerides\u001b[0m:\u001b[36m_load_kernel_link\u001b[0m:\u001b[36m85\u001b[0m - \u001b[1mSet solar system ephemeris to de414 from download\u001b[0m\n",
      "\u001b[32m2025-02-03 07:51:53.084\u001b[0m | \u001b[1mINFO    \u001b[0m | \u001b[36mpint.solar_system_ephemerides\u001b[0m:\u001b[36m_load_kernel_link\u001b[0m:\u001b[36m85\u001b[0m - \u001b[1mSet solar system ephemeris to de414 from download\u001b[0m\n",
      "\u001b[32m2025-02-03 07:51:53.792\u001b[0m | \u001b[1mINFO    \u001b[0m | \u001b[36mpint.solar_system_ephemerides\u001b[0m:\u001b[36m_load_kernel_link\u001b[0m:\u001b[36m85\u001b[0m - \u001b[1mSet solar system ephemeris to de414 from download\u001b[0m\n",
      "\u001b[32m2025-02-03 07:51:54.542\u001b[0m | \u001b[1mINFO    \u001b[0m | \u001b[36mpint.solar_system_ephemerides\u001b[0m:\u001b[36m_load_kernel_link\u001b[0m:\u001b[36m85\u001b[0m - \u001b[1mSet solar system ephemeris to de414 from download\u001b[0m\n",
      "\u001b[32m2025-02-03 07:51:54.544\u001b[0m | \u001b[34m\u001b[1mDEBUG   \u001b[0m | \u001b[36mpint.toa\u001b[0m:\u001b[36mcompute_posvels\u001b[0m:\u001b[36m2438\u001b[0m - \u001b[34m\u001b[1mAdding columns ssb_obs_pos ssb_obs_vel obs_sun_pos obs_jupiter_pos obs_saturn_pos obs_venus_pos obs_uranus_pos obs_neptune_pos obs_earth_pos\u001b[0m\n",
      "\u001b[32m2025-02-03 07:51:54.545\u001b[0m | \u001b[34m\u001b[1mDEBUG   \u001b[0m | \u001b[36mpint.models.absolute_phase\u001b[0m:\u001b[36mget_TZR_toa\u001b[0m:\u001b[36m122\u001b[0m - \u001b[34m\u001b[1mDone with TZR_toa\u001b[0m\n",
      "WARNING: Could not find pulsar distance for PSR J0218+4232. Setting value to 1 with 20% uncertainty.\n",
      "/fred/oz022/tkimpson/conda_envs/test_enterprise/lib/python3.12/site-packages/pint/models/model_builder.py:225: UserWarning: Unrecognized parfile line 'EPHVER 5'\n",
      "  warnings.warn(f\"Unrecognized parfile line '{p_line}'\", UserWarning)\n",
      "\u001b[32m2025-02-03 07:51:54.908\u001b[0m | \u001b[33m\u001b[1mWARNING \u001b[0m | \u001b[36mpint.models.model_builder\u001b[0m:\u001b[36m__call__\u001b[0m:\u001b[36m229\u001b[0m - \u001b[33m\u001b[1mUNITS is not specified. Assuming TDB...\u001b[0m\n",
      "\u001b[32m2025-02-03 07:51:54.909\u001b[0m | \u001b[34m\u001b[1mDEBUG   \u001b[0m | \u001b[36mpint.toa\u001b[0m:\u001b[36mget_TOAs\u001b[0m:\u001b[36m195\u001b[0m - \u001b[34m\u001b[1mUsing EPHEM = DE414 from the given model\u001b[0m\n",
      "\u001b[32m2025-02-03 07:51:54.955\u001b[0m | \u001b[34m\u001b[1mDEBUG   \u001b[0m | \u001b[36mpint.toa\u001b[0m:\u001b[36m__init__\u001b[0m:\u001b[36m1377\u001b[0m - \u001b[34m\u001b[1mNo pulse number flags found in the TOAs\u001b[0m\n",
      "\u001b[32m2025-02-03 07:51:54.956\u001b[0m | \u001b[34m\u001b[1mDEBUG   \u001b[0m | \u001b[36mpint.toa\u001b[0m:\u001b[36mapply_clock_corrections\u001b[0m:\u001b[36m2224\u001b[0m - \u001b[34m\u001b[1mApplying clock corrections (include_bipm = False)\u001b[0m\n",
      "\u001b[32m2025-02-03 07:51:54.966\u001b[0m | \u001b[1mINFO    \u001b[0m | \u001b[36mpint.observatory.topo_obs\u001b[0m:\u001b[36mclock_corrections\u001b[0m:\u001b[36m354\u001b[0m - \u001b[1mObservatory axis requires no clock corrections.\u001b[0m\n",
      "\u001b[32m2025-02-03 07:51:55.013\u001b[0m | \u001b[34m\u001b[1mDEBUG   \u001b[0m | \u001b[36mpint.toa\u001b[0m:\u001b[36mcompute_TDBs\u001b[0m:\u001b[36m2270\u001b[0m - \u001b[34m\u001b[1mComputing TDB columns.\u001b[0m\n",
      "\u001b[32m2025-02-03 07:51:55.013\u001b[0m | \u001b[34m\u001b[1mDEBUG   \u001b[0m | \u001b[36mpint.toa\u001b[0m:\u001b[36mcompute_TDBs\u001b[0m:\u001b[36m2291\u001b[0m - \u001b[34m\u001b[1mUsing EPHEM = DE414 for TDB calculation.\u001b[0m\n",
      "\u001b[32m2025-02-03 07:51:55.030\u001b[0m | \u001b[34m\u001b[1mDEBUG   \u001b[0m | \u001b[36mpint.toa\u001b[0m:\u001b[36mget_TOAs\u001b[0m:\u001b[36m310\u001b[0m - \u001b[34m\u001b[1mPlanet PosVels will be calculated.\u001b[0m\n",
      "\u001b[32m2025-02-03 07:51:55.031\u001b[0m | \u001b[34m\u001b[1mDEBUG   \u001b[0m | \u001b[36mpint.toa\u001b[0m:\u001b[36mcompute_posvels\u001b[0m:\u001b[36m2366\u001b[0m - \u001b[34m\u001b[1mComputing PosVels of observatories, Earth and planets, using DE414\u001b[0m\n"
     ]
    },
    {
     "name": "stdout",
     "output_type": "stream",
     "text": [
      "../data/data_from_enterprise/mdc1/J0437-4715.par\n"
     ]
    },
    {
     "name": "stderr",
     "output_type": "stream",
     "text": [
      "\u001b[32m2025-02-03 07:51:55.742\u001b[0m | \u001b[1mINFO    \u001b[0m | \u001b[36mpint.solar_system_ephemerides\u001b[0m:\u001b[36m_load_kernel_link\u001b[0m:\u001b[36m85\u001b[0m - \u001b[1mSet solar system ephemeris to de414 from download\u001b[0m\n",
      "\u001b[32m2025-02-03 07:51:55.768\u001b[0m | \u001b[34m\u001b[1mDEBUG   \u001b[0m | \u001b[36mpint.toa\u001b[0m:\u001b[36mcompute_posvels\u001b[0m:\u001b[36m2424\u001b[0m - \u001b[34m\u001b[1mSSB obs pos [-1.16724229e+10  1.34138480e+11  5.81425370e+10] m\u001b[0m\n",
      "\u001b[32m2025-02-03 07:51:56.474\u001b[0m | \u001b[1mINFO    \u001b[0m | \u001b[36mpint.solar_system_ephemerides\u001b[0m:\u001b[36m_load_kernel_link\u001b[0m:\u001b[36m85\u001b[0m - \u001b[1mSet solar system ephemeris to de414 from download\u001b[0m\n",
      "\u001b[32m2025-02-03 07:51:57.182\u001b[0m | \u001b[1mINFO    \u001b[0m | \u001b[36mpint.solar_system_ephemerides\u001b[0m:\u001b[36m_load_kernel_link\u001b[0m:\u001b[36m85\u001b[0m - \u001b[1mSet solar system ephemeris to de414 from download\u001b[0m\n",
      "\u001b[32m2025-02-03 07:51:57.889\u001b[0m | \u001b[1mINFO    \u001b[0m | \u001b[36mpint.solar_system_ephemerides\u001b[0m:\u001b[36m_load_kernel_link\u001b[0m:\u001b[36m85\u001b[0m - \u001b[1mSet solar system ephemeris to de414 from download\u001b[0m\n",
      "\u001b[32m2025-02-03 07:51:58.590\u001b[0m | \u001b[1mINFO    \u001b[0m | \u001b[36mpint.solar_system_ephemerides\u001b[0m:\u001b[36m_load_kernel_link\u001b[0m:\u001b[36m85\u001b[0m - \u001b[1mSet solar system ephemeris to de414 from download\u001b[0m\n",
      "\u001b[32m2025-02-03 07:51:59.299\u001b[0m | \u001b[1mINFO    \u001b[0m | \u001b[36mpint.solar_system_ephemerides\u001b[0m:\u001b[36m_load_kernel_link\u001b[0m:\u001b[36m85\u001b[0m - \u001b[1mSet solar system ephemeris to de414 from download\u001b[0m\n",
      "\u001b[32m2025-02-03 07:52:00.008\u001b[0m | \u001b[1mINFO    \u001b[0m | \u001b[36mpint.solar_system_ephemerides\u001b[0m:\u001b[36m_load_kernel_link\u001b[0m:\u001b[36m85\u001b[0m - \u001b[1mSet solar system ephemeris to de414 from download\u001b[0m\n",
      "\u001b[32m2025-02-03 07:52:00.716\u001b[0m | \u001b[1mINFO    \u001b[0m | \u001b[36mpint.solar_system_ephemerides\u001b[0m:\u001b[36m_load_kernel_link\u001b[0m:\u001b[36m85\u001b[0m - \u001b[1mSet solar system ephemeris to de414 from download\u001b[0m\n",
      "\u001b[32m2025-02-03 07:52:00.719\u001b[0m | \u001b[34m\u001b[1mDEBUG   \u001b[0m | \u001b[36mpint.toa\u001b[0m:\u001b[36mcompute_posvels\u001b[0m:\u001b[36m2438\u001b[0m - \u001b[34m\u001b[1mAdding columns ssb_obs_pos ssb_obs_vel obs_sun_pos obs_jupiter_pos obs_saturn_pos obs_venus_pos obs_uranus_pos obs_neptune_pos obs_earth_pos\u001b[0m\n",
      "\u001b[32m2025-02-03 07:52:00.720\u001b[0m | \u001b[1mINFO    \u001b[0m | \u001b[36mpint.models.model_builder\u001b[0m:\u001b[36mget_model_and_toas\u001b[0m:\u001b[36m968\u001b[0m - \u001b[1mCreating a TZR TOA (AbsPhase) using the given TOAs object.\u001b[0m\n",
      "\u001b[32m2025-02-03 07:52:00.729\u001b[0m | \u001b[1mINFO    \u001b[0m | \u001b[36mpint.models.absolute_phase\u001b[0m:\u001b[36mvalidate\u001b[0m:\u001b[36m74\u001b[0m - \u001b[1mThe TZRSITE is set at the solar system barycenter.\u001b[0m\n",
      "\u001b[32m2025-02-03 07:52:00.730\u001b[0m | \u001b[1mINFO    \u001b[0m | \u001b[36mpint.models.absolute_phase\u001b[0m:\u001b[36mvalidate\u001b[0m:\u001b[36m78\u001b[0m - \u001b[1mTZRFRQ was 0.0 or None. Setting to infinite frequency.\u001b[0m\n",
      "\u001b[32m2025-02-03 07:52:00.751\u001b[0m | \u001b[34m\u001b[1mDEBUG   \u001b[0m | \u001b[36mpint.models.absolute_phase\u001b[0m:\u001b[36mget_TZR_toa\u001b[0m:\u001b[36m101\u001b[0m - \u001b[34m\u001b[1mCreating and dealing with the single TZR_toa for absolute phase\u001b[0m\n",
      "\u001b[32m2025-02-03 07:52:00.754\u001b[0m | \u001b[34m\u001b[1mDEBUG   \u001b[0m | \u001b[36mpint.toa\u001b[0m:\u001b[36m__init__\u001b[0m:\u001b[36m1377\u001b[0m - \u001b[34m\u001b[1mNo pulse number flags found in the TOAs\u001b[0m\n",
      "\u001b[32m2025-02-03 07:52:00.755\u001b[0m | \u001b[34m\u001b[1mDEBUG   \u001b[0m | \u001b[36mpint.toa\u001b[0m:\u001b[36mapply_clock_corrections\u001b[0m:\u001b[36m2224\u001b[0m - \u001b[34m\u001b[1mApplying clock corrections (include_bipm = False)\u001b[0m\n",
      "\u001b[32m2025-02-03 07:52:00.756\u001b[0m | \u001b[34m\u001b[1mDEBUG   \u001b[0m | \u001b[36mpint.toa\u001b[0m:\u001b[36mcompute_TDBs\u001b[0m:\u001b[36m2270\u001b[0m - \u001b[34m\u001b[1mComputing TDB columns.\u001b[0m\n",
      "\u001b[32m2025-02-03 07:52:00.757\u001b[0m | \u001b[34m\u001b[1mDEBUG   \u001b[0m | \u001b[36mpint.toa\u001b[0m:\u001b[36mcompute_TDBs\u001b[0m:\u001b[36m2291\u001b[0m - \u001b[34m\u001b[1mUsing EPHEM = DE414 for TDB calculation.\u001b[0m\n",
      "\u001b[32m2025-02-03 07:52:00.758\u001b[0m | \u001b[34m\u001b[1mDEBUG   \u001b[0m | \u001b[36mpint.toa\u001b[0m:\u001b[36mcompute_posvels\u001b[0m:\u001b[36m2366\u001b[0m - \u001b[34m\u001b[1mComputing PosVels of observatories, Earth and planets, using DE414\u001b[0m\n",
      "\u001b[32m2025-02-03 07:52:00.760\u001b[0m | \u001b[34m\u001b[1mDEBUG   \u001b[0m | \u001b[36mpint.toa\u001b[0m:\u001b[36mcompute_posvels\u001b[0m:\u001b[36m2424\u001b[0m - \u001b[34m\u001b[1mSSB obs pos [0. 0. 0.] m\u001b[0m\n",
      "\u001b[32m2025-02-03 07:52:01.467\u001b[0m | \u001b[1mINFO    \u001b[0m | \u001b[36mpint.solar_system_ephemerides\u001b[0m:\u001b[36m_load_kernel_link\u001b[0m:\u001b[36m85\u001b[0m - \u001b[1mSet solar system ephemeris to de414 from download\u001b[0m\n",
      "\u001b[32m2025-02-03 07:52:02.175\u001b[0m | \u001b[1mINFO    \u001b[0m | \u001b[36mpint.solar_system_ephemerides\u001b[0m:\u001b[36m_load_kernel_link\u001b[0m:\u001b[36m85\u001b[0m - \u001b[1mSet solar system ephemeris to de414 from download\u001b[0m\n",
      "\u001b[32m2025-02-03 07:52:03.016\u001b[0m | \u001b[1mINFO    \u001b[0m | \u001b[36mpint.solar_system_ephemerides\u001b[0m:\u001b[36m_load_kernel_link\u001b[0m:\u001b[36m85\u001b[0m - \u001b[1mSet solar system ephemeris to de414 from download\u001b[0m\n",
      "\u001b[32m2025-02-03 07:52:03.725\u001b[0m | \u001b[1mINFO    \u001b[0m | \u001b[36mpint.solar_system_ephemerides\u001b[0m:\u001b[36m_load_kernel_link\u001b[0m:\u001b[36m85\u001b[0m - \u001b[1mSet solar system ephemeris to de414 from download\u001b[0m\n",
      "\u001b[32m2025-02-03 07:52:04.432\u001b[0m | \u001b[1mINFO    \u001b[0m | \u001b[36mpint.solar_system_ephemerides\u001b[0m:\u001b[36m_load_kernel_link\u001b[0m:\u001b[36m85\u001b[0m - \u001b[1mSet solar system ephemeris to de414 from download\u001b[0m\n",
      "\u001b[32m2025-02-03 07:52:05.141\u001b[0m | \u001b[1mINFO    \u001b[0m | \u001b[36mpint.solar_system_ephemerides\u001b[0m:\u001b[36m_load_kernel_link\u001b[0m:\u001b[36m85\u001b[0m - \u001b[1mSet solar system ephemeris to de414 from download\u001b[0m\n",
      "\u001b[32m2025-02-03 07:52:05.848\u001b[0m | \u001b[1mINFO    \u001b[0m | \u001b[36mpint.solar_system_ephemerides\u001b[0m:\u001b[36m_load_kernel_link\u001b[0m:\u001b[36m85\u001b[0m - \u001b[1mSet solar system ephemeris to de414 from download\u001b[0m\n",
      "\u001b[32m2025-02-03 07:52:05.850\u001b[0m | \u001b[34m\u001b[1mDEBUG   \u001b[0m | \u001b[36mpint.toa\u001b[0m:\u001b[36mcompute_posvels\u001b[0m:\u001b[36m2438\u001b[0m - \u001b[34m\u001b[1mAdding columns ssb_obs_pos ssb_obs_vel obs_sun_pos obs_jupiter_pos obs_saturn_pos obs_venus_pos obs_uranus_pos obs_neptune_pos obs_earth_pos\u001b[0m\n",
      "\u001b[32m2025-02-03 07:52:05.851\u001b[0m | \u001b[34m\u001b[1mDEBUG   \u001b[0m | \u001b[36mpint.models.absolute_phase\u001b[0m:\u001b[36mget_TZR_toa\u001b[0m:\u001b[36m122\u001b[0m - \u001b[34m\u001b[1mDone with TZR_toa\u001b[0m\n",
      "\u001b[32m2025-02-03 07:52:06.568\u001b[0m | \u001b[31m\u001b[1mERROR   \u001b[0m | \u001b[36mpint.models.model_builder\u001b[0m:\u001b[36mchoose_binary_model\u001b[0m:\u001b[36m638\u001b[0m - \u001b[31m\u001b[1mCould not find binary model T2\u001b[0m\n",
      "\u001b[32m2025-02-03 07:52:06.568\u001b[0m | \u001b[1mINFO    \u001b[0m | \u001b[36mpint.models.model_builder\u001b[0m:\u001b[36mchoose_binary_model\u001b[0m:\u001b[36m640\u001b[0m - \u001b[1mCompatible models with these parameters: BT, BT_piecewise, DD, DDK, DDGR, DDS, DDH.\u001b[0m\n"
     ]
    },
    {
     "name": "stdout",
     "output_type": "stream",
     "text": [
      "../data/data_from_enterprise/mdc1/J0613-0200.par\n"
     ]
    },
    {
     "ename": "UnknownBinaryModel",
     "evalue": "Pulsar system/Binary model component T2 is not provided. Perhaps use BT?",
     "output_type": "error",
     "traceback": [
      "\u001b[0;31m---------------------------------------------------------------------------\u001b[0m",
      "\u001b[0;31mUnknownBinaryModel\u001b[0m                        Traceback (most recent call last)",
      "Cell \u001b[0;32mIn[5], line 4\u001b[0m\n\u001b[1;32m      2\u001b[0m \u001b[38;5;28;01mfor\u001b[39;00m p, t \u001b[38;5;129;01min\u001b[39;00m \u001b[38;5;28mzip\u001b[39m(parfiles, timfiles):\n\u001b[1;32m      3\u001b[0m     \u001b[38;5;28mprint\u001b[39m(p)\n\u001b[0;32m----> 4\u001b[0m     psr \u001b[38;5;241m=\u001b[39m \u001b[43menterprise_pulsar\u001b[49m\u001b[43m(\u001b[49m\u001b[43mp\u001b[49m\u001b[43m,\u001b[49m\u001b[43m \u001b[49m\u001b[43mt\u001b[49m\u001b[43m,\u001b[49m\u001b[43mtiming_package\u001b[49m\u001b[38;5;241;43m=\u001b[39;49m\u001b[38;5;124;43m\"\u001b[39;49m\u001b[38;5;124;43mpint\u001b[39;49m\u001b[38;5;124;43m\"\u001b[39;49m\u001b[43m)\u001b[49m\n\u001b[1;32m      5\u001b[0m     psrs\u001b[38;5;241m.\u001b[39mappend(psr)\n",
      "File \u001b[0;32m/fred/oz022/tkimpson/conda_envs/test_enterprise/lib/python3.12/site-packages/enterprise/pulsar.py:729\u001b[0m, in \u001b[0;36mPulsar\u001b[0;34m(*args, **kwargs)\u001b[0m\n\u001b[1;32m    727\u001b[0m \u001b[38;5;28;01mif\u001b[39;00m (clk \u001b[38;5;129;01mis\u001b[39;00m \u001b[38;5;129;01mnot\u001b[39;00m \u001b[38;5;28;01mNone\u001b[39;00m) \u001b[38;5;129;01mand\u001b[39;00m (bipm_version \u001b[38;5;129;01mis\u001b[39;00m \u001b[38;5;28;01mNone\u001b[39;00m):\n\u001b[1;32m    728\u001b[0m     bipm_version \u001b[38;5;241m=\u001b[39m clk\u001b[38;5;241m.\u001b[39msplit(\u001b[38;5;124m\"\u001b[39m\u001b[38;5;124m(\u001b[39m\u001b[38;5;124m\"\u001b[39m)[\u001b[38;5;241m1\u001b[39m][:\u001b[38;5;241m-\u001b[39m\u001b[38;5;241m1\u001b[39m]\n\u001b[0;32m--> 729\u001b[0m model, toas \u001b[38;5;241m=\u001b[39m \u001b[43mget_model_and_toas\u001b[49m\u001b[43m(\u001b[49m\n\u001b[1;32m    730\u001b[0m \u001b[43m    \u001b[49m\u001b[43mrelparfile\u001b[49m\u001b[43m,\u001b[49m\u001b[43m \u001b[49m\u001b[43mreltimfile\u001b[49m\u001b[43m,\u001b[49m\u001b[43m \u001b[49m\u001b[43mephem\u001b[49m\u001b[38;5;241;43m=\u001b[39;49m\u001b[43mephem\u001b[49m\u001b[43m,\u001b[49m\u001b[43m \u001b[49m\u001b[43mbipm_version\u001b[49m\u001b[38;5;241;43m=\u001b[39;49m\u001b[43mbipm_version\u001b[49m\u001b[43m,\u001b[49m\u001b[43m \u001b[49m\u001b[43mplanets\u001b[49m\u001b[38;5;241;43m=\u001b[39;49m\u001b[43mplanets\u001b[49m\n\u001b[1;32m    731\u001b[0m \u001b[43m\u001b[49m\u001b[43m)\u001b[49m\n\u001b[1;32m    732\u001b[0m os\u001b[38;5;241m.\u001b[39mchdir(cwd)\n\u001b[1;32m    733\u001b[0m \u001b[38;5;28;01mreturn\u001b[39;00m PintPulsar(toas, model, sort\u001b[38;5;241m=\u001b[39msort, drop_pintpsr\u001b[38;5;241m=\u001b[39mdrop_pintpsr, planets\u001b[38;5;241m=\u001b[39mplanets)\n",
      "File \u001b[0;32m/fred/oz022/tkimpson/conda_envs/test_enterprise/lib/python3.12/site-packages/pint/models/model_builder.py:944\u001b[0m, in \u001b[0;36mget_model_and_toas\u001b[0;34m(parfile, timfile, ephem, include_bipm, bipm_version, planets, usepickle, tdb_method, include_pn, picklefilename, allow_name_mixing, limits, allow_tcb, allow_T2, force_binary_model, add_tzr_to_model, **kwargs)\u001b[0m\n\u001b[1;32m    863\u001b[0m \u001b[38;5;28;01mdef\u001b[39;00m\u001b[38;5;250m \u001b[39m\u001b[38;5;21mget_model_and_toas\u001b[39m(\n\u001b[1;32m    864\u001b[0m     parfile: file_like,\n\u001b[1;32m    865\u001b[0m     timfile: file_like,\n\u001b[0;32m   (...)\u001b[0m\n\u001b[1;32m    880\u001b[0m     \u001b[38;5;241m*\u001b[39m\u001b[38;5;241m*\u001b[39mkwargs,\n\u001b[1;32m    881\u001b[0m ) \u001b[38;5;241m-\u001b[39m\u001b[38;5;241m>\u001b[39m Tuple[TimingModel, TOAs]:\n\u001b[1;32m    882\u001b[0m \u001b[38;5;250m    \u001b[39m\u001b[38;5;124;03m\"\"\"Load a timing model and a related TOAs, using model commands as needed\u001b[39;00m\n\u001b[1;32m    883\u001b[0m \n\u001b[1;32m    884\u001b[0m \u001b[38;5;124;03m    Parameters\u001b[39;00m\n\u001b[0;32m   (...)\u001b[0m\n\u001b[1;32m    941\u001b[0m \u001b[38;5;124;03m    A tuple with (model instance, TOAs instance)\u001b[39;00m\n\u001b[1;32m    942\u001b[0m \u001b[38;5;124;03m    \"\"\"\u001b[39;00m\n\u001b[0;32m--> 944\u001b[0m     mm \u001b[38;5;241m=\u001b[39m \u001b[43mget_model\u001b[49m\u001b[43m(\u001b[49m\n\u001b[1;32m    945\u001b[0m \u001b[43m        \u001b[49m\u001b[43mparfile\u001b[49m\u001b[43m,\u001b[49m\n\u001b[1;32m    946\u001b[0m \u001b[43m        \u001b[49m\u001b[43mallow_name_mixing\u001b[49m\u001b[43m,\u001b[49m\n\u001b[1;32m    947\u001b[0m \u001b[43m        \u001b[49m\u001b[43mallow_tcb\u001b[49m\u001b[38;5;241;43m=\u001b[39;49m\u001b[43mallow_tcb\u001b[49m\u001b[43m,\u001b[49m\n\u001b[1;32m    948\u001b[0m \u001b[43m        \u001b[49m\u001b[43mallow_T2\u001b[49m\u001b[38;5;241;43m=\u001b[39;49m\u001b[43mallow_T2\u001b[49m\u001b[43m,\u001b[49m\n\u001b[1;32m    949\u001b[0m \u001b[43m        \u001b[49m\u001b[43mforce_binary_model\u001b[49m\u001b[38;5;241;43m=\u001b[39;49m\u001b[43mforce_binary_model\u001b[49m\u001b[43m,\u001b[49m\n\u001b[1;32m    950\u001b[0m \u001b[43m        \u001b[49m\u001b[38;5;241;43m*\u001b[39;49m\u001b[38;5;241;43m*\u001b[39;49m\u001b[43mkwargs\u001b[49m\u001b[43m,\u001b[49m\n\u001b[1;32m    951\u001b[0m \u001b[43m    \u001b[49m\u001b[43m)\u001b[49m\n\u001b[1;32m    953\u001b[0m     tt \u001b[38;5;241m=\u001b[39m get_TOAs(\n\u001b[1;32m    954\u001b[0m         timfile,\n\u001b[1;32m    955\u001b[0m         include_pn\u001b[38;5;241m=\u001b[39minclude_pn,\n\u001b[0;32m   (...)\u001b[0m\n\u001b[1;32m    964\u001b[0m         limits\u001b[38;5;241m=\u001b[39mlimits,\n\u001b[1;32m    965\u001b[0m     )\n\u001b[1;32m    967\u001b[0m     \u001b[38;5;28;01mif\u001b[39;00m \u001b[38;5;124m\"\u001b[39m\u001b[38;5;124mAbsPhase\u001b[39m\u001b[38;5;124m\"\u001b[39m \u001b[38;5;129;01mnot\u001b[39;00m \u001b[38;5;129;01min\u001b[39;00m mm\u001b[38;5;241m.\u001b[39mcomponents \u001b[38;5;129;01mand\u001b[39;00m add_tzr_to_model:\n",
      "File \u001b[0;32m/fred/oz022/tkimpson/conda_envs/test_enterprise/lib/python3.12/site-packages/pint/models/model_builder.py:848\u001b[0m, in \u001b[0;36mget_model\u001b[0;34m(parfile, allow_name_mixing, allow_tcb, allow_T2, force_binary_model, toas_for_tzr, **kwargs)\u001b[0m\n\u001b[1;32m    835\u001b[0m     \u001b[38;5;28;01mreturn\u001b[39;00m model_builder(\n\u001b[1;32m    836\u001b[0m         StringIO(contents),\n\u001b[1;32m    837\u001b[0m         allow_name_mixing,\n\u001b[0;32m   (...)\u001b[0m\n\u001b[1;32m    842\u001b[0m         \u001b[38;5;241m*\u001b[39m\u001b[38;5;241m*\u001b[39mkwargs,\n\u001b[1;32m    843\u001b[0m     )\n\u001b[1;32m    845\u001b[0m \u001b[38;5;66;03m# # parfile is a filename and can be handled by ModelBuilder\u001b[39;00m\n\u001b[1;32m    846\u001b[0m \u001b[38;5;66;03m# if _model_builder is None:\u001b[39;00m\n\u001b[1;32m    847\u001b[0m \u001b[38;5;66;03m#     _model_builder = ModelBuilder()\u001b[39;00m\n\u001b[0;32m--> 848\u001b[0m model \u001b[38;5;241m=\u001b[39m \u001b[43mmodel_builder\u001b[49m\u001b[43m(\u001b[49m\n\u001b[1;32m    849\u001b[0m \u001b[43m    \u001b[49m\u001b[43mparfile\u001b[49m\u001b[43m,\u001b[49m\n\u001b[1;32m    850\u001b[0m \u001b[43m    \u001b[49m\u001b[43mallow_name_mixing\u001b[49m\u001b[43m,\u001b[49m\n\u001b[1;32m    851\u001b[0m \u001b[43m    \u001b[49m\u001b[43mallow_tcb\u001b[49m\u001b[38;5;241;43m=\u001b[39;49m\u001b[43mallow_tcb\u001b[49m\u001b[43m,\u001b[49m\n\u001b[1;32m    852\u001b[0m \u001b[43m    \u001b[49m\u001b[43mallow_T2\u001b[49m\u001b[38;5;241;43m=\u001b[39;49m\u001b[43mallow_T2\u001b[49m\u001b[43m,\u001b[49m\n\u001b[1;32m    853\u001b[0m \u001b[43m    \u001b[49m\u001b[43mforce_binary_model\u001b[49m\u001b[38;5;241;43m=\u001b[39;49m\u001b[43mforce_binary_model\u001b[49m\u001b[43m,\u001b[49m\n\u001b[1;32m    854\u001b[0m \u001b[43m    \u001b[49m\u001b[43mtoas_for_tzr\u001b[49m\u001b[38;5;241;43m=\u001b[39;49m\u001b[43mtoas_for_tzr\u001b[49m\u001b[43m,\u001b[49m\n\u001b[1;32m    855\u001b[0m \u001b[43m    \u001b[49m\u001b[38;5;241;43m*\u001b[39;49m\u001b[38;5;241;43m*\u001b[39;49m\u001b[43mkwargs\u001b[49m\u001b[43m,\u001b[49m\n\u001b[1;32m    856\u001b[0m \u001b[43m\u001b[49m\u001b[43m)\u001b[49m\n\u001b[1;32m    857\u001b[0m model\u001b[38;5;241m.\u001b[39mname \u001b[38;5;241m=\u001b[39m parfile\n\u001b[1;32m    858\u001b[0m model\u001b[38;5;241m.\u001b[39mmeta[\u001b[38;5;124m\"\u001b[39m\u001b[38;5;124moriginal_name\u001b[39m\u001b[38;5;124m\"\u001b[39m] \u001b[38;5;241m=\u001b[39m parfile\n",
      "File \u001b[0;32m/fred/oz022/tkimpson/conda_envs/test_enterprise/lib/python3.12/site-packages/pint/models/model_builder.py:196\u001b[0m, in \u001b[0;36mModelBuilder.__call__\u001b[0;34m(self, parfile, allow_name_mixing, allow_tcb, allow_T2, force_binary_model, toas_for_tzr, **kwargs)\u001b[0m\n\u001b[1;32m    194\u001b[0m     \u001b[38;5;28;01melse\u001b[39;00m:\n\u001b[1;32m    195\u001b[0m         remaining_args[k] \u001b[38;5;241m=\u001b[39m v\n\u001b[0;32m--> 196\u001b[0m selected, conflict, param_not_in_pint \u001b[38;5;241m=\u001b[39m \u001b[38;5;28;43mself\u001b[39;49m\u001b[38;5;241;43m.\u001b[39;49m\u001b[43mchoose_model\u001b[49m\u001b[43m(\u001b[49m\n\u001b[1;32m    197\u001b[0m \u001b[43m    \u001b[49m\u001b[43mpint_param_dict\u001b[49m\u001b[43m,\u001b[49m\u001b[43m \u001b[49m\u001b[43mforce_binary_model\u001b[49m\u001b[38;5;241;43m=\u001b[39;49m\u001b[43mforce_binary_model\u001b[49m\u001b[43m,\u001b[49m\u001b[43m \u001b[49m\u001b[43mallow_T2\u001b[49m\u001b[38;5;241;43m=\u001b[39;49m\u001b[43mallow_T2\u001b[49m\n\u001b[1;32m    198\u001b[0m \u001b[43m\u001b[49m\u001b[43m)\u001b[49m\n\u001b[1;32m    199\u001b[0m selected\u001b[38;5;241m.\u001b[39mupdate(\u001b[38;5;28mset\u001b[39m(\u001b[38;5;28mself\u001b[39m\u001b[38;5;241m.\u001b[39mdefault_components))\n\u001b[1;32m    201\u001b[0m \u001b[38;5;66;03m# Add SolarSystemShapiro only if an Astrometry component is present.\u001b[39;00m\n",
      "File \u001b[0;32m/fred/oz022/tkimpson/conda_envs/test_enterprise/lib/python3.12/site-packages/pint/models/model_builder.py:493\u001b[0m, in \u001b[0;36mModelBuilder.choose_model\u001b[0;34m(self, param_inpar, force_binary_model, allow_T2)\u001b[0m\n\u001b[1;32m    490\u001b[0m \u001b[38;5;28;01mif\u001b[39;00m binary:\n\u001b[1;32m    491\u001b[0m     binary \u001b[38;5;241m=\u001b[39m binary[\u001b[38;5;241m0\u001b[39m]\n\u001b[1;32m    492\u001b[0m     selected_components\u001b[38;5;241m.\u001b[39madd(\n\u001b[0;32m--> 493\u001b[0m         \u001b[38;5;28;43mself\u001b[39;49m\u001b[38;5;241;43m.\u001b[39;49m\u001b[43mchoose_binary_model\u001b[49m\u001b[43m(\u001b[49m\u001b[43mparam_inpar\u001b[49m\u001b[43m,\u001b[49m\u001b[43m \u001b[49m\u001b[43mforce_binary_model\u001b[49m\u001b[43m,\u001b[49m\u001b[43m \u001b[49m\u001b[43mallow_T2\u001b[49m\u001b[43m)\u001b[49m\n\u001b[1;32m    494\u001b[0m     )\n\u001b[1;32m    496\u001b[0m \u001b[38;5;66;03m# 2. Get the component list from the parameters in the parfile.\u001b[39;00m\n\u001b[1;32m    497\u001b[0m \u001b[38;5;66;03m# 2.1 Check the aliases of input parameters.\u001b[39;00m\n\u001b[1;32m    498\u001b[0m \u001b[38;5;66;03m# This does not include the repeating parameters, but it should not\u001b[39;00m\n\u001b[1;32m    499\u001b[0m \u001b[38;5;66;03m# matter in the component selection.\u001b[39;00m\n\u001b[1;32m    500\u001b[0m param_not_in_pint \u001b[38;5;241m=\u001b[39m []  \u001b[38;5;66;03m# For parameters not initialized in PINT yet.\u001b[39;00m\n",
      "File \u001b[0;32m/fred/oz022/tkimpson/conda_envs/test_enterprise/lib/python3.12/site-packages/pint/models/model_builder.py:646\u001b[0m, in \u001b[0;36mModelBuilder.choose_binary_model\u001b[0;34m(self, param_inpar, force_binary_model, allow_T2)\u001b[0m\n\u001b[1;32m    644\u001b[0m     \u001b[38;5;66;03m# Re-raise the error, with an added guess for the binary model if we have one\u001b[39;00m\n\u001b[1;32m    645\u001b[0m     \u001b[38;5;28;01mif\u001b[39;00m binary_model_guesses:\n\u001b[0;32m--> 646\u001b[0m         \u001b[38;5;28;01mraise\u001b[39;00m UnknownBinaryModel(\n\u001b[1;32m    647\u001b[0m             \u001b[38;5;28mstr\u001b[39m(e), suggestion\u001b[38;5;241m=\u001b[39mbinary_model_guesses[\u001b[38;5;241m0\u001b[39m]\n\u001b[1;32m    648\u001b[0m         ) \u001b[38;5;28;01mfrom\u001b[39;00m\u001b[38;5;250m \u001b[39m\u001b[38;5;28;01mNone\u001b[39;00m\n\u001b[1;32m    649\u001b[0m     \u001b[38;5;28;01mraise\u001b[39;00m\n\u001b[1;32m    651\u001b[0m \u001b[38;5;28;01mreturn\u001b[39;00m binary_cp\u001b[38;5;241m.\u001b[39m\u001b[38;5;18m__class__\u001b[39m\u001b[38;5;241m.\u001b[39m\u001b[38;5;18m__name__\u001b[39m\n",
      "\u001b[0;31mUnknownBinaryModel\u001b[0m: Pulsar system/Binary model component T2 is not provided. Perhaps use BT?"
     ]
    }
   ],
   "source": [
    "psrs = []\n",
    "for p, t in zip(parfiles, timfiles):\n",
    "    print(p)\n",
    "    psr = enterprise_pulsar(p, t,timing_package=\"pint\")\n",
    "    psrs.append(psr)\n"
   ]
  },
  {
   "cell_type": "code",
   "execution_count": null,
   "metadata": {},
   "outputs": [],
   "source": []
  }
 ],
 "metadata": {
  "kernelspec": {
   "display_name": "test_enterprise",
   "language": "python",
   "name": "python3"
  },
  "language_info": {
   "codemirror_mode": {
    "name": "ipython",
    "version": 3
   },
   "file_extension": ".py",
   "mimetype": "text/x-python",
   "name": "python",
   "nbconvert_exporter": "python",
   "pygments_lexer": "ipython3",
   "version": "3.12.8"
  }
 },
 "nbformat": 4,
 "nbformat_minor": 2
}
