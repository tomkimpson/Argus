{
 "cells": [
  {
   "cell_type": "markdown",
   "metadata": {},
   "source": [
    "## Run on Mock Data Challenge\n",
    "\n",
    "This notebook looks at how to run state-space algorithms on data from the [IPTA Mock Data Challenge](https://web.archive.org/web/20130108011819/http://www.ipta4gw.org/?page_id=126). See also [https://github.com/nanograv/mdc1](https://github.com/nanograv/mdc1) and https://github.com/ipta/mdc2\n",
    "\n",
    "\n",
    "It uses some of the methods in `explore_how_minnow_works.ipynb`, but uses exclusively single band data (i.e. TOAs recorded at a single observing radio frequency), in keeping with the single band data provided by the MDC.\n",
    "\n",
    "---"
   ]
  },
  {
   "cell_type": "markdown",
   "metadata": {},
   "source": [
    "For all that follows we will assume that there is just a single pulsar, $N_{\\rm psr} =1$. The extension to general $N_{\\rm psr}$ should be straightforward. "
   ]
  },
  {
   "cell_type": "markdown",
   "metadata": {},
   "source": [
    "For the purposes of running state-space algorithms, we need to define the following:\n",
    "\n",
    "* $\\boldsymbol{X}$ : the state vector, dimension $n_X$\n",
    "* $\\boldsymbol{Y}$ : the observation vector, dimension $n_Y$\n",
    "* $\\boldsymbol{F}$ : the state transition matrix, dimension $n_X$ $\\times$ $n_X$\n",
    "* $\\boldsymbol{H}$ : the measurement matrix, dimension $n_Y$ $\\times$ $n_X$\n",
    "* $\\boldsymbol{Q}$ : the process noise covariance matrix, dimension $n_X$ $\\times$ $n_X$\n",
    "* $\\boldsymbol{R}$ : the measurement noise covariance matrix, dimension $n_Y$ $\\times$ $n_Y$"
   ]
  },
  {
   "cell_type": "markdown",
   "metadata": {},
   "source": [
    "### 1. Observations\n",
    "\n",
    "The 'raw' pulsar data comes in the form of a `.toa` file and a `.par` file.\n",
    "\n",
    "The `.toa` gives you the pulse times of arrival, the `.par` file gives the best guess of some of the pulsar parameters such as its spin frequency, position on the sky, etc. Note that these parameters are very well known a-priori. \n",
    "\n",
    "The `.toa` and the `.par` get passed through a timing software like `TEMPO` or `PINT` to produce **timing residuals**\n",
    "\n",
    "The class `SingleBandPulsar` below is copied verbatim from `minnow`. It provides an interface to loading a `par` and `tim` file and producing timing residuals. In the example below we use `PINT`. \n",
    "\n",
    "**Question 1:** are the values of `ephem`,`bipm_version`,and `clk` correct?\n"
   ]
  },
  {
   "cell_type": "code",
   "execution_count": 1,
   "metadata": {},
   "outputs": [],
   "source": [
    "import numpy as np \n",
    "from enterprise.pulsar import Pulsar as enterprise_Pulsar\n",
    "\n",
    "\n",
    "class SingleBandPulsar(): #note: I have removed the ds.Pulsar argument which depends on the Discovery package. not needed here\n",
    "    \"\"\"Single -- A class for handling pulsar data with a single frequency channels\n",
    "    at given TOA.\n",
    "    \"\"\"\n",
    "    def __init__(self, toas, residuals, radio_frequencies,\n",
    "                 toaerrs, backend_flags, Mmat, fitpars,\n",
    "                 noisedict=None, name='psr'):\n",
    "\n",
    "        self.toas = toas\n",
    "        self.toaerrs = toaerrs\n",
    "        self.residuals = residuals\n",
    "        self.radio_freqs = radio_frequencies\n",
    "        self.backend_flags = backend_flags\n",
    "        self.fitpars = fitpars\n",
    "\n",
    "        self.toa_diffs = np.diff(toas)\n",
    "        self.toa_diff_errors = np.sqrt(toaerrs[1:]**2 + toaerrs[:-1]**2)\n",
    "\n",
    "        # cut up Mmat\n",
    "        # Mmat = cutfunc(Mmat, fitpars)\n",
    "        self.Mmat = Mmat\n",
    "\n",
    "\n",
    "        if noisedict:\n",
    "            self.noisedict = noisedict # we can probably cut this. State-space algos should handle the noise. \n",
    "        self.name = name\n",
    "\n",
    "\n",
    "    @classmethod\n",
    "    def read_par_tim(cls, p, t, **kwargs):\n",
    "        return cls.from_enterprise(enterprise_Pulsar(str(p), str(t), **kwargs))\n",
    "\n",
    "    @classmethod\n",
    "    def from_enterprise(cls, ds_psr):\n",
    "\n",
    "        if hasattr(ds_psr, 'noisedict'):\n",
    "            noisedict = ds_psr.noisedict\n",
    "        else:\n",
    "            noisedict = None\n",
    "        return cls(ds_psr.toas, ds_psr.residuals,\n",
    "                   ds_psr.freqs, ds_psr.toaerrs,\n",
    "                   ds_psr.backend_flags, ds_psr.Mmat, ds_psr.fitpars,\n",
    "                   noisedict=noisedict, name=ds_psr.name)"
   ]
  },
  {
   "cell_type": "code",
   "execution_count": 2,
   "metadata": {},
   "outputs": [
    {
     "name": "stderr",
     "output_type": "stream",
     "text": [
      "/fred/oz022/tkimpson/conda_envs/Argus3/lib/python3.12/site-packages/pint/models/model_builder.py:225: UserWarning: Unrecognized parfile line 'EPHVER 5'\n",
      "  warnings.warn(f\"Unrecognized parfile line '{p_line}'\", UserWarning)\n",
      "\u001b[32m2025-01-29 12:00:54.702\u001b[0m | \u001b[33m\u001b[1mWARNING \u001b[0m | \u001b[36mpint.models.model_builder\u001b[0m:\u001b[36m__call__\u001b[0m:\u001b[36m229\u001b[0m - \u001b[33m\u001b[1mUNITS is not specified. Assuming TDB...\u001b[0m\n",
      "\u001b[32m2025-01-29 12:00:54.769\u001b[0m | \u001b[34m\u001b[1mDEBUG   \u001b[0m | \u001b[36mpint.toa\u001b[0m:\u001b[36m__init__\u001b[0m:\u001b[36m1377\u001b[0m - \u001b[34m\u001b[1mNo pulse number flags found in the TOAs\u001b[0m\n",
      "\u001b[32m2025-01-29 12:00:54.770\u001b[0m | \u001b[34m\u001b[1mDEBUG   \u001b[0m | \u001b[36mpint.toa\u001b[0m:\u001b[36mapply_clock_corrections\u001b[0m:\u001b[36m2224\u001b[0m - \u001b[34m\u001b[1mApplying clock corrections (include_bipm = False)\u001b[0m\n",
      "\u001b[32m2025-01-29 12:00:54.779\u001b[0m | \u001b[1mINFO    \u001b[0m | \u001b[36mpint.observatory.topo_obs\u001b[0m:\u001b[36mclock_corrections\u001b[0m:\u001b[36m354\u001b[0m - \u001b[1mObservatory axis requires no clock corrections.\u001b[0m\n",
      "\u001b[32m2025-01-29 12:00:54.843\u001b[0m | \u001b[34m\u001b[1mDEBUG   \u001b[0m | \u001b[36mpint.toa\u001b[0m:\u001b[36mcompute_TDBs\u001b[0m:\u001b[36m2270\u001b[0m - \u001b[34m\u001b[1mComputing TDB columns.\u001b[0m\n",
      "\u001b[32m2025-01-29 12:00:54.843\u001b[0m | \u001b[34m\u001b[1mDEBUG   \u001b[0m | \u001b[36mpint.toa\u001b[0m:\u001b[36mcompute_TDBs\u001b[0m:\u001b[36m2291\u001b[0m - \u001b[34m\u001b[1mUsing EPHEM = DE440 for TDB calculation.\u001b[0m\n",
      "\u001b[32m2025-01-29 12:00:54.863\u001b[0m | \u001b[34m\u001b[1mDEBUG   \u001b[0m | \u001b[36mpint.toa\u001b[0m:\u001b[36mget_TOAs\u001b[0m:\u001b[36m310\u001b[0m - \u001b[34m\u001b[1mPlanet PosVels will be calculated.\u001b[0m\n",
      "\u001b[32m2025-01-29 12:00:54.863\u001b[0m | \u001b[34m\u001b[1mDEBUG   \u001b[0m | \u001b[36mpint.toa\u001b[0m:\u001b[36mcompute_posvels\u001b[0m:\u001b[36m2366\u001b[0m - \u001b[34m\u001b[1mComputing PosVels of observatories, Earth and planets, using DE440\u001b[0m\n",
      "\u001b[32m2025-01-29 12:00:54.878\u001b[0m | \u001b[1mINFO    \u001b[0m | \u001b[36mpint.solar_system_ephemerides\u001b[0m:\u001b[36mload_kernel\u001b[0m:\u001b[36m194\u001b[0m - \u001b[1mSet solar system ephemeris to de440 through astropy\u001b[0m\n",
      "\u001b[32m2025-01-29 12:00:55.542\u001b[0m | \u001b[34m\u001b[1mDEBUG   \u001b[0m | \u001b[36mpint.toa\u001b[0m:\u001b[36mcompute_posvels\u001b[0m:\u001b[36m2424\u001b[0m - \u001b[34m\u001b[1mSSB obs pos [-1.16725313e+10  1.34138434e+11  5.81425475e+10] m\u001b[0m\n",
      "\u001b[32m2025-01-29 12:00:55.543\u001b[0m | \u001b[1mINFO    \u001b[0m | \u001b[36mpint.solar_system_ephemerides\u001b[0m:\u001b[36mload_kernel\u001b[0m:\u001b[36m194\u001b[0m - \u001b[1mSet solar system ephemeris to de440 through astropy\u001b[0m\n",
      "\u001b[32m2025-01-29 12:00:55.545\u001b[0m | \u001b[1mINFO    \u001b[0m | \u001b[36mpint.solar_system_ephemerides\u001b[0m:\u001b[36mload_kernel\u001b[0m:\u001b[36m194\u001b[0m - \u001b[1mSet solar system ephemeris to de440 through astropy\u001b[0m\n",
      "\u001b[32m2025-01-29 12:00:55.547\u001b[0m | \u001b[1mINFO    \u001b[0m | \u001b[36mpint.solar_system_ephemerides\u001b[0m:\u001b[36mload_kernel\u001b[0m:\u001b[36m194\u001b[0m - \u001b[1mSet solar system ephemeris to de440 through astropy\u001b[0m\n",
      "\u001b[32m2025-01-29 12:00:55.548\u001b[0m | \u001b[1mINFO    \u001b[0m | \u001b[36mpint.solar_system_ephemerides\u001b[0m:\u001b[36mload_kernel\u001b[0m:\u001b[36m194\u001b[0m - \u001b[1mSet solar system ephemeris to de440 through astropy\u001b[0m\n",
      "\u001b[32m2025-01-29 12:00:55.551\u001b[0m | \u001b[1mINFO    \u001b[0m | \u001b[36mpint.solar_system_ephemerides\u001b[0m:\u001b[36mload_kernel\u001b[0m:\u001b[36m194\u001b[0m - \u001b[1mSet solar system ephemeris to de440 through astropy\u001b[0m\n",
      "\u001b[32m2025-01-29 12:00:55.552\u001b[0m | \u001b[1mINFO    \u001b[0m | \u001b[36mpint.solar_system_ephemerides\u001b[0m:\u001b[36mload_kernel\u001b[0m:\u001b[36m194\u001b[0m - \u001b[1mSet solar system ephemeris to de440 through astropy\u001b[0m\n",
      "\u001b[32m2025-01-29 12:00:55.554\u001b[0m | \u001b[1mINFO    \u001b[0m | \u001b[36mpint.solar_system_ephemerides\u001b[0m:\u001b[36mload_kernel\u001b[0m:\u001b[36m194\u001b[0m - \u001b[1mSet solar system ephemeris to de440 through astropy\u001b[0m\n",
      "\u001b[32m2025-01-29 12:00:55.555\u001b[0m | \u001b[34m\u001b[1mDEBUG   \u001b[0m | \u001b[36mpint.toa\u001b[0m:\u001b[36mcompute_posvels\u001b[0m:\u001b[36m2438\u001b[0m - \u001b[34m\u001b[1mAdding columns ssb_obs_pos ssb_obs_vel obs_sun_pos obs_jupiter_pos obs_saturn_pos obs_venus_pos obs_uranus_pos obs_neptune_pos obs_earth_pos\u001b[0m\n",
      "\u001b[32m2025-01-29 12:00:55.556\u001b[0m | \u001b[1mINFO    \u001b[0m | \u001b[36mpint.models.model_builder\u001b[0m:\u001b[36mget_model_and_toas\u001b[0m:\u001b[36m968\u001b[0m - \u001b[1mCreating a TZR TOA (AbsPhase) using the given TOAs object.\u001b[0m\n",
      "\u001b[32m2025-01-29 12:00:55.563\u001b[0m | \u001b[1mINFO    \u001b[0m | \u001b[36mpint.models.absolute_phase\u001b[0m:\u001b[36mvalidate\u001b[0m:\u001b[36m74\u001b[0m - \u001b[1mThe TZRSITE is set at the solar system barycenter.\u001b[0m\n",
      "\u001b[32m2025-01-29 12:00:55.564\u001b[0m | \u001b[1mINFO    \u001b[0m | \u001b[36mpint.models.absolute_phase\u001b[0m:\u001b[36mvalidate\u001b[0m:\u001b[36m78\u001b[0m - \u001b[1mTZRFRQ was 0.0 or None. Setting to infinite frequency.\u001b[0m\n",
      "\u001b[32m2025-01-29 12:00:55.575\u001b[0m | \u001b[34m\u001b[1mDEBUG   \u001b[0m | \u001b[36mpint.models.absolute_phase\u001b[0m:\u001b[36mget_TZR_toa\u001b[0m:\u001b[36m101\u001b[0m - \u001b[34m\u001b[1mCreating and dealing with the single TZR_toa for absolute phase\u001b[0m\n",
      "\u001b[32m2025-01-29 12:00:55.577\u001b[0m | \u001b[34m\u001b[1mDEBUG   \u001b[0m | \u001b[36mpint.toa\u001b[0m:\u001b[36m__init__\u001b[0m:\u001b[36m1377\u001b[0m - \u001b[34m\u001b[1mNo pulse number flags found in the TOAs\u001b[0m\n",
      "\u001b[32m2025-01-29 12:00:55.578\u001b[0m | \u001b[34m\u001b[1mDEBUG   \u001b[0m | \u001b[36mpint.toa\u001b[0m:\u001b[36mapply_clock_corrections\u001b[0m:\u001b[36m2224\u001b[0m - \u001b[34m\u001b[1mApplying clock corrections (include_bipm = False)\u001b[0m\n",
      "\u001b[32m2025-01-29 12:00:55.579\u001b[0m | \u001b[34m\u001b[1mDEBUG   \u001b[0m | \u001b[36mpint.toa\u001b[0m:\u001b[36mcompute_TDBs\u001b[0m:\u001b[36m2270\u001b[0m - \u001b[34m\u001b[1mComputing TDB columns.\u001b[0m\n",
      "\u001b[32m2025-01-29 12:00:55.580\u001b[0m | \u001b[34m\u001b[1mDEBUG   \u001b[0m | \u001b[36mpint.toa\u001b[0m:\u001b[36mcompute_TDBs\u001b[0m:\u001b[36m2291\u001b[0m - \u001b[34m\u001b[1mUsing EPHEM = DE440 for TDB calculation.\u001b[0m\n",
      "\u001b[32m2025-01-29 12:00:55.588\u001b[0m | \u001b[34m\u001b[1mDEBUG   \u001b[0m | \u001b[36mpint.toa\u001b[0m:\u001b[36mcompute_posvels\u001b[0m:\u001b[36m2366\u001b[0m - \u001b[34m\u001b[1mComputing PosVels of observatories, Earth and planets, using DE440\u001b[0m\n",
      "\u001b[32m2025-01-29 12:00:55.589\u001b[0m | \u001b[34m\u001b[1mDEBUG   \u001b[0m | \u001b[36mpint.toa\u001b[0m:\u001b[36mcompute_posvels\u001b[0m:\u001b[36m2424\u001b[0m - \u001b[34m\u001b[1mSSB obs pos [0. 0. 0.] m\u001b[0m\n",
      "\u001b[32m2025-01-29 12:00:55.590\u001b[0m | \u001b[1mINFO    \u001b[0m | \u001b[36mpint.solar_system_ephemerides\u001b[0m:\u001b[36mload_kernel\u001b[0m:\u001b[36m194\u001b[0m - \u001b[1mSet solar system ephemeris to de440 through astropy\u001b[0m\n",
      "\u001b[32m2025-01-29 12:00:55.591\u001b[0m | \u001b[1mINFO    \u001b[0m | \u001b[36mpint.solar_system_ephemerides\u001b[0m:\u001b[36mload_kernel\u001b[0m:\u001b[36m194\u001b[0m - \u001b[1mSet solar system ephemeris to de440 through astropy\u001b[0m\n",
      "\u001b[32m2025-01-29 12:00:55.592\u001b[0m | \u001b[1mINFO    \u001b[0m | \u001b[36mpint.solar_system_ephemerides\u001b[0m:\u001b[36mload_kernel\u001b[0m:\u001b[36m194\u001b[0m - \u001b[1mSet solar system ephemeris to de440 through astropy\u001b[0m\n",
      "\u001b[32m2025-01-29 12:00:55.593\u001b[0m | \u001b[1mINFO    \u001b[0m | \u001b[36mpint.solar_system_ephemerides\u001b[0m:\u001b[36mload_kernel\u001b[0m:\u001b[36m194\u001b[0m - \u001b[1mSet solar system ephemeris to de440 through astropy\u001b[0m\n",
      "\u001b[32m2025-01-29 12:00:55.594\u001b[0m | \u001b[1mINFO    \u001b[0m | \u001b[36mpint.solar_system_ephemerides\u001b[0m:\u001b[36mload_kernel\u001b[0m:\u001b[36m194\u001b[0m - \u001b[1mSet solar system ephemeris to de440 through astropy\u001b[0m\n",
      "\u001b[32m2025-01-29 12:00:55.595\u001b[0m | \u001b[1mINFO    \u001b[0m | \u001b[36mpint.solar_system_ephemerides\u001b[0m:\u001b[36mload_kernel\u001b[0m:\u001b[36m194\u001b[0m - \u001b[1mSet solar system ephemeris to de440 through astropy\u001b[0m\n",
      "\u001b[32m2025-01-29 12:00:55.596\u001b[0m | \u001b[1mINFO    \u001b[0m | \u001b[36mpint.solar_system_ephemerides\u001b[0m:\u001b[36mload_kernel\u001b[0m:\u001b[36m194\u001b[0m - \u001b[1mSet solar system ephemeris to de440 through astropy\u001b[0m\n",
      "\u001b[32m2025-01-29 12:00:55.597\u001b[0m | \u001b[34m\u001b[1mDEBUG   \u001b[0m | \u001b[36mpint.toa\u001b[0m:\u001b[36mcompute_posvels\u001b[0m:\u001b[36m2438\u001b[0m - \u001b[34m\u001b[1mAdding columns ssb_obs_pos ssb_obs_vel obs_sun_pos obs_jupiter_pos obs_saturn_pos obs_venus_pos obs_uranus_pos obs_neptune_pos obs_earth_pos\u001b[0m\n",
      "\u001b[32m2025-01-29 12:00:55.598\u001b[0m | \u001b[34m\u001b[1mDEBUG   \u001b[0m | \u001b[36mpint.models.absolute_phase\u001b[0m:\u001b[36mget_TZR_toa\u001b[0m:\u001b[36m122\u001b[0m - \u001b[34m\u001b[1mDone with TZR_toa\u001b[0m\n"
     ]
    }
   ],
   "source": [
    "\n",
    "psr_name = 'J0030+0451'\n",
    "\n",
    "par = f'../data/IPTA_MockDataChallenge/IPTA_Challenge1_open/Challenge_Data/Dataset1/{psr_name}.par'\n",
    "tim = f'../data/IPTA_MockDataChallenge/IPTA_Challenge1_open/Challenge_Data/Dataset1/{psr_name}.tim'\n",
    "psr = SingleBandPulsar.read_par_tim(par, tim, timing_package=\"pint\", ephem=\"DE440\", bipm_version=\"BIPM2019\", clk=\"TT(BIPM2019)\")"
   ]
  },
  {
   "cell_type": "code",
   "execution_count": 3,
   "metadata": {},
   "outputs": [
    {
     "data": {
      "text/plain": [
       "array([1440.14727355, 1440.14530109, 1440.13470477, 1440.11586383,\n",
       "       1440.09035538, 1440.0595717 , 1440.02572611, 1439.99066746,\n",
       "       1439.95663645, 1439.92537997, 1439.89868323, 1439.87782549,\n",
       "       1439.86387679, 1439.8574873 , 1439.85892265, 1439.86816386,\n",
       "       1439.88466503, 1439.9077524 , 1439.93610841, 1439.96847267,\n",
       "       1440.00287701, 1440.03765874, 1440.07048111, 1440.09965343,\n",
       "       1440.12295735, 1440.13922022, 1440.14693234, 1440.14596296,\n",
       "       1440.13593551, 1440.11796914, 1440.09282138, 1440.06260608,\n",
       "       1440.0287902 , 1439.99391408, 1439.95956353, 1439.92812656,\n",
       "       1439.90082994, 1439.87952105, 1439.86480993, 1439.85782235,\n",
       "       1439.85846688, 1439.86709317, 1439.88290985, 1439.90549331,\n",
       "       1439.93339902, 1439.96548666, 1439.99978119, 1440.03459766,\n",
       "       1440.06770642, 1440.09724265, 1440.12119794, 1440.1380746 ,\n",
       "       1440.1466675 , 1440.14638829, 1440.13726117, 1440.11984761,\n",
       "       1440.09540954, 1440.06543534, 1440.03200351, 1439.99698134,\n",
       "       1439.96266222, 1439.93072073, 1439.90316439, 1439.88109167,\n",
       "       1439.86593895, 1439.85805842, 1439.85820368, 1439.86594456,\n",
       "       1439.88132852, 1439.90316766, 1439.93082601, 1439.96243329,\n",
       "       1439.99676782, 1440.03146038, 1440.06495397, 1440.09474949,\n",
       "       1440.11940852, 1440.13685443, 1440.14633834, 1440.1467656 ,\n",
       "       1440.13850641, 1440.12171952, 1440.09791401, 1440.06831058,\n",
       "       1440.0351399 , 1440.00015303, 1439.96569425, 1439.93347321,\n",
       "       1439.90543658, 1439.88285889, 1439.86699753, 1439.85850842,\n",
       "       1439.85784925, 1439.86500817, 1439.87962737, 1439.90103892,\n",
       "       1439.92810167, 1439.95955232, 1439.99357168, 1440.02846561,\n",
       "       1440.06199024, 1440.09236665, 1440.11738548, 1440.13571393,\n",
       "       1440.14576554, 1440.14719995, 1440.13951822, 1440.12364022,\n",
       "       1440.10021901, 1440.07124026, 1440.03812863, 1440.00339189,\n",
       "       1439.96863804, 1439.93630377, 1439.90767665, 1439.88470456,\n",
       "       1439.8680681 , 1439.85902147, 1439.85753596, 1439.86410473,\n",
       "       1439.87798439, 1439.89890275, 1439.92544413, 1439.95661674,\n",
       "       1439.99044312, 1440.02536211, 1440.0590861 , 1440.0898189 ,\n",
       "       1440.11541304, 1440.13436456])"
      ]
     },
     "execution_count": 3,
     "metadata": {},
     "output_type": "execute_result"
    }
   ],
   "source": [
    "psr.radio_freqs"
   ]
  },
  {
   "cell_type": "markdown",
   "metadata": {},
   "source": [
    "The resulting `psr` object has some key instance attributes:\n",
    "\n",
    "* `psr_residuals`. This is our data $\\boldsymbol{Y}$\n",
    "* `toa_diffs`. i.e. the $\\Delta t$ value, which is required in the Kalman equations \n",
    "* `Mmat`. i.e. the design matrix corrections. See e.g. section 4.2 of  `explore_how_minnow_works.ipynb`"
   ]
  },
  {
   "cell_type": "markdown",
   "metadata": {},
   "source": [
    "Note that, as expected, the length of `toa_diffs` is one less than the length of `residuals`"
   ]
  },
  {
   "cell_type": "code",
   "execution_count": 3,
   "metadata": {},
   "outputs": [
    {
     "name": "stdout",
     "output_type": "stream",
     "text": [
      "(130,)\n",
      "(129,)\n"
     ]
    }
   ],
   "source": [
    "print(psr.residuals.shape)\n",
    "print(psr.toa_diffs.shape)"
   ]
  },
  {
   "cell_type": "markdown",
   "metadata": {},
   "source": [
    "Also note the shape of `Mmat`:"
   ]
  },
  {
   "cell_type": "code",
   "execution_count": 4,
   "metadata": {},
   "outputs": [
    {
     "data": {
      "text/plain": [
       "(130, 8)"
      ]
     },
     "execution_count": 4,
     "metadata": {},
     "output_type": "execute_result"
    }
   ],
   "source": [
    "psr.Mmat.shape "
   ]
  },
  {
   "cell_type": "markdown",
   "metadata": {},
   "source": [
    "**Question 2:** How to think about the elements of `MMat`? These are the timing model corrections. Should we think of these as free parameters to be inferred? Or are they parameters that we can take as known exactly a-priori? I feel like it should be the former, as \"wiggles\" in the GW that we are searching for could be caught in the \"wiggles\" of `MMat`. But then, do we really have 130 x 8 parameters per pulsar to search over?! In `explore_how_minnow_works.ipynb`, when we load the `.feather` files, the number of parameters is independent of the number of times, which agrees with my intution. I think I am missing an $\\boldsymbol{\\epsilon}$ vector somewhere, and `SingleBandPulsar` is returning $\\boldsymbol{M} \\boldsymbol{\\epsilon}$\n",
    "\n",
    "\n",
    "**Response to Question 2:** Ok here is what I think is going on. For a single pulsar, absent all other effects, the vector (length $N_{\\rm obs}$) of timing residuals over the total observation period is given by $\\boldsymbol{M} \\boldsymbol{\\delta \\epsilon}$. Now $\\boldsymbol{M}$ is the design matrix, with shape $N_{\\rm obs}$ $\\times$ $N_{\\rm parameters}$. It is returned by the timing model fit and is just a big matrix of numbers. The vector $\\boldsymbol{\\delta \\epsilon}$ has length $N_{\\rm parameters}$. We want to infer these parameters. **More questions arise:**, physically, what are these parameters; what are the priors on these parameters, are there $N_{\\rm parameters}$ timing parameters per pulsar (surely yes?)"
   ]
  },
  {
   "cell_type": "markdown",
   "metadata": {},
   "source": [
    "**Addendum:** Some extra discoveries w.r.t Question 2. First the parameters that make up $\\boldsymbol{\\delta \\epsilon}$ can be listed via `psr.fitpars`:"
   ]
  },
  {
   "cell_type": "code",
   "execution_count": 5,
   "metadata": {},
   "outputs": [
    {
     "data": {
      "text/plain": [
       "['Offset', 'PX', 'RAJ', 'DECJ', 'PMRA', 'PMDEC', 'F0', 'F1']"
      ]
     },
     "execution_count": 5,
     "metadata": {},
     "output_type": "execute_result"
    }
   ],
   "source": [
    "psr.fitpars"
   ]
  },
  {
   "cell_type": "markdown",
   "metadata": {},
   "source": [
    "Second, the priors on these ephemeris parameters can just be some improper uniform prior, see end of section 7.1.1 of [Taylor 2021](https://arxiv.org/pdf/2105.13270). We may also ultimately be able to marginalise over these parameters by including them in the state..."
   ]
  },
  {
   "cell_type": "markdown",
   "metadata": {},
   "source": [
    "### 2. Hidden states and transition matrix"
   ]
  },
  {
   "cell_type": "markdown",
   "metadata": {},
   "source": [
    "Following `minnow`, the hidden state variables are \n",
    "\n",
    "$$\\boldsymbol{X} = \\left[\\delta \\phi, \\delta f, \\delta \\dot{f} \\right] $$\n",
    "\n",
    "i.e. the **deviations from the spin-down parameters in the timing model fit**.\n",
    "\n",
    "These variables evolve as,\n",
    "\n",
    "$$ \\frac{d \\, \\delta \\phi}{dt} = \\delta f$$\n",
    "\n",
    "$$ \\frac{d \\, \\delta f}{dt} = \\delta \\dot{f}$$\n",
    "\n",
    "$$ \\frac{d \\, \\delta \\dot{f}}{dt} = 0 $$\n",
    "\n",
    "(ignoring for now stochastic variations, i.e. Q-matrix corrections)\n",
    "\n",
    "or, taking $\\frac{d\\boldsymbol{X}}{dt} = \\boldsymbol{A} \\boldsymbol{X}$, then \n",
    "\n",
    "$$\\boldsymbol{A} = \\begin{pmatrix}0 & 1 & 0 \\\\\\ 0 & 0 &1 \\\\\\ 0 & 0 & 0\\end{pmatrix} $$\n",
    "\n",
    "We can compute the transition matrix $\\boldsymbol{F}_{\\phi}$ by discretising in the usual way, i.e. $\\boldsymbol{F}_{\\phi} = \\exp \\left( \\boldsymbol{A} \\Delta t \\right)$, where $\\Delta t$ is the time difference between two consecutive TOAs, \n",
    "\n",
    "$$\\boldsymbol{F}_{\\phi} = \\begin{pmatrix}1 & \\Delta t & \\Delta t^2/2  \\\\\\ 0 & 1 &\\Delta t \\\\\\ 0 & 0 & 1\\end{pmatrix} $$\n",
    "\n",
    "This matrix is equivalent to that defined in https://github.com/meyers-academic/minnow/blob/main/src/minnow/signals.py#L87 "
   ]
  },
  {
   "cell_type": "markdown",
   "metadata": {},
   "source": [
    "### 3. Measurement matrix "
   ]
  },
  {
   "cell_type": "markdown",
   "metadata": {},
   "source": [
    "The measurement matrix $\\boldsymbol{H}$ relates the states and the observations linearly, $\\boldsymbol{Y} = \\boldsymbol{H} \\boldsymbol{X}$ (+ noise). The observations are just the timing residuals,\n",
    "\n",
    "$$\\boldsymbol{Y}(t_i) = \\left [\\delta t(t_i) \\right ]$$\n",
    "\n",
    "The timing residual is related to the state as \n",
    "\n",
    "$$ \\delta t \\left( t_i \\right) = \\frac{\\delta \\phi (t_i)}{f_0} + \\boldsymbol{M} \\boldsymbol{\\epsilon}$$\n",
    "\n",
    "where $f_0$ is the pulsar rotation frequency.\n",
    "\n",
    "**Question 3: I guess we can just take $f_0$ as know exactly a-priori, or else just have it as a free parameter with a narrow prior**.\n",
    "\n",
    "Assuming that my understanding at the end of Section 1 (Question 2) is correct, we can include the measurement effects as follows. First we augment the state-space\n",
    "\n",
    "$$\\boldsymbol{X} = \\left[\\delta \\phi, \\delta f, \\delta \\dot{f},\\delta \\epsilon_1,\\dots,\\delta \\epsilon_p \\right] $$\n",
    "\n",
    "$$\\boldsymbol{F} = \\begin{pmatrix} \\boldsymbol{F}_{\\phi} & 0  \\\\\\ 0 & \\boldsymbol{I} \\end{pmatrix} $$\n",
    "\n",
    "\n",
    "where $\\boldsymbol{F}_{\\phi}$ is a block matrix, dimension 3x3, for $\\delta \\phi, \\delta f, \\delta \\dot{f}$, as defined in Section 2, and $\\boldsymbol{I}$ is an identity matrix, with dimension $p$, dimension of the design matrix. This matrix is equivalent to that defined in https://github.com/meyers-academic/minnow/blob/main/src/minnow/signals.py#L7 (minus the DM corrections).\n",
    "\n",
    "\n",
    "Second, we define the $\\boldsymbol{H}$ matrix as\n",
    "\n",
    "\n",
    "$$\\boldsymbol{H}(t_i) = \\begin{bmatrix} f_0^{-1}  & 0 & 0 & \\boldsymbol{M}_1(t_i) & \\dots & {M}_p(t_i) \\end{bmatrix}$$\n",
    "\n",
    "where ${M}_p(t_i)$ is given by the timing model fit. This is equivalent to https://github.com/meyers-academic/minnow/blob/main/src/minnow/signals.py#L53, minus the DM corrections.\n",
    "\n"
   ]
  },
  {
   "cell_type": "markdown",
   "metadata": {},
   "source": [
    "### 4. Inclusion of stochasticity \n",
    "\n",
    "\n",
    "All of the above ignored the process noise and the measurement noise. Lets now bring these in. \n",
    "\n",
    "\n",
    "The dynamical state equations are \n",
    "\n",
    "\n",
    "$$ \\frac{d \\, \\delta \\phi}{dt} = \\delta f + \\xi(t, \\sigma_{\\phi})$$\n",
    "\n",
    "$$ \\frac{d \\, \\delta f}{dt} = \\delta \\dot{f}+ \\xi(t, \\sigma_{f})$$\n",
    "\n",
    "$$ \\frac{d \\, \\delta \\dot{f}}{dt} = + \\xi(t, \\sigma_{\\dot{f}}) $$\n",
    "\n",
    "\n",
    "The transition and measurement matrices are unchanged, but we need to define a Q-matrix. For the above equations, I compute this to be:\n",
    "\n",
    "$$Q = \\begin{pmatrix}\n",
    "\\sigma_\\phi^2\\Delta t + \\sigma_f^2\\Delta t^3/3 + \\sigma_{\\dot{f}}^2\\Delta t^5/20 & \\sigma_f^2\\Delta t^2/2 + \\sigma_{\\dot{f}}^2\\Delta t^4/8 & \\sigma_{\\dot{f}}^2\\Delta t^3/6 \\\\\n",
    "\\sigma_f^2\\Delta t^2/2 + \\sigma_{\\dot{f}}^2\\Delta t^4/8 & \\sigma_f^2\\Delta t + \\sigma_{\\dot{f}}^2\\Delta t^3/3 & \\sigma_{\\dot{f}}^2\\Delta t^2/2 \\\\\n",
    "\\sigma_{\\dot{f}}^2\\Delta t^3/6 & \\sigma_{\\dot{f}}^2\\Delta t^2/2 & \\sigma_{\\dot{f}}^2\\Delta t\n",
    "\\end{pmatrix}$$\n",
    "\n",
    "which agrees (I think!) with [the Q-matrix defined in minnow](https://github.com/meyers-academic/minnow/blob/326dade647df22cadde807c1a5fbb48888c5dbe2/src/minnow/signals.py#L138) (ignoring the zero-entries corresponding to the $\\delta \\epsilon$ terms in the state).\n",
    "\n",
    "\n",
    "The measurement matrix $\\boldsymbol{R}$ is trivially just $\\sigma_{\\rm m}^2.$ We can either take this as known a-priori, or take it as a free parameter to be inferred. We may also consider EFAC, EQUAD, etc. here, see e.g. Equation 8 of https://arxiv.org/abs/1407.1838"
   ]
  },
  {
   "cell_type": "markdown",
   "metadata": {},
   "source": [
    "### 5. Inclusion of GWs\n",
    "\n",
    "The inclusion of the GW effects proceeds similarly to [PTA P3](https://arxiv.org/abs/2501.06990)\n",
    "\n",
    "Specifically the $X$ state is augmented to include a factor $a(t)$\n",
    "\n",
    "$$\\boldsymbol{X} = \\left[\\delta \\phi, \\delta f, \\delta \\dot{f}, a, \\delta \\epsilon_1,\\dots,\\delta \\epsilon_p \\right] $$\n",
    "\n",
    "The factor $a(t)$ evoles according to an Ornstein-Uhlenbeck process\n",
    "\n",
    "$$ \\frac{d \\, a}{dt} = - \\gamma_{\\rm a} a + \\xi(t, \\sigma_{\\rm a})$$\n",
    "\n",
    "The covariance statistics of $\\xi(t, \\sigma_{\\rm a})$ are givein in https://arxiv.org/abs/2501.06990"
   ]
  },
  {
   "cell_type": "markdown",
   "metadata": {},
   "source": [
    "### 5. Summary\n",
    "\n",
    "\n",
    "\n",
    "For the purposes of running state-space algorithms, we need to define the following:\n",
    "\n",
    "* $\\boldsymbol{X}$ : the state vector, dimension $n_X$\n",
    "* $\\boldsymbol{Y}$ : the observation vector, dimension $n_Y$\n",
    "* $\\boldsymbol{F}$ : the state transition matrix, dimension $n_X$ $\\times$ $n_X$\n",
    "* $\\boldsymbol{H}$ : the measurement matrix, dimension $n_Y$ $\\times$ $n_X$\n",
    "* $\\boldsymbol{Q}$ : the process noise covariance matrix, dimension $n_X$ $\\times$ $n_X$\n",
    "* $\\boldsymbol{R}$ : the measurement noise covariance matrix, dimension $n_Y$ $\\times$ $n_Y$\n",
    "\n",
    "\n",
    "\n",
    "These components (for a single pulsar) are as follows:\n",
    "\n",
    "$$\\boldsymbol{X} = \\left[\\delta \\phi, \\delta f, \\delta \\dot{f},\\delta \\epsilon_1,\\dots,\\delta \\epsilon_p \\right] $$\n",
    "\n",
    "$$\\boldsymbol{Y}(t_i) = \\left [\\delta t(t_i) \\right ]$$\n",
    "\n",
    "$$\\boldsymbol{F} = \\begin{pmatrix} \\boldsymbol{F}_{\\phi} & 0  \\\\\\ 0 & \\boldsymbol{I} \\end{pmatrix} $$\n",
    "\n",
    "$$\\boldsymbol{H}(t_i) = \\begin{bmatrix} f_0^{-1}  & 0 & 0 & \\boldsymbol{M}_1(t_i) & \\dots & {M}_p(t_i) \\end{bmatrix}$$\n",
    "\n",
    "$$Q = \\begin{pmatrix}\n",
    "\\sigma_\\phi^2\\Delta t + \\sigma_f^2\\Delta t^3/3 + \\sigma_{\\dot{f}}^2\\Delta t^5/20 & \\sigma_f^2\\Delta t^2/2 + \\sigma_{\\dot{f}}^2\\Delta t^4/8 & \\sigma_{\\dot{f}}^2\\Delta t^3/6 \\\\\n",
    "\\sigma_f^2\\Delta t^2/2 + \\sigma_{\\dot{f}}^2\\Delta t^4/8 & \\sigma_f^2\\Delta t + \\sigma_{\\dot{f}}^2\\Delta t^3/3 & \\sigma_{\\dot{f}}^2\\Delta t^2/2 \\\\\n",
    "\\sigma_{\\dot{f}}^2\\Delta t^3/6 & \\sigma_{\\dot{f}}^2\\Delta t^2/2 & \\sigma_{\\dot{f}}^2\\Delta t\n",
    "\\end{pmatrix}$$\n",
    "\n",
    "\n",
    "$$\\boldsymbol{R} = \\sigma_{\\rm m}^2 $$\n",
    "\n"
   ]
  },
  {
   "cell_type": "code",
   "execution_count": null,
   "metadata": {},
   "outputs": [],
   "source": []
  },
  {
   "cell_type": "markdown",
   "metadata": {},
   "source": [
    "### Appendix\n",
    "\n",
    "We now need to extend this to $N$ pulsars, sampled at different times, and also include the influecne of the GW via the $a(t)$ correction from paper 3. \n",
    "\n",
    "\n",
    "We are ultimately interested in the GW parameters. Can we marginalise over these parameters by adding them to the state evolution? See e.g. section 7.2.2 of [Taylor 2021](https://arxiv.org/pdf/2105.13270)"
   ]
  },
  {
   "cell_type": "markdown",
   "metadata": {},
   "source": [
    "### A1. Summary of current thoughts on timing model parameters\n",
    "\n",
    "Also shared the below with P.Meyers\n",
    "\n",
    "\n",
    "Ok I think my head is a bit clearer on this now, having looked better at minnow, enterprise and PINT. Sharing a summary of some thoughts below.\n",
    "\n",
    "1. Each pulsar has an M matrix with shape N_residuals x N_{ephemeris parameters} . This is provided by TEMPO/PINT \n",
    "2. Each pulsar has a vector \\delta \\epsilon , length N_{ephemeris parameters} . The product M M * \\delta \\epsilon gives the timing residuals (length N_residuals).\n",
    "3. For a state-space representation, M \"lives\" in the measurement matrix H . That is, at the i-th timestep, we select the i-th row of M to construct H .\n",
    "4. Similarly, \\delta \\epsilon \"lives\" in the state vector X . The deterministic evolution is zero (i.e. each element of \\delta \\epsilon is constant, with identity transition matrix). The variation in \\delta \\epsilon is captured by the Q-matrix. Importantly, this means that we do not need any priors on the components of \\delta \\epsilon \n",
    "5. In step 4, I think this is somewhat (or exactly?!) equivalent to marginalising over the parameters that we don't really care about. One could also imagine pulling  \\delta \\epsilon out of X and bringing it into the measurement part of the filter, and then using (e.g.) MCMC to estimate the value of \\delta \\epsilon .  But we don't really care about the values of \\delta \\epsilon , we want to claim evidence for a GW.\n",
    "6. How we set the Q-matrix to allow for the variation in  \\delta \\epsilon will be important here. Maybe I have missed something, but I couldn't see this implemented in minnow yet? "
   ]
  },
  {
   "cell_type": "markdown",
   "metadata": {},
   "source": []
  }
 ],
 "metadata": {
  "kernelspec": {
   "display_name": "Argus3",
   "language": "python",
   "name": "python3"
  },
  "language_info": {
   "codemirror_mode": {
    "name": "ipython",
    "version": 3
   },
   "file_extension": ".py",
   "mimetype": "text/x-python",
   "name": "python",
   "nbconvert_exporter": "python",
   "pygments_lexer": "ipython3",
   "version": "3.12.2"
  }
 },
 "nbformat": 4,
 "nbformat_minor": 2
}
