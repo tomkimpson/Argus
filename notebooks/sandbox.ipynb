{
 "cells": [
  {
   "cell_type": "code",
   "execution_count": 1,
   "metadata": {},
   "outputs": [],
   "source": [
    "%load_ext autoreload\n",
    "%autoreload 2"
   ]
  },
  {
   "cell_type": "code",
   "execution_count": 1,
   "metadata": {},
   "outputs": [],
   "source": [
    "import glob \n",
    "from enterprise.pulsar import Pulsar as enterprise_pulsar\n"
   ]
  },
  {
   "cell_type": "code",
   "execution_count": 14,
   "metadata": {},
   "outputs": [],
   "source": [
    "datadir = '../data/data_from_enterprise/mdc1'\n",
    "datadir = '../data/IPTA_MockDataChallenge/IPTA_Challenge1_open/Challenge_Data/Dataset1/'\n",
    "parfiles = sorted(glob.glob(datadir + '/*.par'))\n",
    "timfiles = sorted(glob.glob(datadir + '/*.tim'))"
   ]
  },
  {
   "cell_type": "code",
   "execution_count": null,
   "metadata": {},
   "outputs": [],
   "source": []
  },
  {
   "cell_type": "code",
   "execution_count": 18,
   "metadata": {},
   "outputs": [],
   "source": [
    "import libstempo\n",
    "idx = 0\n",
    "psr = libstempo.tempopulsar(\n",
    "    parfile=parfiles[idx], \n",
    "    timfile=timfiles[idx]\n",
    ")\n"
   ]
  },
  {
   "cell_type": "code",
   "execution_count": 19,
   "metadata": {},
   "outputs": [
    {
     "ename": "TypeError",
     "evalue": "stat: path should be string, bytes, os.PathLike or integer, not TextIOWrapper",
     "output_type": "error",
     "traceback": [
      "\u001b[0;31m---------------------------------------------------------------------------\u001b[0m",
      "\u001b[0;31mTypeError\u001b[0m                                 Traceback (most recent call last)",
      "Cell \u001b[0;32mIn[19], line 2\u001b[0m\n\u001b[1;32m      1\u001b[0m \u001b[38;5;66;03m#Generate a tempopulsar object \u001b[39;00m\n\u001b[0;32m----> 2\u001b[0m psr \u001b[38;5;241m=\u001b[39m \u001b[43mlibstempo\u001b[49m\u001b[38;5;241;43m.\u001b[39;49m\u001b[43mtempopulsar\u001b[49m\u001b[43m(\u001b[49m\u001b[43mparfile\u001b[49m\u001b[38;5;241;43m=\u001b[39;49m\u001b[43mpar_file\u001b[49m\u001b[43m,\u001b[49m\u001b[43mtimfile\u001b[49m\u001b[38;5;241;43m=\u001b[39;49m\u001b[43mtim_file\u001b[49m\u001b[43m)\u001b[49m\n\u001b[1;32m      3\u001b[0m psr[\u001b[38;5;124m'\u001b[39m\u001b[38;5;124mTRACK\u001b[39m\u001b[38;5;124m'\u001b[39m]\u001b[38;5;241m.\u001b[39mval \u001b[38;5;241m=\u001b[39m \u001b[38;5;241m-\u001b[39m\u001b[38;5;241m2\u001b[39m\n\u001b[1;32m      4\u001b[0m \u001b[38;5;28;01mimport\u001b[39;00m\u001b[38;5;250m \u001b[39m\u001b[38;5;21;01mlibstempo\u001b[39;00m\u001b[38;5;21;01m.\u001b[39;00m\u001b[38;5;21;01mplot\u001b[39;00m\n",
      "File \u001b[0;32m/fred/oz022/tkimpson/conda_envs/Argus3/lib/python3.12/site-packages/libstempo/libstempo.pyx:673\u001b[0m, in \u001b[0;36mlibstempo.libstempo.tempopulsar.__cinit__\u001b[0;34m()\u001b[0m\n",
      "File \u001b[0;32m/fred/oz022/tkimpson/conda_envs/Argus3/lib/python3.12/site-packages/libstempo/libstempo.pyx:735\u001b[0m, in \u001b[0;36mlibstempo.libstempo.tempopulsar._readfiles\u001b[0;34m()\u001b[0m\n",
      "File \u001b[0;32m<frozen genericpath>:30\u001b[0m, in \u001b[0;36misfile\u001b[0;34m(path)\u001b[0m\n",
      "\u001b[0;31mTypeError\u001b[0m: stat: path should be string, bytes, os.PathLike or integer, not TextIOWrapper"
     ]
    }
   ],
   "source": [
    "#Generate a tempopulsar object \n",
    "psr = libstempo.tempopulsar(parfile=par_file,timfile=tim_file)\n",
    "psr['TRACK'].val = -2\n",
    "import libstempo.plot\n",
    "#Plot it \n",
    "libstempo.plot.plotres(psr)"
   ]
  },
  {
   "cell_type": "code",
   "execution_count": null,
   "metadata": {},
   "outputs": [
    {
     "data": {
      "text/plain": [
       "<libstempo.libstempo.tempopulsar at 0x7fbf87f92c00>"
      ]
     },
     "execution_count": 11,
     "metadata": {},
     "output_type": "execute_result"
    }
   ],
   "source": []
  },
  {
   "cell_type": "code",
   "execution_count": 12,
   "metadata": {},
   "outputs": [
    {
     "ename": "ValueError",
     "evalue": "Invalid shape in axis 0: 0.",
     "output_type": "error",
     "traceback": [
      "\u001b[0;31m---------------------------------------------------------------------------\u001b[0m",
      "\u001b[0;31mValueError\u001b[0m                                Traceback (most recent call last)",
      "Cell \u001b[0;32mIn[12], line 2\u001b[0m\n\u001b[1;32m      1\u001b[0m \u001b[38;5;28;01mimport\u001b[39;00m\u001b[38;5;250m \u001b[39m\u001b[38;5;21;01mnumpy\u001b[39;00m\u001b[38;5;250m \u001b[39m\u001b[38;5;28;01mas\u001b[39;00m\u001b[38;5;250m \u001b[39m\u001b[38;5;21;01mnp\u001b[39;00m \n\u001b[0;32m----> 2\u001b[0m np\u001b[38;5;241m.\u001b[39mdouble(\u001b[43mpsr\u001b[49m\u001b[38;5;241;43m.\u001b[39;49m\u001b[43mtoas\u001b[49m\u001b[43m(\u001b[49m\u001b[43m)\u001b[49m) \u001b[38;5;241m*\u001b[39m \u001b[38;5;241m86400\u001b[39m\n",
      "File \u001b[0;32m/fred/oz022/tkimpson/conda_envs/Argus3/lib/python3.12/site-packages/libstempo/libstempo.pyx:1298\u001b[0m, in \u001b[0;36mlibstempo.libstempo.tempopulsar.toas\u001b[0;34m()\u001b[0m\n",
      "File \u001b[0;32m<stringsource>:275\u001b[0m, in \u001b[0;36mView.MemoryView.array_cwrapper\u001b[0;34m()\u001b[0m\n",
      "File \u001b[0;32m<stringsource>:161\u001b[0m, in \u001b[0;36mView.MemoryView.array.__cinit__\u001b[0;34m()\u001b[0m\n",
      "\u001b[0;31mValueError\u001b[0m: Invalid shape in axis 0: 0."
     ]
    }
   ],
   "source": [
    "import numpy as np \n",
    "np.double(psr.toas()) * 86400"
   ]
  },
  {
   "cell_type": "code",
   "execution_count": 13,
   "metadata": {},
   "outputs": [
    {
     "ename": "ValueError",
     "evalue": "Invalid shape in axis 0: 0.",
     "output_type": "error",
     "traceback": [
      "\u001b[0;31m---------------------------------------------------------------------------\u001b[0m",
      "\u001b[0;31mValueError\u001b[0m                                Traceback (most recent call last)",
      "Cell \u001b[0;32mIn[13], line 1\u001b[0m\n\u001b[0;32m----> 1\u001b[0m \u001b[43mpsr\u001b[49m\u001b[38;5;241;43m.\u001b[39;49m\u001b[43mtoas\u001b[49m\u001b[43m(\u001b[49m\u001b[43m)\u001b[49m \n",
      "File \u001b[0;32m/fred/oz022/tkimpson/conda_envs/Argus3/lib/python3.12/site-packages/libstempo/libstempo.pyx:1298\u001b[0m, in \u001b[0;36mlibstempo.libstempo.tempopulsar.toas\u001b[0;34m()\u001b[0m\n",
      "File \u001b[0;32m<stringsource>:275\u001b[0m, in \u001b[0;36mView.MemoryView.array_cwrapper\u001b[0;34m()\u001b[0m\n",
      "File \u001b[0;32m<stringsource>:161\u001b[0m, in \u001b[0;36mView.MemoryView.array.__cinit__\u001b[0;34m()\u001b[0m\n",
      "\u001b[0;31mValueError\u001b[0m: Invalid shape in axis 0: 0."
     ]
    }
   ],
   "source": [
    "psr.toas() "
   ]
  },
  {
   "cell_type": "code",
   "execution_count": null,
   "metadata": {},
   "outputs": [],
   "source": [
    "def Pulsar(*args):\n",
    "    t2pulsar = [x for x in args if isinstance(x, libstepo.tempopulsar)]\n"
   ]
  },
  {
   "cell_type": "code",
   "execution_count": 4,
   "metadata": {},
   "outputs": [
    {
     "name": "stdout",
     "output_type": "stream",
     "text": [
      "[tempo2Util.C:396] Warning: [TIM1] Please place MODE flags in the parameter file \n",
      "[tempo2Util.C:396] Warning: [CLK3] no clock corrections available for clock TT(\u0002 for MJD 53000.0\n",
      "[tempo2Util.C:396] Warning: [CLK4] Trying assuming UTC = UTC\n",
      "[tempo2Util.C:401] Warning: [DUP1] duplicated warnings have been suppressed.\n",
      "[tempo2Util.C:396] Warning: [CLK5] Trying TT(TAI) instead of  TT(\u0002\n",
      "[tempo2Util.C:396] Warning: [CLK9] ... ok, using stated approximation \n",
      "[tempo2Util.C:397] [TROP2] Assume standard atmospheric pressure (no data) for site axi at MJD 53000.0\n",
      "[tempo2Util.C:397] [TROP1] Assume zero zenith wet delay (no data) for site axi  at MJD 53000.0\n"
     ]
    },
    {
     "ename": "ValueError",
     "evalue": "Invalid shape in axis 0: 0.",
     "output_type": "error",
     "traceback": [
      "\u001b[0;31m---------------------------------------------------------------------------\u001b[0m",
      "\u001b[0;31mValueError\u001b[0m                                Traceback (most recent call last)",
      "Cell \u001b[0;32mIn[4], line 3\u001b[0m\n\u001b[1;32m      1\u001b[0m psrs \u001b[38;5;241m=\u001b[39m []\n\u001b[1;32m      2\u001b[0m \u001b[38;5;28;01mfor\u001b[39;00m p, t \u001b[38;5;129;01min\u001b[39;00m \u001b[38;5;28mzip\u001b[39m(parfiles, timfiles):\n\u001b[0;32m----> 3\u001b[0m     psr \u001b[38;5;241m=\u001b[39m \u001b[43menterprise_pulsar\u001b[49m\u001b[43m(\u001b[49m\u001b[43mp\u001b[49m\u001b[43m,\u001b[49m\u001b[43m \u001b[49m\u001b[43mt\u001b[49m\u001b[43m)\u001b[49m\n\u001b[1;32m      4\u001b[0m     psrs\u001b[38;5;241m.\u001b[39mappend(psr)\n",
      "File \u001b[0;32m/fred/oz022/tkimpson/conda_envs/Argus3/lib/python3.12/site-packages/enterprise/pulsar.py:716\u001b[0m, in \u001b[0;36mPulsar\u001b[0;34m(*args, **kwargs)\u001b[0m\n\u001b[1;32m    714\u001b[0m     maxobs \u001b[38;5;241m=\u001b[39m get_maxobs(reltimfile) \u001b[38;5;241m+\u001b[39m \u001b[38;5;241m100\u001b[39m\n\u001b[1;32m    715\u001b[0m     t2pulsar \u001b[38;5;241m=\u001b[39m t2\u001b[38;5;241m.\u001b[39mtempopulsar(relparfile, reltimfile, maxobs\u001b[38;5;241m=\u001b[39mmaxobs, ephem\u001b[38;5;241m=\u001b[39mephem, clk\u001b[38;5;241m=\u001b[39mclk)\n\u001b[0;32m--> 716\u001b[0m     \u001b[38;5;28;01mreturn\u001b[39;00m \u001b[43mTempo2Pulsar\u001b[49m\u001b[43m(\u001b[49m\n\u001b[1;32m    717\u001b[0m \u001b[43m        \u001b[49m\u001b[43mt2pulsar\u001b[49m\u001b[43m,\u001b[49m\n\u001b[1;32m    718\u001b[0m \u001b[43m        \u001b[49m\u001b[43msort\u001b[49m\u001b[38;5;241;43m=\u001b[39;49m\u001b[43msort\u001b[49m\u001b[43m,\u001b[49m\n\u001b[1;32m    719\u001b[0m \u001b[43m        \u001b[49m\u001b[43mdrop_t2pulsar\u001b[49m\u001b[38;5;241;43m=\u001b[39;49m\u001b[43mdrop_t2pulsar\u001b[49m\u001b[43m,\u001b[49m\n\u001b[1;32m    720\u001b[0m \u001b[43m        \u001b[49m\u001b[43mplanets\u001b[49m\u001b[38;5;241;43m=\u001b[39;49m\u001b[43mplanets\u001b[49m\u001b[43m,\u001b[49m\n\u001b[1;32m    721\u001b[0m \u001b[43m        \u001b[49m\u001b[43mpar_name\u001b[49m\u001b[38;5;241;43m=\u001b[39;49m\u001b[43mrelparfile\u001b[49m\u001b[43m,\u001b[49m\n\u001b[1;32m    722\u001b[0m \u001b[43m        \u001b[49m\u001b[43mtim_name\u001b[49m\u001b[38;5;241;43m=\u001b[39;49m\u001b[43mreltimfile\u001b[49m\u001b[43m,\u001b[49m\n\u001b[1;32m    723\u001b[0m \u001b[43m    \u001b[49m\u001b[43m)\u001b[49m\n\u001b[1;32m    724\u001b[0m \u001b[38;5;28;01melif\u001b[39;00m timing_package\u001b[38;5;241m.\u001b[39mlower() \u001b[38;5;241m==\u001b[39m \u001b[38;5;124m\"\u001b[39m\u001b[38;5;124mpint\u001b[39m\u001b[38;5;124m\"\u001b[39m:\n\u001b[1;32m    725\u001b[0m     \u001b[38;5;28;01mif\u001b[39;00m pint \u001b[38;5;129;01mis\u001b[39;00m \u001b[38;5;28;01mNone\u001b[39;00m:  \u001b[38;5;66;03m# pragma: no cover\u001b[39;00m\n",
      "File \u001b[0;32m/fred/oz022/tkimpson/conda_envs/Argus3/lib/python3.12/site-packages/enterprise/pulsar.py:495\u001b[0m, in \u001b[0;36mTempo2Pulsar.__init__\u001b[0;34m(self, t2pulsar, sort, drop_t2pulsar, planets, par_name, tim_name)\u001b[0m\n\u001b[1;32m    492\u001b[0m \u001b[38;5;28mself\u001b[39m\u001b[38;5;241m.\u001b[39mplanets \u001b[38;5;241m=\u001b[39m planets\n\u001b[1;32m    493\u001b[0m \u001b[38;5;28mself\u001b[39m\u001b[38;5;241m.\u001b[39mname \u001b[38;5;241m=\u001b[39m \u001b[38;5;28mstr\u001b[39m(t2pulsar\u001b[38;5;241m.\u001b[39mname)\n\u001b[0;32m--> 495\u001b[0m \u001b[38;5;28mself\u001b[39m\u001b[38;5;241m.\u001b[39m_toas \u001b[38;5;241m=\u001b[39m np\u001b[38;5;241m.\u001b[39mdouble(\u001b[43mt2pulsar\u001b[49m\u001b[38;5;241;43m.\u001b[39;49m\u001b[43mtoas\u001b[49m\u001b[43m(\u001b[49m\u001b[43m)\u001b[49m) \u001b[38;5;241m*\u001b[39m \u001b[38;5;241m86400\u001b[39m\n\u001b[1;32m    496\u001b[0m \u001b[38;5;66;03m# saving also stoas (e.g., for DMX comparisons)\u001b[39;00m\n\u001b[1;32m    497\u001b[0m \u001b[38;5;28mself\u001b[39m\u001b[38;5;241m.\u001b[39m_stoas \u001b[38;5;241m=\u001b[39m np\u001b[38;5;241m.\u001b[39mdouble(t2pulsar\u001b[38;5;241m.\u001b[39mstoas) \u001b[38;5;241m*\u001b[39m \u001b[38;5;241m86400\u001b[39m\n",
      "File \u001b[0;32m/fred/oz022/tkimpson/conda_envs/Argus3/lib/python3.12/site-packages/libstempo/libstempo.pyx:1298\u001b[0m, in \u001b[0;36mlibstempo.libstempo.tempopulsar.toas\u001b[0;34m()\u001b[0m\n",
      "File \u001b[0;32m<stringsource>:275\u001b[0m, in \u001b[0;36mView.MemoryView.array_cwrapper\u001b[0;34m()\u001b[0m\n",
      "File \u001b[0;32m<stringsource>:161\u001b[0m, in \u001b[0;36mView.MemoryView.array.__cinit__\u001b[0;34m()\u001b[0m\n",
      "\u001b[0;31mValueError\u001b[0m: Invalid shape in axis 0: 0."
     ]
    }
   ],
   "source": [
    "psrs = []\n",
    "for p, t in zip(parfiles, timfiles):\n",
    "    psr = enterprise_pulsar(p, t)\n",
    "    psrs.append(psr)"
   ]
  },
  {
   "cell_type": "code",
   "execution_count": 7,
   "metadata": {},
   "outputs": [],
   "source": [
    "import libstempo "
   ]
  },
  {
   "cell_type": "code",
   "execution_count": 8,
   "metadata": {},
   "outputs": [
    {
     "ename": "TypeError",
     "evalue": "toas() needs an argument",
     "output_type": "error",
     "traceback": [
      "\u001b[0;31m---------------------------------------------------------------------------\u001b[0m",
      "\u001b[0;31mTypeError\u001b[0m                                 Traceback (most recent call last)",
      "Cell \u001b[0;32mIn[8], line 1\u001b[0m\n\u001b[0;32m----> 1\u001b[0m \u001b[43mlibstempo\u001b[49m\u001b[38;5;241;43m.\u001b[39;49m\u001b[43mlibstempo\u001b[49m\u001b[38;5;241;43m.\u001b[39;49m\u001b[43mtempopulsar\u001b[49m\u001b[38;5;241;43m.\u001b[39;49m\u001b[43mtoas\u001b[49m\u001b[43m(\u001b[49m\u001b[43m)\u001b[49m\n",
      "\u001b[0;31mTypeError\u001b[0m: toas() needs an argument"
     ]
    }
   ],
   "source": [
    "libstempo.libstempo.tempopulsar.toas()"
   ]
  },
  {
   "cell_type": "code",
   "execution_count": null,
   "metadata": {},
   "outputs": [],
   "source": []
  },
  {
   "cell_type": "code",
   "execution_count": 6,
   "metadata": {},
   "outputs": [
    {
     "name": "stdout",
     "output_type": "stream",
     "text": [
      "Error processing files ../data/data_from_enterprise/mdc1/J0030+0451.par and ../data/data_from_enterprise/mdc1/J0030+0451.tim: Invalid shape in axis 0: 0.\n",
      "Error processing files ../data/data_from_enterprise/mdc1/J0218+4232.par and ../data/data_from_enterprise/mdc1/J0218+4232.tim: Invalid shape in axis 0: 0.\n",
      "Error processing files ../data/data_from_enterprise/mdc1/J0437-4715.par and ../data/data_from_enterprise/mdc1/J0437-4715.tim: Invalid shape in axis 0: 0.\n",
      "Error processing files ../data/data_from_enterprise/mdc1/J0613-0200.par and ../data/data_from_enterprise/mdc1/J0613-0200.tim: Invalid shape in axis 0: 0.\n",
      "Error processing files ../data/data_from_enterprise/mdc1/J0621+1002.par and ../data/data_from_enterprise/mdc1/J0621+1002.tim: Invalid shape in axis 0: 0.\n",
      "Error processing files ../data/data_from_enterprise/mdc1/J0711-6830.par and ../data/data_from_enterprise/mdc1/J0711-6830.tim: Invalid shape in axis 0: 0.\n",
      "Error processing files ../data/data_from_enterprise/mdc1/J0751+1807.par and ../data/data_from_enterprise/mdc1/J0751+1807.tim: Invalid shape in axis 0: 0.\n",
      "Error processing files ../data/data_from_enterprise/mdc1/J0900-3144.par and ../data/data_from_enterprise/mdc1/J0900-3144.tim: Invalid shape in axis 0: 0.\n",
      "Error processing files ../data/data_from_enterprise/mdc1/J1012+5307.par and ../data/data_from_enterprise/mdc1/J1012+5307.tim: Invalid shape in axis 0: 0.\n",
      "Error processing files ../data/data_from_enterprise/mdc1/J1022+1001.par and ../data/data_from_enterprise/mdc1/J1022+1001.tim: Invalid shape in axis 0: 0.\n",
      "Error processing files ../data/data_from_enterprise/mdc1/J1024-0719.par and ../data/data_from_enterprise/mdc1/J1024-0719.tim: Invalid shape in axis 0: 0.\n",
      "Error processing files ../data/data_from_enterprise/mdc1/J1045-4509.par and ../data/data_from_enterprise/mdc1/J1045-4509.tim: Invalid shape in axis 0: 0.\n",
      "Error processing files ../data/data_from_enterprise/mdc1/J1455-3330.par and ../data/data_from_enterprise/mdc1/J1455-3330.tim: Invalid shape in axis 0: 0.\n",
      "Error processing files ../data/data_from_enterprise/mdc1/J1600-3053.par and ../data/data_from_enterprise/mdc1/J1600-3053.tim: Invalid shape in axis 0: 0.\n",
      "Error processing files ../data/data_from_enterprise/mdc1/J1603-7202.par and ../data/data_from_enterprise/mdc1/J1603-7202.tim: Invalid shape in axis 0: 0.\n",
      "Error processing files ../data/data_from_enterprise/mdc1/J1640+2224.par and ../data/data_from_enterprise/mdc1/J1640+2224.tim: Invalid shape in axis 0: 0.\n",
      "Error processing files ../data/data_from_enterprise/mdc1/J1643-1224.par and ../data/data_from_enterprise/mdc1/J1643-1224.tim: Invalid shape in axis 0: 0.\n",
      "Error processing files ../data/data_from_enterprise/mdc1/J1713+0747.par and ../data/data_from_enterprise/mdc1/J1713+0747.tim: Invalid shape in axis 0: 0.\n",
      "Error processing files ../data/data_from_enterprise/mdc1/J1730-2304.par and ../data/data_from_enterprise/mdc1/J1730-2304.tim: Invalid shape in axis 0: 0.\n",
      "Error processing files ../data/data_from_enterprise/mdc1/J1732-5049.par and ../data/data_from_enterprise/mdc1/J1732-5049.tim: Invalid shape in axis 0: 0.\n",
      "Error processing files ../data/data_from_enterprise/mdc1/J1738+0333.par and ../data/data_from_enterprise/mdc1/J1738+0333.tim: Invalid shape in axis 0: 0.\n",
      "Error processing files ../data/data_from_enterprise/mdc1/J1741+1351.par and ../data/data_from_enterprise/mdc1/J1741+1351.tim: Invalid shape in axis 0: 0.\n",
      "Error processing files ../data/data_from_enterprise/mdc1/J1744-1134.par and ../data/data_from_enterprise/mdc1/J1744-1134.tim: Invalid shape in axis 0: 0.\n",
      "Error processing files ../data/data_from_enterprise/mdc1/J1751-2857.par and ../data/data_from_enterprise/mdc1/J1751-2857.tim: Invalid shape in axis 0: 0.\n",
      "Error processing files ../data/data_from_enterprise/mdc1/J1853+1303.par and ../data/data_from_enterprise/mdc1/J1853+1303.tim: Invalid shape in axis 0: 0.\n",
      "Error processing files ../data/data_from_enterprise/mdc1/J1857+0943.par and ../data/data_from_enterprise/mdc1/J1857+0943.tim: Invalid shape in axis 0: 0.\n",
      "Error processing files ../data/data_from_enterprise/mdc1/J1909-3744.par and ../data/data_from_enterprise/mdc1/J1909-3744.tim: Invalid shape in axis 0: 0.\n",
      "Error processing files ../data/data_from_enterprise/mdc1/J1910+1256.par and ../data/data_from_enterprise/mdc1/J1910+1256.tim: Invalid shape in axis 0: 0.\n",
      "Error processing files ../data/data_from_enterprise/mdc1/J1918-0642.par and ../data/data_from_enterprise/mdc1/J1918-0642.tim: Invalid shape in axis 0: 0.\n",
      "Error processing files ../data/data_from_enterprise/mdc1/J1939+2134.par and ../data/data_from_enterprise/mdc1/J1939+2134.tim: Invalid shape in axis 0: 0.\n",
      "Error processing files ../data/data_from_enterprise/mdc1/J1955+2908.par and ../data/data_from_enterprise/mdc1/J1955+2908.tim: Invalid shape in axis 0: 0.\n",
      "Error processing files ../data/data_from_enterprise/mdc1/J2019+2425.par and ../data/data_from_enterprise/mdc1/J2019+2425.tim: Invalid shape in axis 0: 0.\n",
      "Error processing files ../data/data_from_enterprise/mdc1/J2124-3358.par and ../data/data_from_enterprise/mdc1/J2124-3358.tim: Invalid shape in axis 0: 0.\n",
      "Error processing files ../data/data_from_enterprise/mdc1/J2129-5721.par and ../data/data_from_enterprise/mdc1/J2129-5721.tim: Invalid shape in axis 0: 0.\n",
      "Error processing files ../data/data_from_enterprise/mdc1/J2145-0750.par and ../data/data_from_enterprise/mdc1/J2145-0750.tim: Invalid shape in axis 0: 0.\n",
      "Error processing files ../data/data_from_enterprise/mdc1/J2317+1439.par and ../data/data_from_enterprise/mdc1/J2317+1439.tim: Invalid shape in axis 0: 0.\n",
      "Successfully loaded 0 pulsar objects.\n"
     ]
    }
   ],
   "source": [
    "import os\n",
    "from enterprise.pulsar import Pulsar as enterprise_pulsar\n",
    "\n",
    "psrs = []\n",
    "for p, t in zip(parfiles, timfiles):\n",
    "    # Check if files exist\n",
    "    if not os.path.exists(p):\n",
    "        print(f\"Parameter file not found: {p}\")\n",
    "        continue\n",
    "    if not os.path.exists(t):\n",
    "        print(f\"Timing file not found: {t}\")\n",
    "        continue\n",
    "    \n",
    "    # Check if files are not empty\n",
    "    with open(p, 'r') as par_file:\n",
    "        par_content = par_file.read()\n",
    "        if not par_content.strip():\n",
    "            print(f\"Parameter file is empty: {p}\")\n",
    "            continue\n",
    "    \n",
    "    with open(t, 'r') as tim_file:\n",
    "        tim_content = tim_file.read()\n",
    "        if not tim_content.strip():\n",
    "            print(f\"Timing file is empty: {t}\")\n",
    "            continue\n",
    "    \n",
    "    # Try to create the Pulsar object\n",
    "    try:\n",
    "        psr = enterprise_pulsar(p, t)\n",
    "        psrs.append(psr)\n",
    "    except Exception as e:\n",
    "        print(f\"Error processing files {p} and {t}: {e}\")\n",
    "\n",
    "# Check the resulting list of Pulsar objects\n",
    "print(f\"Successfully loaded {len(psrs)} pulsar objects.\")"
   ]
  },
  {
   "cell_type": "code",
   "execution_count": 2,
   "metadata": {},
   "outputs": [],
   "source": [
    "import sys\n",
    "sys.path.append('../src')"
   ]
  },
  {
   "cell_type": "code",
   "execution_count": 3,
   "metadata": {},
   "outputs": [],
   "source": [
    "from data_loader import LoadWidebandPulsarData"
   ]
  },
  {
   "cell_type": "code",
   "execution_count": 4,
   "metadata": {},
   "outputs": [
    {
     "name": "stderr",
     "output_type": "stream",
     "text": [
      "/fred/oz022/tkimpson/conda_envs/Argus3/lib/python3.12/site-packages/pint/models/model_builder.py:225: UserWarning: Unrecognized parfile line 'EPHVER 5'\n",
      "  warnings.warn(f\"Unrecognized parfile line '{p_line}'\", UserWarning)\n",
      "\u001b[32m2025-01-29 14:11:26.264\u001b[0m | \u001b[33m\u001b[1mWARNING \u001b[0m | \u001b[36mpint.models.model_builder\u001b[0m:\u001b[36m__call__\u001b[0m:\u001b[36m229\u001b[0m - \u001b[33m\u001b[1mUNITS is not specified. Assuming TDB...\u001b[0m\n",
      "\u001b[32m2025-01-29 14:11:26.314\u001b[0m | \u001b[34m\u001b[1mDEBUG   \u001b[0m | \u001b[36mpint.toa\u001b[0m:\u001b[36m__init__\u001b[0m:\u001b[36m1377\u001b[0m - \u001b[34m\u001b[1mNo pulse number flags found in the TOAs\u001b[0m\n",
      "\u001b[32m2025-01-29 14:11:26.315\u001b[0m | \u001b[34m\u001b[1mDEBUG   \u001b[0m | \u001b[36mpint.toa\u001b[0m:\u001b[36mapply_clock_corrections\u001b[0m:\u001b[36m2224\u001b[0m - \u001b[34m\u001b[1mApplying clock corrections (include_bipm = False)\u001b[0m\n",
      "\u001b[32m2025-01-29 14:11:26.324\u001b[0m | \u001b[1mINFO    \u001b[0m | \u001b[36mpint.observatory.topo_obs\u001b[0m:\u001b[36mclock_corrections\u001b[0m:\u001b[36m354\u001b[0m - \u001b[1mObservatory axis requires no clock corrections.\u001b[0m\n",
      "\u001b[32m2025-01-29 14:11:26.390\u001b[0m | \u001b[34m\u001b[1mDEBUG   \u001b[0m | \u001b[36mpint.toa\u001b[0m:\u001b[36mcompute_TDBs\u001b[0m:\u001b[36m2270\u001b[0m - \u001b[34m\u001b[1mComputing TDB columns.\u001b[0m\n",
      "\u001b[32m2025-01-29 14:11:26.390\u001b[0m | \u001b[34m\u001b[1mDEBUG   \u001b[0m | \u001b[36mpint.toa\u001b[0m:\u001b[36mcompute_TDBs\u001b[0m:\u001b[36m2291\u001b[0m - \u001b[34m\u001b[1mUsing EPHEM = DE440 for TDB calculation.\u001b[0m\n",
      "\u001b[32m2025-01-29 14:11:26.410\u001b[0m | \u001b[34m\u001b[1mDEBUG   \u001b[0m | \u001b[36mpint.toa\u001b[0m:\u001b[36mget_TOAs\u001b[0m:\u001b[36m310\u001b[0m - \u001b[34m\u001b[1mPlanet PosVels will be calculated.\u001b[0m\n",
      "\u001b[32m2025-01-29 14:11:26.410\u001b[0m | \u001b[34m\u001b[1mDEBUG   \u001b[0m | \u001b[36mpint.toa\u001b[0m:\u001b[36mcompute_posvels\u001b[0m:\u001b[36m2366\u001b[0m - \u001b[34m\u001b[1mComputing PosVels of observatories, Earth and planets, using DE440\u001b[0m\n",
      "\u001b[32m2025-01-29 14:11:26.432\u001b[0m | \u001b[1mINFO    \u001b[0m | \u001b[36mpint.solar_system_ephemerides\u001b[0m:\u001b[36mload_kernel\u001b[0m:\u001b[36m194\u001b[0m - \u001b[1mSet solar system ephemeris to de440 through astropy\u001b[0m\n",
      "\u001b[32m2025-01-29 14:11:27.100\u001b[0m | \u001b[34m\u001b[1mDEBUG   \u001b[0m | \u001b[36mpint.toa\u001b[0m:\u001b[36mcompute_posvels\u001b[0m:\u001b[36m2424\u001b[0m - \u001b[34m\u001b[1mSSB obs pos [-1.16725313e+10  1.34138434e+11  5.81425475e+10] m\u001b[0m\n",
      "\u001b[32m2025-01-29 14:11:27.102\u001b[0m | \u001b[1mINFO    \u001b[0m | \u001b[36mpint.solar_system_ephemerides\u001b[0m:\u001b[36mload_kernel\u001b[0m:\u001b[36m194\u001b[0m - \u001b[1mSet solar system ephemeris to de440 through astropy\u001b[0m\n",
      "\u001b[32m2025-01-29 14:11:27.108\u001b[0m | \u001b[1mINFO    \u001b[0m | \u001b[36mpint.solar_system_ephemerides\u001b[0m:\u001b[36mload_kernel\u001b[0m:\u001b[36m194\u001b[0m - \u001b[1mSet solar system ephemeris to de440 through astropy\u001b[0m\n",
      "\u001b[32m2025-01-29 14:11:27.113\u001b[0m | \u001b[1mINFO    \u001b[0m | \u001b[36mpint.solar_system_ephemerides\u001b[0m:\u001b[36mload_kernel\u001b[0m:\u001b[36m194\u001b[0m - \u001b[1mSet solar system ephemeris to de440 through astropy\u001b[0m\n",
      "\u001b[32m2025-01-29 14:11:27.114\u001b[0m | \u001b[1mINFO    \u001b[0m | \u001b[36mpint.solar_system_ephemerides\u001b[0m:\u001b[36mload_kernel\u001b[0m:\u001b[36m194\u001b[0m - \u001b[1mSet solar system ephemeris to de440 through astropy\u001b[0m\n",
      "\u001b[32m2025-01-29 14:11:27.120\u001b[0m | \u001b[1mINFO    \u001b[0m | \u001b[36mpint.solar_system_ephemerides\u001b[0m:\u001b[36mload_kernel\u001b[0m:\u001b[36m194\u001b[0m - \u001b[1mSet solar system ephemeris to de440 through astropy\u001b[0m\n",
      "\u001b[32m2025-01-29 14:11:27.126\u001b[0m | \u001b[1mINFO    \u001b[0m | \u001b[36mpint.solar_system_ephemerides\u001b[0m:\u001b[36mload_kernel\u001b[0m:\u001b[36m194\u001b[0m - \u001b[1mSet solar system ephemeris to de440 through astropy\u001b[0m\n",
      "\u001b[32m2025-01-29 14:11:27.127\u001b[0m | \u001b[1mINFO    \u001b[0m | \u001b[36mpint.solar_system_ephemerides\u001b[0m:\u001b[36mload_kernel\u001b[0m:\u001b[36m194\u001b[0m - \u001b[1mSet solar system ephemeris to de440 through astropy\u001b[0m\n",
      "\u001b[32m2025-01-29 14:11:27.128\u001b[0m | \u001b[34m\u001b[1mDEBUG   \u001b[0m | \u001b[36mpint.toa\u001b[0m:\u001b[36mcompute_posvels\u001b[0m:\u001b[36m2438\u001b[0m - \u001b[34m\u001b[1mAdding columns ssb_obs_pos ssb_obs_vel obs_sun_pos obs_jupiter_pos obs_saturn_pos obs_venus_pos obs_uranus_pos obs_neptune_pos obs_earth_pos\u001b[0m\n",
      "\u001b[32m2025-01-29 14:11:27.130\u001b[0m | \u001b[1mINFO    \u001b[0m | \u001b[36mpint.models.model_builder\u001b[0m:\u001b[36mget_model_and_toas\u001b[0m:\u001b[36m968\u001b[0m - \u001b[1mCreating a TZR TOA (AbsPhase) using the given TOAs object.\u001b[0m\n",
      "\u001b[32m2025-01-29 14:11:27.137\u001b[0m | \u001b[1mINFO    \u001b[0m | \u001b[36mpint.models.absolute_phase\u001b[0m:\u001b[36mvalidate\u001b[0m:\u001b[36m74\u001b[0m - \u001b[1mThe TZRSITE is set at the solar system barycenter.\u001b[0m\n",
      "\u001b[32m2025-01-29 14:11:27.137\u001b[0m | \u001b[1mINFO    \u001b[0m | \u001b[36mpint.models.absolute_phase\u001b[0m:\u001b[36mvalidate\u001b[0m:\u001b[36m78\u001b[0m - \u001b[1mTZRFRQ was 0.0 or None. Setting to infinite frequency.\u001b[0m\n",
      "\u001b[32m2025-01-29 14:11:27.149\u001b[0m | \u001b[34m\u001b[1mDEBUG   \u001b[0m | \u001b[36mpint.models.absolute_phase\u001b[0m:\u001b[36mget_TZR_toa\u001b[0m:\u001b[36m101\u001b[0m - \u001b[34m\u001b[1mCreating and dealing with the single TZR_toa for absolute phase\u001b[0m\n",
      "\u001b[32m2025-01-29 14:11:27.151\u001b[0m | \u001b[34m\u001b[1mDEBUG   \u001b[0m | \u001b[36mpint.toa\u001b[0m:\u001b[36m__init__\u001b[0m:\u001b[36m1377\u001b[0m - \u001b[34m\u001b[1mNo pulse number flags found in the TOAs\u001b[0m\n",
      "\u001b[32m2025-01-29 14:11:27.152\u001b[0m | \u001b[34m\u001b[1mDEBUG   \u001b[0m | \u001b[36mpint.toa\u001b[0m:\u001b[36mapply_clock_corrections\u001b[0m:\u001b[36m2224\u001b[0m - \u001b[34m\u001b[1mApplying clock corrections (include_bipm = False)\u001b[0m\n",
      "\u001b[32m2025-01-29 14:11:27.153\u001b[0m | \u001b[34m\u001b[1mDEBUG   \u001b[0m | \u001b[36mpint.toa\u001b[0m:\u001b[36mcompute_TDBs\u001b[0m:\u001b[36m2270\u001b[0m - \u001b[34m\u001b[1mComputing TDB columns.\u001b[0m\n",
      "\u001b[32m2025-01-29 14:11:27.154\u001b[0m | \u001b[34m\u001b[1mDEBUG   \u001b[0m | \u001b[36mpint.toa\u001b[0m:\u001b[36mcompute_TDBs\u001b[0m:\u001b[36m2291\u001b[0m - \u001b[34m\u001b[1mUsing EPHEM = DE440 for TDB calculation.\u001b[0m\n",
      "\u001b[32m2025-01-29 14:11:27.162\u001b[0m | \u001b[34m\u001b[1mDEBUG   \u001b[0m | \u001b[36mpint.toa\u001b[0m:\u001b[36mcompute_posvels\u001b[0m:\u001b[36m2366\u001b[0m - \u001b[34m\u001b[1mComputing PosVels of observatories, Earth and planets, using DE440\u001b[0m\n",
      "\u001b[32m2025-01-29 14:11:27.164\u001b[0m | \u001b[34m\u001b[1mDEBUG   \u001b[0m | \u001b[36mpint.toa\u001b[0m:\u001b[36mcompute_posvels\u001b[0m:\u001b[36m2424\u001b[0m - \u001b[34m\u001b[1mSSB obs pos [0. 0. 0.] m\u001b[0m\n",
      "\u001b[32m2025-01-29 14:11:27.165\u001b[0m | \u001b[1mINFO    \u001b[0m | \u001b[36mpint.solar_system_ephemerides\u001b[0m:\u001b[36mload_kernel\u001b[0m:\u001b[36m194\u001b[0m - \u001b[1mSet solar system ephemeris to de440 through astropy\u001b[0m\n",
      "\u001b[32m2025-01-29 14:11:27.166\u001b[0m | \u001b[1mINFO    \u001b[0m | \u001b[36mpint.solar_system_ephemerides\u001b[0m:\u001b[36mload_kernel\u001b[0m:\u001b[36m194\u001b[0m - \u001b[1mSet solar system ephemeris to de440 through astropy\u001b[0m\n",
      "\u001b[32m2025-01-29 14:11:27.167\u001b[0m | \u001b[1mINFO    \u001b[0m | \u001b[36mpint.solar_system_ephemerides\u001b[0m:\u001b[36mload_kernel\u001b[0m:\u001b[36m194\u001b[0m - \u001b[1mSet solar system ephemeris to de440 through astropy\u001b[0m\n",
      "\u001b[32m2025-01-29 14:11:27.168\u001b[0m | \u001b[1mINFO    \u001b[0m | \u001b[36mpint.solar_system_ephemerides\u001b[0m:\u001b[36mload_kernel\u001b[0m:\u001b[36m194\u001b[0m - \u001b[1mSet solar system ephemeris to de440 through astropy\u001b[0m\n",
      "\u001b[32m2025-01-29 14:11:27.169\u001b[0m | \u001b[1mINFO    \u001b[0m | \u001b[36mpint.solar_system_ephemerides\u001b[0m:\u001b[36mload_kernel\u001b[0m:\u001b[36m194\u001b[0m - \u001b[1mSet solar system ephemeris to de440 through astropy\u001b[0m\n",
      "\u001b[32m2025-01-29 14:11:27.169\u001b[0m | \u001b[1mINFO    \u001b[0m | \u001b[36mpint.solar_system_ephemerides\u001b[0m:\u001b[36mload_kernel\u001b[0m:\u001b[36m194\u001b[0m - \u001b[1mSet solar system ephemeris to de440 through astropy\u001b[0m\n",
      "\u001b[32m2025-01-29 14:11:27.170\u001b[0m | \u001b[1mINFO    \u001b[0m | \u001b[36mpint.solar_system_ephemerides\u001b[0m:\u001b[36mload_kernel\u001b[0m:\u001b[36m194\u001b[0m - \u001b[1mSet solar system ephemeris to de440 through astropy\u001b[0m\n",
      "\u001b[32m2025-01-29 14:11:27.171\u001b[0m | \u001b[34m\u001b[1mDEBUG   \u001b[0m | \u001b[36mpint.toa\u001b[0m:\u001b[36mcompute_posvels\u001b[0m:\u001b[36m2438\u001b[0m - \u001b[34m\u001b[1mAdding columns ssb_obs_pos ssb_obs_vel obs_sun_pos obs_jupiter_pos obs_saturn_pos obs_venus_pos obs_uranus_pos obs_neptune_pos obs_earth_pos\u001b[0m\n",
      "\u001b[32m2025-01-29 14:11:27.173\u001b[0m | \u001b[34m\u001b[1mDEBUG   \u001b[0m | \u001b[36mpint.models.absolute_phase\u001b[0m:\u001b[36mget_TZR_toa\u001b[0m:\u001b[36m122\u001b[0m - \u001b[34m\u001b[1mDone with TZR_toa\u001b[0m\n"
     ]
    }
   ],
   "source": [
    "\n",
    "psr_name = 'J0030+0451'\n",
    "\n",
    "par = f'../data/IPTA_MockDataChallenge/IPTA_Challenge1_open/Challenge_Data/Dataset1/{psr_name}.par'\n",
    "tim = f'../data/IPTA_MockDataChallenge/IPTA_Challenge1_open/Challenge_Data/Dataset1/{psr_name}.tim'\n",
    "psr = LoadWidebandPulsarData.read_par_tim(par, tim, timing_package=\"pint\", ephem=\"DE440\", bipm_version=\"BIPM2019\", clk=\"TT(BIPM2019)\")\n"
   ]
  },
  {
   "cell_type": "code",
   "execution_count": null,
   "metadata": {},
   "outputs": [],
   "source": []
  },
  {
   "cell_type": "code",
   "execution_count": 5,
   "metadata": {},
   "outputs": [],
   "source": [
    "import pandas as pd \n",
    "# Create a DataFrame with toas and residuals\n",
    "df = pd.DataFrame({\n",
    "    'toas': psr.toas,\n",
    "    'residuals': psr.residuals\n",
    "})"
   ]
  },
  {
   "cell_type": "code",
   "execution_count": 6,
   "metadata": {},
   "outputs": [
    {
     "name": "stderr",
     "output_type": "stream",
     "text": [
      "\u001b[32m2025-01-29 14:11:28.894\u001b[0m | \u001b[31m\u001b[1mERROR   \u001b[0m | \u001b[36mpint.models.model_builder\u001b[0m:\u001b[36mchoose_binary_model\u001b[0m:\u001b[36m638\u001b[0m - \u001b[31m\u001b[1mCould not find binary model T2\u001b[0m\n",
      "\u001b[32m2025-01-29 14:11:28.894\u001b[0m | \u001b[1mINFO    \u001b[0m | \u001b[36mpint.models.model_builder\u001b[0m:\u001b[36mchoose_binary_model\u001b[0m:\u001b[36m640\u001b[0m - \u001b[1mCompatible models with these parameters: BT, BT_piecewise, DD, DDK, DDGR, DDS, DDH.\u001b[0m\n"
     ]
    },
    {
     "name": "stdout",
     "output_type": "stream",
     "text": [
      "36\n",
      "../data/IPTA_MockDataChallenge/IPTA_Challenge1_open/Challenge_Data/Dataset1/J2145-0750.par\n",
      "Error loading pulsar data: Pulsar system/Binary model component T2 is not provided. Perhaps use BT?\n"
     ]
    },
    {
     "ename": "UnknownBinaryModel",
     "evalue": "Pulsar system/Binary model component T2 is not provided. Perhaps use BT?",
     "output_type": "error",
     "traceback": [
      "\u001b[0;31m---------------------------------------------------------------------------\u001b[0m",
      "\u001b[0;31mUnknownBinaryModel\u001b[0m                        Traceback (most recent call last)",
      "Cell \u001b[0;32mIn[6], line 19\u001b[0m\n\u001b[1;32m     17\u001b[0m \u001b[38;5;28;01mfor\u001b[39;00m par_file, tim_file \u001b[38;5;129;01min\u001b[39;00m [file_pairs[\u001b[38;5;241m8\u001b[39m]]:\n\u001b[1;32m     18\u001b[0m     \u001b[38;5;28mprint\u001b[39m (par_file)\n\u001b[0;32m---> 19\u001b[0m     psr \u001b[38;5;241m=\u001b[39m \u001b[43mLoadWidebandPulsarData\u001b[49m\u001b[38;5;241;43m.\u001b[39;49m\u001b[43mread_par_tim\u001b[49m\u001b[43m(\u001b[49m\u001b[43mpar_file\u001b[49m\u001b[43m,\u001b[49m\u001b[43m \u001b[49m\u001b[43mtim_file\u001b[49m\u001b[43m,\u001b[49m\u001b[43m \u001b[49m\u001b[43mtiming_package\u001b[49m\u001b[38;5;241;43m=\u001b[39;49m\u001b[38;5;124;43m\"\u001b[39;49m\u001b[38;5;124;43mpint\u001b[39;49m\u001b[38;5;124;43m\"\u001b[39;49m\u001b[43m,\u001b[49m\u001b[43m \u001b[49m\u001b[43mephem\u001b[49m\u001b[38;5;241;43m=\u001b[39;49m\u001b[38;5;124;43m\"\u001b[39;49m\u001b[38;5;124;43mDE440\u001b[39;49m\u001b[38;5;124;43m\"\u001b[39;49m\u001b[43m,\u001b[49m\u001b[43m \u001b[49m\u001b[43mbipm_version\u001b[49m\u001b[38;5;241;43m=\u001b[39;49m\u001b[38;5;124;43m\"\u001b[39;49m\u001b[38;5;124;43mBIPM2019\u001b[39;49m\u001b[38;5;124;43m\"\u001b[39;49m\u001b[43m,\u001b[49m\u001b[43m \u001b[49m\u001b[43mclk\u001b[49m\u001b[38;5;241;43m=\u001b[39;49m\u001b[38;5;124;43m\"\u001b[39;49m\u001b[38;5;124;43mTT(BIPM2019)\u001b[39;49m\u001b[38;5;124;43m\"\u001b[39;49m\u001b[43m)\u001b[49m\n",
      "File \u001b[0;32m/fred/oz022/tkimpson/Argus/notebooks/../src/data_loader.py:95\u001b[0m, in \u001b[0;36mLoadWidebandPulsarData.read_par_tim\u001b[0;34m(cls, par_file, tim_file, **kwargs)\u001b[0m\n\u001b[1;32m     92\u001b[0m \u001b[38;5;28;01mtry\u001b[39;00m:\n\u001b[1;32m     93\u001b[0m     \u001b[38;5;66;03m# Set the logging level to WARNING to suppress INFO and DEBUG messages\u001b[39;00m\n\u001b[1;32m     94\u001b[0m     logging\u001b[38;5;241m.\u001b[39mgetLogger()\u001b[38;5;241m.\u001b[39msetLevel(logging\u001b[38;5;241m.\u001b[39mWARNING)\n\u001b[0;32m---> 95\u001b[0m     pulsar_object \u001b[38;5;241m=\u001b[39m \u001b[43menterprise_pulsar\u001b[49m\u001b[43m(\u001b[49m\u001b[38;5;28;43mstr\u001b[39;49m\u001b[43m(\u001b[49m\u001b[43mpar_file\u001b[49m\u001b[43m)\u001b[49m\u001b[43m,\u001b[49m\u001b[43m \u001b[49m\u001b[38;5;28;43mstr\u001b[39;49m\u001b[43m(\u001b[49m\u001b[43mtim_file\u001b[49m\u001b[43m)\u001b[49m\u001b[43m,\u001b[49m\u001b[43m \u001b[49m\u001b[38;5;241;43m*\u001b[39;49m\u001b[38;5;241;43m*\u001b[39;49m\u001b[43mkwargs\u001b[49m\u001b[43m)\u001b[49m \u001b[38;5;66;03m#error handling. Probably overkill? \u001b[39;00m\n\u001b[1;32m     96\u001b[0m     \u001b[38;5;28;01mreturn\u001b[39;00m \u001b[38;5;28mcls\u001b[39m(pulsar_object)\n\u001b[1;32m     97\u001b[0m \u001b[38;5;28;01mexcept\u001b[39;00m \u001b[38;5;167;01mException\u001b[39;00m \u001b[38;5;28;01mas\u001b[39;00m e:\n",
      "File \u001b[0;32m/fred/oz022/tkimpson/conda_envs/Argus3/lib/python3.12/site-packages/enterprise/pulsar.py:729\u001b[0m, in \u001b[0;36mPulsar\u001b[0;34m(*args, **kwargs)\u001b[0m\n\u001b[1;32m    727\u001b[0m \u001b[38;5;28;01mif\u001b[39;00m (clk \u001b[38;5;129;01mis\u001b[39;00m \u001b[38;5;129;01mnot\u001b[39;00m \u001b[38;5;28;01mNone\u001b[39;00m) \u001b[38;5;129;01mand\u001b[39;00m (bipm_version \u001b[38;5;129;01mis\u001b[39;00m \u001b[38;5;28;01mNone\u001b[39;00m):\n\u001b[1;32m    728\u001b[0m     bipm_version \u001b[38;5;241m=\u001b[39m clk\u001b[38;5;241m.\u001b[39msplit(\u001b[38;5;124m\"\u001b[39m\u001b[38;5;124m(\u001b[39m\u001b[38;5;124m\"\u001b[39m)[\u001b[38;5;241m1\u001b[39m][:\u001b[38;5;241m-\u001b[39m\u001b[38;5;241m1\u001b[39m]\n\u001b[0;32m--> 729\u001b[0m model, toas \u001b[38;5;241m=\u001b[39m \u001b[43mget_model_and_toas\u001b[49m\u001b[43m(\u001b[49m\n\u001b[1;32m    730\u001b[0m \u001b[43m    \u001b[49m\u001b[43mrelparfile\u001b[49m\u001b[43m,\u001b[49m\u001b[43m \u001b[49m\u001b[43mreltimfile\u001b[49m\u001b[43m,\u001b[49m\u001b[43m \u001b[49m\u001b[43mephem\u001b[49m\u001b[38;5;241;43m=\u001b[39;49m\u001b[43mephem\u001b[49m\u001b[43m,\u001b[49m\u001b[43m \u001b[49m\u001b[43mbipm_version\u001b[49m\u001b[38;5;241;43m=\u001b[39;49m\u001b[43mbipm_version\u001b[49m\u001b[43m,\u001b[49m\u001b[43m \u001b[49m\u001b[43mplanets\u001b[49m\u001b[38;5;241;43m=\u001b[39;49m\u001b[43mplanets\u001b[49m\n\u001b[1;32m    731\u001b[0m \u001b[43m\u001b[49m\u001b[43m)\u001b[49m\n\u001b[1;32m    732\u001b[0m os\u001b[38;5;241m.\u001b[39mchdir(cwd)\n\u001b[1;32m    733\u001b[0m \u001b[38;5;28;01mreturn\u001b[39;00m PintPulsar(toas, model, sort\u001b[38;5;241m=\u001b[39msort, drop_pintpsr\u001b[38;5;241m=\u001b[39mdrop_pintpsr, planets\u001b[38;5;241m=\u001b[39mplanets)\n",
      "File \u001b[0;32m/fred/oz022/tkimpson/conda_envs/Argus3/lib/python3.12/site-packages/pint/models/model_builder.py:944\u001b[0m, in \u001b[0;36mget_model_and_toas\u001b[0;34m(parfile, timfile, ephem, include_bipm, bipm_version, planets, usepickle, tdb_method, include_pn, picklefilename, allow_name_mixing, limits, allow_tcb, allow_T2, force_binary_model, add_tzr_to_model, **kwargs)\u001b[0m\n\u001b[1;32m    863\u001b[0m \u001b[38;5;28;01mdef\u001b[39;00m\u001b[38;5;250m \u001b[39m\u001b[38;5;21mget_model_and_toas\u001b[39m(\n\u001b[1;32m    864\u001b[0m     parfile: file_like,\n\u001b[1;32m    865\u001b[0m     timfile: file_like,\n\u001b[0;32m   (...)\u001b[0m\n\u001b[1;32m    880\u001b[0m     \u001b[38;5;241m*\u001b[39m\u001b[38;5;241m*\u001b[39mkwargs,\n\u001b[1;32m    881\u001b[0m ) \u001b[38;5;241m-\u001b[39m\u001b[38;5;241m>\u001b[39m Tuple[TimingModel, TOAs]:\n\u001b[1;32m    882\u001b[0m \u001b[38;5;250m    \u001b[39m\u001b[38;5;124;03m\"\"\"Load a timing model and a related TOAs, using model commands as needed\u001b[39;00m\n\u001b[1;32m    883\u001b[0m \n\u001b[1;32m    884\u001b[0m \u001b[38;5;124;03m    Parameters\u001b[39;00m\n\u001b[0;32m   (...)\u001b[0m\n\u001b[1;32m    941\u001b[0m \u001b[38;5;124;03m    A tuple with (model instance, TOAs instance)\u001b[39;00m\n\u001b[1;32m    942\u001b[0m \u001b[38;5;124;03m    \"\"\"\u001b[39;00m\n\u001b[0;32m--> 944\u001b[0m     mm \u001b[38;5;241m=\u001b[39m \u001b[43mget_model\u001b[49m\u001b[43m(\u001b[49m\n\u001b[1;32m    945\u001b[0m \u001b[43m        \u001b[49m\u001b[43mparfile\u001b[49m\u001b[43m,\u001b[49m\n\u001b[1;32m    946\u001b[0m \u001b[43m        \u001b[49m\u001b[43mallow_name_mixing\u001b[49m\u001b[43m,\u001b[49m\n\u001b[1;32m    947\u001b[0m \u001b[43m        \u001b[49m\u001b[43mallow_tcb\u001b[49m\u001b[38;5;241;43m=\u001b[39;49m\u001b[43mallow_tcb\u001b[49m\u001b[43m,\u001b[49m\n\u001b[1;32m    948\u001b[0m \u001b[43m        \u001b[49m\u001b[43mallow_T2\u001b[49m\u001b[38;5;241;43m=\u001b[39;49m\u001b[43mallow_T2\u001b[49m\u001b[43m,\u001b[49m\n\u001b[1;32m    949\u001b[0m \u001b[43m        \u001b[49m\u001b[43mforce_binary_model\u001b[49m\u001b[38;5;241;43m=\u001b[39;49m\u001b[43mforce_binary_model\u001b[49m\u001b[43m,\u001b[49m\n\u001b[1;32m    950\u001b[0m \u001b[43m        \u001b[49m\u001b[38;5;241;43m*\u001b[39;49m\u001b[38;5;241;43m*\u001b[39;49m\u001b[43mkwargs\u001b[49m\u001b[43m,\u001b[49m\n\u001b[1;32m    951\u001b[0m \u001b[43m    \u001b[49m\u001b[43m)\u001b[49m\n\u001b[1;32m    953\u001b[0m     tt \u001b[38;5;241m=\u001b[39m get_TOAs(\n\u001b[1;32m    954\u001b[0m         timfile,\n\u001b[1;32m    955\u001b[0m         include_pn\u001b[38;5;241m=\u001b[39minclude_pn,\n\u001b[0;32m   (...)\u001b[0m\n\u001b[1;32m    964\u001b[0m         limits\u001b[38;5;241m=\u001b[39mlimits,\n\u001b[1;32m    965\u001b[0m     )\n\u001b[1;32m    967\u001b[0m     \u001b[38;5;28;01mif\u001b[39;00m \u001b[38;5;124m\"\u001b[39m\u001b[38;5;124mAbsPhase\u001b[39m\u001b[38;5;124m\"\u001b[39m \u001b[38;5;129;01mnot\u001b[39;00m \u001b[38;5;129;01min\u001b[39;00m mm\u001b[38;5;241m.\u001b[39mcomponents \u001b[38;5;129;01mand\u001b[39;00m add_tzr_to_model:\n",
      "File \u001b[0;32m/fred/oz022/tkimpson/conda_envs/Argus3/lib/python3.12/site-packages/pint/models/model_builder.py:848\u001b[0m, in \u001b[0;36mget_model\u001b[0;34m(parfile, allow_name_mixing, allow_tcb, allow_T2, force_binary_model, toas_for_tzr, **kwargs)\u001b[0m\n\u001b[1;32m    835\u001b[0m     \u001b[38;5;28;01mreturn\u001b[39;00m model_builder(\n\u001b[1;32m    836\u001b[0m         StringIO(contents),\n\u001b[1;32m    837\u001b[0m         allow_name_mixing,\n\u001b[0;32m   (...)\u001b[0m\n\u001b[1;32m    842\u001b[0m         \u001b[38;5;241m*\u001b[39m\u001b[38;5;241m*\u001b[39mkwargs,\n\u001b[1;32m    843\u001b[0m     )\n\u001b[1;32m    845\u001b[0m \u001b[38;5;66;03m# # parfile is a filename and can be handled by ModelBuilder\u001b[39;00m\n\u001b[1;32m    846\u001b[0m \u001b[38;5;66;03m# if _model_builder is None:\u001b[39;00m\n\u001b[1;32m    847\u001b[0m \u001b[38;5;66;03m#     _model_builder = ModelBuilder()\u001b[39;00m\n\u001b[0;32m--> 848\u001b[0m model \u001b[38;5;241m=\u001b[39m \u001b[43mmodel_builder\u001b[49m\u001b[43m(\u001b[49m\n\u001b[1;32m    849\u001b[0m \u001b[43m    \u001b[49m\u001b[43mparfile\u001b[49m\u001b[43m,\u001b[49m\n\u001b[1;32m    850\u001b[0m \u001b[43m    \u001b[49m\u001b[43mallow_name_mixing\u001b[49m\u001b[43m,\u001b[49m\n\u001b[1;32m    851\u001b[0m \u001b[43m    \u001b[49m\u001b[43mallow_tcb\u001b[49m\u001b[38;5;241;43m=\u001b[39;49m\u001b[43mallow_tcb\u001b[49m\u001b[43m,\u001b[49m\n\u001b[1;32m    852\u001b[0m \u001b[43m    \u001b[49m\u001b[43mallow_T2\u001b[49m\u001b[38;5;241;43m=\u001b[39;49m\u001b[43mallow_T2\u001b[49m\u001b[43m,\u001b[49m\n\u001b[1;32m    853\u001b[0m \u001b[43m    \u001b[49m\u001b[43mforce_binary_model\u001b[49m\u001b[38;5;241;43m=\u001b[39;49m\u001b[43mforce_binary_model\u001b[49m\u001b[43m,\u001b[49m\n\u001b[1;32m    854\u001b[0m \u001b[43m    \u001b[49m\u001b[43mtoas_for_tzr\u001b[49m\u001b[38;5;241;43m=\u001b[39;49m\u001b[43mtoas_for_tzr\u001b[49m\u001b[43m,\u001b[49m\n\u001b[1;32m    855\u001b[0m \u001b[43m    \u001b[49m\u001b[38;5;241;43m*\u001b[39;49m\u001b[38;5;241;43m*\u001b[39;49m\u001b[43mkwargs\u001b[49m\u001b[43m,\u001b[49m\n\u001b[1;32m    856\u001b[0m \u001b[43m\u001b[49m\u001b[43m)\u001b[49m\n\u001b[1;32m    857\u001b[0m model\u001b[38;5;241m.\u001b[39mname \u001b[38;5;241m=\u001b[39m parfile\n\u001b[1;32m    858\u001b[0m model\u001b[38;5;241m.\u001b[39mmeta[\u001b[38;5;124m\"\u001b[39m\u001b[38;5;124moriginal_name\u001b[39m\u001b[38;5;124m\"\u001b[39m] \u001b[38;5;241m=\u001b[39m parfile\n",
      "File \u001b[0;32m/fred/oz022/tkimpson/conda_envs/Argus3/lib/python3.12/site-packages/pint/models/model_builder.py:196\u001b[0m, in \u001b[0;36mModelBuilder.__call__\u001b[0;34m(self, parfile, allow_name_mixing, allow_tcb, allow_T2, force_binary_model, toas_for_tzr, **kwargs)\u001b[0m\n\u001b[1;32m    194\u001b[0m     \u001b[38;5;28;01melse\u001b[39;00m:\n\u001b[1;32m    195\u001b[0m         remaining_args[k] \u001b[38;5;241m=\u001b[39m v\n\u001b[0;32m--> 196\u001b[0m selected, conflict, param_not_in_pint \u001b[38;5;241m=\u001b[39m \u001b[38;5;28;43mself\u001b[39;49m\u001b[38;5;241;43m.\u001b[39;49m\u001b[43mchoose_model\u001b[49m\u001b[43m(\u001b[49m\n\u001b[1;32m    197\u001b[0m \u001b[43m    \u001b[49m\u001b[43mpint_param_dict\u001b[49m\u001b[43m,\u001b[49m\u001b[43m \u001b[49m\u001b[43mforce_binary_model\u001b[49m\u001b[38;5;241;43m=\u001b[39;49m\u001b[43mforce_binary_model\u001b[49m\u001b[43m,\u001b[49m\u001b[43m \u001b[49m\u001b[43mallow_T2\u001b[49m\u001b[38;5;241;43m=\u001b[39;49m\u001b[43mallow_T2\u001b[49m\n\u001b[1;32m    198\u001b[0m \u001b[43m\u001b[49m\u001b[43m)\u001b[49m\n\u001b[1;32m    199\u001b[0m selected\u001b[38;5;241m.\u001b[39mupdate(\u001b[38;5;28mset\u001b[39m(\u001b[38;5;28mself\u001b[39m\u001b[38;5;241m.\u001b[39mdefault_components))\n\u001b[1;32m    201\u001b[0m \u001b[38;5;66;03m# Add SolarSystemShapiro only if an Astrometry component is present.\u001b[39;00m\n",
      "File \u001b[0;32m/fred/oz022/tkimpson/conda_envs/Argus3/lib/python3.12/site-packages/pint/models/model_builder.py:493\u001b[0m, in \u001b[0;36mModelBuilder.choose_model\u001b[0;34m(self, param_inpar, force_binary_model, allow_T2)\u001b[0m\n\u001b[1;32m    490\u001b[0m \u001b[38;5;28;01mif\u001b[39;00m binary:\n\u001b[1;32m    491\u001b[0m     binary \u001b[38;5;241m=\u001b[39m binary[\u001b[38;5;241m0\u001b[39m]\n\u001b[1;32m    492\u001b[0m     selected_components\u001b[38;5;241m.\u001b[39madd(\n\u001b[0;32m--> 493\u001b[0m         \u001b[38;5;28;43mself\u001b[39;49m\u001b[38;5;241;43m.\u001b[39;49m\u001b[43mchoose_binary_model\u001b[49m\u001b[43m(\u001b[49m\u001b[43mparam_inpar\u001b[49m\u001b[43m,\u001b[49m\u001b[43m \u001b[49m\u001b[43mforce_binary_model\u001b[49m\u001b[43m,\u001b[49m\u001b[43m \u001b[49m\u001b[43mallow_T2\u001b[49m\u001b[43m)\u001b[49m\n\u001b[1;32m    494\u001b[0m     )\n\u001b[1;32m    496\u001b[0m \u001b[38;5;66;03m# 2. Get the component list from the parameters in the parfile.\u001b[39;00m\n\u001b[1;32m    497\u001b[0m \u001b[38;5;66;03m# 2.1 Check the aliases of input parameters.\u001b[39;00m\n\u001b[1;32m    498\u001b[0m \u001b[38;5;66;03m# This does not include the repeating parameters, but it should not\u001b[39;00m\n\u001b[1;32m    499\u001b[0m \u001b[38;5;66;03m# matter in the component selection.\u001b[39;00m\n\u001b[1;32m    500\u001b[0m param_not_in_pint \u001b[38;5;241m=\u001b[39m []  \u001b[38;5;66;03m# For parameters not initialized in PINT yet.\u001b[39;00m\n",
      "File \u001b[0;32m/fred/oz022/tkimpson/conda_envs/Argus3/lib/python3.12/site-packages/pint/models/model_builder.py:646\u001b[0m, in \u001b[0;36mModelBuilder.choose_binary_model\u001b[0;34m(self, param_inpar, force_binary_model, allow_T2)\u001b[0m\n\u001b[1;32m    644\u001b[0m     \u001b[38;5;66;03m# Re-raise the error, with an added guess for the binary model if we have one\u001b[39;00m\n\u001b[1;32m    645\u001b[0m     \u001b[38;5;28;01mif\u001b[39;00m binary_model_guesses:\n\u001b[0;32m--> 646\u001b[0m         \u001b[38;5;28;01mraise\u001b[39;00m UnknownBinaryModel(\n\u001b[1;32m    647\u001b[0m             \u001b[38;5;28mstr\u001b[39m(e), suggestion\u001b[38;5;241m=\u001b[39mbinary_model_guesses[\u001b[38;5;241m0\u001b[39m]\n\u001b[1;32m    648\u001b[0m         ) \u001b[38;5;28;01mfrom\u001b[39;00m\u001b[38;5;250m \u001b[39m\u001b[38;5;28;01mNone\u001b[39;00m\n\u001b[1;32m    649\u001b[0m     \u001b[38;5;28;01mraise\u001b[39;00m\n\u001b[1;32m    651\u001b[0m \u001b[38;5;28;01mreturn\u001b[39;00m binary_cp\u001b[38;5;241m.\u001b[39m\u001b[38;5;18m__class__\u001b[39m\u001b[38;5;241m.\u001b[39m\u001b[38;5;18m__name__\u001b[39m\n",
      "\u001b[0;31mUnknownBinaryModel\u001b[0m: Pulsar system/Binary model component T2 is not provided. Perhaps use BT?"
     ]
    }
   ],
   "source": [
    "import os  \n",
    "import glob \n",
    "\n",
    "directory = '../data/IPTA_MockDataChallenge/IPTA_Challenge1_open/Challenge_Data/Dataset1/'\n",
    "\n",
    "\n",
    "# Get all .par files in the directory\n",
    "par_files = glob.glob(os.path.join(directory, '*.par'))\n",
    "\n",
    "\n",
    "\n",
    "print(len(par_files))\n",
    "# Generate the corresponding .tim file paths\n",
    "file_pairs = [(par_file, par_file.replace('.par', '.tim')) for par_file in par_files]\n",
    "\n",
    "# Try to load the first N pulsars\n",
    "for par_file, tim_file in [file_pairs[8]]:\n",
    "    print (par_file)\n",
    "    psr = LoadWidebandPulsarData.read_par_tim(par_file, tim_file, timing_package=\"pint\", ephem=\"DE440\", bipm_version=\"BIPM2019\", clk=\"TT(BIPM2019)\")\n"
   ]
  },
  {
   "cell_type": "code",
   "execution_count": null,
   "metadata": {},
   "outputs": [
    {
     "name": "stdout",
     "output_type": "stream",
     "text": [
      "../data/IPTA_MockDataChallenge/IPTA_Challenge1_open/Challenge_Data/Dataset1/J0030+0451.par\n",
      "../data/IPTA_MockDataChallenge/IPTA_Challenge1_open/Challenge_Data/Dataset1/J0218+4232.par\n",
      "../data/IPTA_MockDataChallenge/IPTA_Challenge1_open/Challenge_Data/Dataset1/J0437-4715.par\n",
      "../data/IPTA_MockDataChallenge/IPTA_Challenge1_open/Challenge_Data/Dataset1/J0613-0200.par\n",
      "../data/IPTA_MockDataChallenge/IPTA_Challenge1_open/Challenge_Data/Dataset1/J0621+1002.par\n",
      "../data/IPTA_MockDataChallenge/IPTA_Challenge1_open/Challenge_Data/Dataset1/J0711-6830.par\n",
      "../data/IPTA_MockDataChallenge/IPTA_Challenge1_open/Challenge_Data/Dataset1/J0751+1807.par\n",
      "../data/IPTA_MockDataChallenge/IPTA_Challenge1_open/Challenge_Data/Dataset1/J0900-3144.par\n",
      "../data/IPTA_MockDataChallenge/IPTA_Challenge1_open/Challenge_Data/Dataset1/J1012+5307.par\n",
      "../data/IPTA_MockDataChallenge/IPTA_Challenge1_open/Challenge_Data/Dataset1/J1022+1001.par\n",
      "../data/IPTA_MockDataChallenge/IPTA_Challenge1_open/Challenge_Data/Dataset1/J1024-0719.par\n",
      "../data/IPTA_MockDataChallenge/IPTA_Challenge1_open/Challenge_Data/Dataset1/J1045-4509.par\n",
      "../data/IPTA_MockDataChallenge/IPTA_Challenge1_open/Challenge_Data/Dataset1/J1455-3330.par\n",
      "../data/IPTA_MockDataChallenge/IPTA_Challenge1_open/Challenge_Data/Dataset1/J1600-3053.par\n",
      "../data/IPTA_MockDataChallenge/IPTA_Challenge1_open/Challenge_Data/Dataset1/J1603-7202.par\n",
      "../data/IPTA_MockDataChallenge/IPTA_Challenge1_open/Challenge_Data/Dataset1/J1640+2224.par\n",
      "../data/IPTA_MockDataChallenge/IPTA_Challenge1_open/Challenge_Data/Dataset1/J1643-1224.par\n",
      "../data/IPTA_MockDataChallenge/IPTA_Challenge1_open/Challenge_Data/Dataset1/J1713+0747.par\n",
      "../data/IPTA_MockDataChallenge/IPTA_Challenge1_open/Challenge_Data/Dataset1/J1730-2304.par\n",
      "../data/IPTA_MockDataChallenge/IPTA_Challenge1_open/Challenge_Data/Dataset1/J1732-5049.par\n",
      "../data/IPTA_MockDataChallenge/IPTA_Challenge1_open/Challenge_Data/Dataset1/J1738+0333.par\n",
      "../data/IPTA_MockDataChallenge/IPTA_Challenge1_open/Challenge_Data/Dataset1/J1741+1351.par\n",
      "../data/IPTA_MockDataChallenge/IPTA_Challenge1_open/Challenge_Data/Dataset1/J1744-1134.par\n",
      "../data/IPTA_MockDataChallenge/IPTA_Challenge1_open/Challenge_Data/Dataset1/J1751-2857.par\n",
      "../data/IPTA_MockDataChallenge/IPTA_Challenge1_open/Challenge_Data/Dataset1/J1853+1303.par\n",
      "../data/IPTA_MockDataChallenge/IPTA_Challenge1_open/Challenge_Data/Dataset1/J1857+0943.par\n",
      "../data/IPTA_MockDataChallenge/IPTA_Challenge1_open/Challenge_Data/Dataset1/J1909-3744.par\n",
      "../data/IPTA_MockDataChallenge/IPTA_Challenge1_open/Challenge_Data/Dataset1/J1910+1256.par\n",
      "../data/IPTA_MockDataChallenge/IPTA_Challenge1_open/Challenge_Data/Dataset1/J1918-0642.par\n",
      "../data/IPTA_MockDataChallenge/IPTA_Challenge1_open/Challenge_Data/Dataset1/J1939+2134.par\n",
      "../data/IPTA_MockDataChallenge/IPTA_Challenge1_open/Challenge_Data/Dataset1/J1955+2908.par\n",
      "../data/IPTA_MockDataChallenge/IPTA_Challenge1_open/Challenge_Data/Dataset1/J2019+2425.par\n",
      "../data/IPTA_MockDataChallenge/IPTA_Challenge1_open/Challenge_Data/Dataset1/J2124-3358.par\n",
      "../data/IPTA_MockDataChallenge/IPTA_Challenge1_open/Challenge_Data/Dataset1/J2129-5721.par\n",
      "../data/IPTA_MockDataChallenge/IPTA_Challenge1_open/Challenge_Data/Dataset1/J2145-0750.par\n",
      "../data/IPTA_MockDataChallenge/IPTA_Challenge1_open/Challenge_Data/Dataset1/J2317+1439.par\n"
     ]
    }
   ],
   "source": [
    "import os  \n",
    "import glob \n",
    "\n",
    "directory = '../data/IPTA_MockDataChallenge/IPTA_Challenge1_open/Challenge_Data/Dataset1/'\n",
    "\n",
    "\n",
    "# Get all .par files in the directory\n",
    "par_files = sorted(glob.glob(os.path.join(directory, '*.par')))\n",
    "for p in par_files:\n",
    "    print(p)\n",
    "\n",
    "\n",
    "# print(len(par_files))\n",
    "# # Generate the corresponding .tim file paths\n",
    "# file_pairs = [(par_file, par_file.replace('.par', '.tim')) for par_file in par_files]\n",
    "\n",
    "# # Try to load the first N pulsars\n",
    "# for par_file, tim_file in [file_pairs[8]]:\n",
    "#     print (par_file)\n",
    "#     psr = LoadWidebandPulsarData.read_par_tim(par_file, tim_file, timing_package=\"pint\", ephem=\"DE440\", bipm_version=\"BIPM2019\", clk=\"TT(BIPM2019)\")\n"
   ]
  },
  {
   "cell_type": "code",
   "execution_count": 14,
   "metadata": {},
   "outputs": [
    {
     "name": "stderr",
     "output_type": "stream",
     "text": [
      "/fred/oz022/tkimpson/conda_envs/Argus3/lib/python3.12/site-packages/pint/models/model_builder.py:225: UserWarning: Unrecognized parfile line 'EPHVER 5'\n",
      "  warnings.warn(f\"Unrecognized parfile line '{p_line}'\", UserWarning)\n",
      "\u001b[32m2025-01-29 14:21:34.337\u001b[0m | \u001b[33m\u001b[1mWARNING \u001b[0m | \u001b[36mpint.models.model_builder\u001b[0m:\u001b[36m__call__\u001b[0m:\u001b[36m229\u001b[0m - \u001b[33m\u001b[1mUNITS is not specified. Assuming TDB...\u001b[0m\n",
      "\u001b[32m2025-01-29 14:21:34.386\u001b[0m | \u001b[34m\u001b[1mDEBUG   \u001b[0m | \u001b[36mpint.toa\u001b[0m:\u001b[36m__init__\u001b[0m:\u001b[36m1377\u001b[0m - \u001b[34m\u001b[1mNo pulse number flags found in the TOAs\u001b[0m\n",
      "\u001b[32m2025-01-29 14:21:34.388\u001b[0m | \u001b[34m\u001b[1mDEBUG   \u001b[0m | \u001b[36mpint.toa\u001b[0m:\u001b[36mapply_clock_corrections\u001b[0m:\u001b[36m2224\u001b[0m - \u001b[34m\u001b[1mApplying clock corrections (include_bipm = False)\u001b[0m\n",
      "\u001b[32m2025-01-29 14:21:34.396\u001b[0m | \u001b[1mINFO    \u001b[0m | \u001b[36mpint.observatory.topo_obs\u001b[0m:\u001b[36mclock_corrections\u001b[0m:\u001b[36m354\u001b[0m - \u001b[1mObservatory axis requires no clock corrections.\u001b[0m\n",
      "\u001b[32m2025-01-29 14:21:34.453\u001b[0m | \u001b[34m\u001b[1mDEBUG   \u001b[0m | \u001b[36mpint.toa\u001b[0m:\u001b[36mcompute_TDBs\u001b[0m:\u001b[36m2270\u001b[0m - \u001b[34m\u001b[1mComputing TDB columns.\u001b[0m\n",
      "\u001b[32m2025-01-29 14:21:34.454\u001b[0m | \u001b[34m\u001b[1mDEBUG   \u001b[0m | \u001b[36mpint.toa\u001b[0m:\u001b[36mcompute_TDBs\u001b[0m:\u001b[36m2291\u001b[0m - \u001b[34m\u001b[1mUsing EPHEM = DE440 for TDB calculation.\u001b[0m\n",
      "\u001b[32m2025-01-29 14:21:34.473\u001b[0m | \u001b[34m\u001b[1mDEBUG   \u001b[0m | \u001b[36mpint.toa\u001b[0m:\u001b[36mget_TOAs\u001b[0m:\u001b[36m310\u001b[0m - \u001b[34m\u001b[1mPlanet PosVels will be calculated.\u001b[0m\n",
      "\u001b[32m2025-01-29 14:21:34.473\u001b[0m | \u001b[34m\u001b[1mDEBUG   \u001b[0m | \u001b[36mpint.toa\u001b[0m:\u001b[36mcompute_posvels\u001b[0m:\u001b[36m2366\u001b[0m - \u001b[34m\u001b[1mComputing PosVels of observatories, Earth and planets, using DE440\u001b[0m\n",
      "\u001b[32m2025-01-29 14:21:34.478\u001b[0m | \u001b[1mINFO    \u001b[0m | \u001b[36mpint.solar_system_ephemerides\u001b[0m:\u001b[36mload_kernel\u001b[0m:\u001b[36m194\u001b[0m - \u001b[1mSet solar system ephemeris to de440 through astropy\u001b[0m\n"
     ]
    },
    {
     "name": "stdout",
     "output_type": "stream",
     "text": [
      "36\n",
      "../data/data_from_enterprise/mdc1/J0030+0451.par\n"
     ]
    },
    {
     "name": "stderr",
     "output_type": "stream",
     "text": [
      "\u001b[32m2025-01-29 14:21:34.504\u001b[0m | \u001b[34m\u001b[1mDEBUG   \u001b[0m | \u001b[36mpint.toa\u001b[0m:\u001b[36mcompute_posvels\u001b[0m:\u001b[36m2424\u001b[0m - \u001b[34m\u001b[1mSSB obs pos [-1.16725313e+10  1.34138434e+11  5.81425475e+10] m\u001b[0m\n",
      "\u001b[32m2025-01-29 14:21:34.504\u001b[0m | \u001b[1mINFO    \u001b[0m | \u001b[36mpint.solar_system_ephemerides\u001b[0m:\u001b[36mload_kernel\u001b[0m:\u001b[36m194\u001b[0m - \u001b[1mSet solar system ephemeris to de440 through astropy\u001b[0m\n",
      "\u001b[32m2025-01-29 14:21:34.505\u001b[0m | \u001b[1mINFO    \u001b[0m | \u001b[36mpint.solar_system_ephemerides\u001b[0m:\u001b[36mload_kernel\u001b[0m:\u001b[36m194\u001b[0m - \u001b[1mSet solar system ephemeris to de440 through astropy\u001b[0m\n",
      "\u001b[32m2025-01-29 14:21:34.506\u001b[0m | \u001b[1mINFO    \u001b[0m | \u001b[36mpint.solar_system_ephemerides\u001b[0m:\u001b[36mload_kernel\u001b[0m:\u001b[36m194\u001b[0m - \u001b[1mSet solar system ephemeris to de440 through astropy\u001b[0m\n",
      "\u001b[32m2025-01-29 14:21:34.507\u001b[0m | \u001b[1mINFO    \u001b[0m | \u001b[36mpint.solar_system_ephemerides\u001b[0m:\u001b[36mload_kernel\u001b[0m:\u001b[36m194\u001b[0m - \u001b[1mSet solar system ephemeris to de440 through astropy\u001b[0m\n",
      "\u001b[32m2025-01-29 14:21:34.509\u001b[0m | \u001b[1mINFO    \u001b[0m | \u001b[36mpint.solar_system_ephemerides\u001b[0m:\u001b[36mload_kernel\u001b[0m:\u001b[36m194\u001b[0m - \u001b[1mSet solar system ephemeris to de440 through astropy\u001b[0m\n",
      "\u001b[32m2025-01-29 14:21:34.510\u001b[0m | \u001b[1mINFO    \u001b[0m | \u001b[36mpint.solar_system_ephemerides\u001b[0m:\u001b[36mload_kernel\u001b[0m:\u001b[36m194\u001b[0m - \u001b[1mSet solar system ephemeris to de440 through astropy\u001b[0m\n",
      "\u001b[32m2025-01-29 14:21:34.511\u001b[0m | \u001b[1mINFO    \u001b[0m | \u001b[36mpint.solar_system_ephemerides\u001b[0m:\u001b[36mload_kernel\u001b[0m:\u001b[36m194\u001b[0m - \u001b[1mSet solar system ephemeris to de440 through astropy\u001b[0m\n",
      "\u001b[32m2025-01-29 14:21:34.513\u001b[0m | \u001b[34m\u001b[1mDEBUG   \u001b[0m | \u001b[36mpint.toa\u001b[0m:\u001b[36mcompute_posvels\u001b[0m:\u001b[36m2438\u001b[0m - \u001b[34m\u001b[1mAdding columns ssb_obs_pos ssb_obs_vel obs_sun_pos obs_jupiter_pos obs_saturn_pos obs_venus_pos obs_uranus_pos obs_neptune_pos obs_earth_pos\u001b[0m\n",
      "\u001b[32m2025-01-29 14:21:34.514\u001b[0m | \u001b[1mINFO    \u001b[0m | \u001b[36mpint.models.model_builder\u001b[0m:\u001b[36mget_model_and_toas\u001b[0m:\u001b[36m968\u001b[0m - \u001b[1mCreating a TZR TOA (AbsPhase) using the given TOAs object.\u001b[0m\n",
      "\u001b[32m2025-01-29 14:21:34.521\u001b[0m | \u001b[1mINFO    \u001b[0m | \u001b[36mpint.models.absolute_phase\u001b[0m:\u001b[36mvalidate\u001b[0m:\u001b[36m74\u001b[0m - \u001b[1mThe TZRSITE is set at the solar system barycenter.\u001b[0m\n",
      "\u001b[32m2025-01-29 14:21:34.521\u001b[0m | \u001b[1mINFO    \u001b[0m | \u001b[36mpint.models.absolute_phase\u001b[0m:\u001b[36mvalidate\u001b[0m:\u001b[36m78\u001b[0m - \u001b[1mTZRFRQ was 0.0 or None. Setting to infinite frequency.\u001b[0m\n",
      "\u001b[32m2025-01-29 14:21:34.533\u001b[0m | \u001b[34m\u001b[1mDEBUG   \u001b[0m | \u001b[36mpint.models.absolute_phase\u001b[0m:\u001b[36mget_TZR_toa\u001b[0m:\u001b[36m101\u001b[0m - \u001b[34m\u001b[1mCreating and dealing with the single TZR_toa for absolute phase\u001b[0m\n",
      "\u001b[32m2025-01-29 14:21:34.535\u001b[0m | \u001b[34m\u001b[1mDEBUG   \u001b[0m | \u001b[36mpint.toa\u001b[0m:\u001b[36m__init__\u001b[0m:\u001b[36m1377\u001b[0m - \u001b[34m\u001b[1mNo pulse number flags found in the TOAs\u001b[0m\n",
      "\u001b[32m2025-01-29 14:21:34.536\u001b[0m | \u001b[34m\u001b[1mDEBUG   \u001b[0m | \u001b[36mpint.toa\u001b[0m:\u001b[36mapply_clock_corrections\u001b[0m:\u001b[36m2224\u001b[0m - \u001b[34m\u001b[1mApplying clock corrections (include_bipm = False)\u001b[0m\n",
      "\u001b[32m2025-01-29 14:21:34.537\u001b[0m | \u001b[34m\u001b[1mDEBUG   \u001b[0m | \u001b[36mpint.toa\u001b[0m:\u001b[36mcompute_TDBs\u001b[0m:\u001b[36m2270\u001b[0m - \u001b[34m\u001b[1mComputing TDB columns.\u001b[0m\n",
      "\u001b[32m2025-01-29 14:21:34.538\u001b[0m | \u001b[34m\u001b[1mDEBUG   \u001b[0m | \u001b[36mpint.toa\u001b[0m:\u001b[36mcompute_TDBs\u001b[0m:\u001b[36m2291\u001b[0m - \u001b[34m\u001b[1mUsing EPHEM = DE440 for TDB calculation.\u001b[0m\n",
      "\u001b[32m2025-01-29 14:21:34.539\u001b[0m | \u001b[34m\u001b[1mDEBUG   \u001b[0m | \u001b[36mpint.toa\u001b[0m:\u001b[36mcompute_posvels\u001b[0m:\u001b[36m2366\u001b[0m - \u001b[34m\u001b[1mComputing PosVels of observatories, Earth and planets, using DE440\u001b[0m\n",
      "\u001b[32m2025-01-29 14:21:34.541\u001b[0m | \u001b[34m\u001b[1mDEBUG   \u001b[0m | \u001b[36mpint.toa\u001b[0m:\u001b[36mcompute_posvels\u001b[0m:\u001b[36m2424\u001b[0m - \u001b[34m\u001b[1mSSB obs pos [0. 0. 0.] m\u001b[0m\n",
      "\u001b[32m2025-01-29 14:21:34.541\u001b[0m | \u001b[1mINFO    \u001b[0m | \u001b[36mpint.solar_system_ephemerides\u001b[0m:\u001b[36mload_kernel\u001b[0m:\u001b[36m194\u001b[0m - \u001b[1mSet solar system ephemeris to de440 through astropy\u001b[0m\n",
      "\u001b[32m2025-01-29 14:21:34.542\u001b[0m | \u001b[1mINFO    \u001b[0m | \u001b[36mpint.solar_system_ephemerides\u001b[0m:\u001b[36mload_kernel\u001b[0m:\u001b[36m194\u001b[0m - \u001b[1mSet solar system ephemeris to de440 through astropy\u001b[0m\n",
      "\u001b[32m2025-01-29 14:21:34.544\u001b[0m | \u001b[1mINFO    \u001b[0m | \u001b[36mpint.solar_system_ephemerides\u001b[0m:\u001b[36mload_kernel\u001b[0m:\u001b[36m194\u001b[0m - \u001b[1mSet solar system ephemeris to de440 through astropy\u001b[0m\n",
      "\u001b[32m2025-01-29 14:21:34.544\u001b[0m | \u001b[1mINFO    \u001b[0m | \u001b[36mpint.solar_system_ephemerides\u001b[0m:\u001b[36mload_kernel\u001b[0m:\u001b[36m194\u001b[0m - \u001b[1mSet solar system ephemeris to de440 through astropy\u001b[0m\n",
      "\u001b[32m2025-01-29 14:21:34.545\u001b[0m | \u001b[1mINFO    \u001b[0m | \u001b[36mpint.solar_system_ephemerides\u001b[0m:\u001b[36mload_kernel\u001b[0m:\u001b[36m194\u001b[0m - \u001b[1mSet solar system ephemeris to de440 through astropy\u001b[0m\n",
      "\u001b[32m2025-01-29 14:21:34.546\u001b[0m | \u001b[1mINFO    \u001b[0m | \u001b[36mpint.solar_system_ephemerides\u001b[0m:\u001b[36mload_kernel\u001b[0m:\u001b[36m194\u001b[0m - \u001b[1mSet solar system ephemeris to de440 through astropy\u001b[0m\n",
      "\u001b[32m2025-01-29 14:21:34.547\u001b[0m | \u001b[1mINFO    \u001b[0m | \u001b[36mpint.solar_system_ephemerides\u001b[0m:\u001b[36mload_kernel\u001b[0m:\u001b[36m194\u001b[0m - \u001b[1mSet solar system ephemeris to de440 through astropy\u001b[0m\n",
      "\u001b[32m2025-01-29 14:21:34.548\u001b[0m | \u001b[34m\u001b[1mDEBUG   \u001b[0m | \u001b[36mpint.toa\u001b[0m:\u001b[36mcompute_posvels\u001b[0m:\u001b[36m2438\u001b[0m - \u001b[34m\u001b[1mAdding columns ssb_obs_pos ssb_obs_vel obs_sun_pos obs_jupiter_pos obs_saturn_pos obs_venus_pos obs_uranus_pos obs_neptune_pos obs_earth_pos\u001b[0m\n",
      "\u001b[32m2025-01-29 14:21:34.550\u001b[0m | \u001b[34m\u001b[1mDEBUG   \u001b[0m | \u001b[36mpint.models.absolute_phase\u001b[0m:\u001b[36mget_TZR_toa\u001b[0m:\u001b[36m122\u001b[0m - \u001b[34m\u001b[1mDone with TZR_toa\u001b[0m\n",
      "/fred/oz022/tkimpson/conda_envs/Argus3/lib/python3.12/site-packages/pint/models/model_builder.py:225: UserWarning: Unrecognized parfile line 'EPHVER 5'\n",
      "  warnings.warn(f\"Unrecognized parfile line '{p_line}'\", UserWarning)\n",
      "\u001b[32m2025-01-29 14:21:34.674\u001b[0m | \u001b[33m\u001b[1mWARNING \u001b[0m | \u001b[36mpint.models.model_builder\u001b[0m:\u001b[36m__call__\u001b[0m:\u001b[36m229\u001b[0m - \u001b[33m\u001b[1mUNITS is not specified. Assuming TDB...\u001b[0m\n",
      "\u001b[32m2025-01-29 14:21:34.725\u001b[0m | \u001b[34m\u001b[1mDEBUG   \u001b[0m | \u001b[36mpint.toa\u001b[0m:\u001b[36m__init__\u001b[0m:\u001b[36m1377\u001b[0m - \u001b[34m\u001b[1mNo pulse number flags found in the TOAs\u001b[0m\n",
      "\u001b[32m2025-01-29 14:21:34.726\u001b[0m | \u001b[34m\u001b[1mDEBUG   \u001b[0m | \u001b[36mpint.toa\u001b[0m:\u001b[36mapply_clock_corrections\u001b[0m:\u001b[36m2224\u001b[0m - \u001b[34m\u001b[1mApplying clock corrections (include_bipm = False)\u001b[0m\n",
      "\u001b[32m2025-01-29 14:21:34.734\u001b[0m | \u001b[1mINFO    \u001b[0m | \u001b[36mpint.observatory.topo_obs\u001b[0m:\u001b[36mclock_corrections\u001b[0m:\u001b[36m354\u001b[0m - \u001b[1mObservatory axis requires no clock corrections.\u001b[0m\n",
      "\u001b[32m2025-01-29 14:21:34.794\u001b[0m | \u001b[34m\u001b[1mDEBUG   \u001b[0m | \u001b[36mpint.toa\u001b[0m:\u001b[36mcompute_TDBs\u001b[0m:\u001b[36m2270\u001b[0m - \u001b[34m\u001b[1mComputing TDB columns.\u001b[0m\n",
      "\u001b[32m2025-01-29 14:21:34.795\u001b[0m | \u001b[34m\u001b[1mDEBUG   \u001b[0m | \u001b[36mpint.toa\u001b[0m:\u001b[36mcompute_TDBs\u001b[0m:\u001b[36m2291\u001b[0m - \u001b[34m\u001b[1mUsing EPHEM = DE440 for TDB calculation.\u001b[0m\n"
     ]
    },
    {
     "name": "stdout",
     "output_type": "stream",
     "text": [
      "The number of toas for idx = 0 is 130, with first element 4579200101.239055\n",
      "../data/data_from_enterprise/mdc1/J0218+4232.par\n"
     ]
    },
    {
     "name": "stderr",
     "output_type": "stream",
     "text": [
      "\u001b[32m2025-01-29 14:21:34.816\u001b[0m | \u001b[34m\u001b[1mDEBUG   \u001b[0m | \u001b[36mpint.toa\u001b[0m:\u001b[36mget_TOAs\u001b[0m:\u001b[36m310\u001b[0m - \u001b[34m\u001b[1mPlanet PosVels will be calculated.\u001b[0m\n",
      "\u001b[32m2025-01-29 14:21:34.817\u001b[0m | \u001b[34m\u001b[1mDEBUG   \u001b[0m | \u001b[36mpint.toa\u001b[0m:\u001b[36mcompute_posvels\u001b[0m:\u001b[36m2366\u001b[0m - \u001b[34m\u001b[1mComputing PosVels of observatories, Earth and planets, using DE440\u001b[0m\n",
      "\u001b[32m2025-01-29 14:21:34.822\u001b[0m | \u001b[1mINFO    \u001b[0m | \u001b[36mpint.solar_system_ephemerides\u001b[0m:\u001b[36mload_kernel\u001b[0m:\u001b[36m194\u001b[0m - \u001b[1mSet solar system ephemeris to de440 through astropy\u001b[0m\n",
      "\u001b[32m2025-01-29 14:21:34.848\u001b[0m | \u001b[34m\u001b[1mDEBUG   \u001b[0m | \u001b[36mpint.toa\u001b[0m:\u001b[36mcompute_posvels\u001b[0m:\u001b[36m2424\u001b[0m - \u001b[34m\u001b[1mSSB obs pos [-1.16725313e+10  1.34138434e+11  5.81425475e+10] m\u001b[0m\n",
      "\u001b[32m2025-01-29 14:21:34.849\u001b[0m | \u001b[1mINFO    \u001b[0m | \u001b[36mpint.solar_system_ephemerides\u001b[0m:\u001b[36mload_kernel\u001b[0m:\u001b[36m194\u001b[0m - \u001b[1mSet solar system ephemeris to de440 through astropy\u001b[0m\n",
      "\u001b[32m2025-01-29 14:21:34.850\u001b[0m | \u001b[1mINFO    \u001b[0m | \u001b[36mpint.solar_system_ephemerides\u001b[0m:\u001b[36mload_kernel\u001b[0m:\u001b[36m194\u001b[0m - \u001b[1mSet solar system ephemeris to de440 through astropy\u001b[0m\n",
      "\u001b[32m2025-01-29 14:21:34.851\u001b[0m | \u001b[1mINFO    \u001b[0m | \u001b[36mpint.solar_system_ephemerides\u001b[0m:\u001b[36mload_kernel\u001b[0m:\u001b[36m194\u001b[0m - \u001b[1mSet solar system ephemeris to de440 through astropy\u001b[0m\n",
      "\u001b[32m2025-01-29 14:21:34.852\u001b[0m | \u001b[1mINFO    \u001b[0m | \u001b[36mpint.solar_system_ephemerides\u001b[0m:\u001b[36mload_kernel\u001b[0m:\u001b[36m194\u001b[0m - \u001b[1mSet solar system ephemeris to de440 through astropy\u001b[0m\n",
      "\u001b[32m2025-01-29 14:21:34.854\u001b[0m | \u001b[1mINFO    \u001b[0m | \u001b[36mpint.solar_system_ephemerides\u001b[0m:\u001b[36mload_kernel\u001b[0m:\u001b[36m194\u001b[0m - \u001b[1mSet solar system ephemeris to de440 through astropy\u001b[0m\n",
      "\u001b[32m2025-01-29 14:21:34.855\u001b[0m | \u001b[1mINFO    \u001b[0m | \u001b[36mpint.solar_system_ephemerides\u001b[0m:\u001b[36mload_kernel\u001b[0m:\u001b[36m194\u001b[0m - \u001b[1mSet solar system ephemeris to de440 through astropy\u001b[0m\n",
      "\u001b[32m2025-01-29 14:21:34.856\u001b[0m | \u001b[1mINFO    \u001b[0m | \u001b[36mpint.solar_system_ephemerides\u001b[0m:\u001b[36mload_kernel\u001b[0m:\u001b[36m194\u001b[0m - \u001b[1mSet solar system ephemeris to de440 through astropy\u001b[0m\n",
      "\u001b[32m2025-01-29 14:21:34.858\u001b[0m | \u001b[34m\u001b[1mDEBUG   \u001b[0m | \u001b[36mpint.toa\u001b[0m:\u001b[36mcompute_posvels\u001b[0m:\u001b[36m2438\u001b[0m - \u001b[34m\u001b[1mAdding columns ssb_obs_pos ssb_obs_vel obs_sun_pos obs_jupiter_pos obs_saturn_pos obs_venus_pos obs_uranus_pos obs_neptune_pos obs_earth_pos\u001b[0m\n",
      "\u001b[32m2025-01-29 14:21:34.859\u001b[0m | \u001b[1mINFO    \u001b[0m | \u001b[36mpint.models.model_builder\u001b[0m:\u001b[36mget_model_and_toas\u001b[0m:\u001b[36m968\u001b[0m - \u001b[1mCreating a TZR TOA (AbsPhase) using the given TOAs object.\u001b[0m\n",
      "\u001b[32m2025-01-29 14:21:34.869\u001b[0m | \u001b[1mINFO    \u001b[0m | \u001b[36mpint.models.absolute_phase\u001b[0m:\u001b[36mvalidate\u001b[0m:\u001b[36m74\u001b[0m - \u001b[1mThe TZRSITE is set at the solar system barycenter.\u001b[0m\n",
      "\u001b[32m2025-01-29 14:21:34.870\u001b[0m | \u001b[1mINFO    \u001b[0m | \u001b[36mpint.models.absolute_phase\u001b[0m:\u001b[36mvalidate\u001b[0m:\u001b[36m78\u001b[0m - \u001b[1mTZRFRQ was 0.0 or None. Setting to infinite frequency.\u001b[0m\n",
      "\u001b[32m2025-01-29 14:21:34.890\u001b[0m | \u001b[34m\u001b[1mDEBUG   \u001b[0m | \u001b[36mpint.models.absolute_phase\u001b[0m:\u001b[36mget_TZR_toa\u001b[0m:\u001b[36m101\u001b[0m - \u001b[34m\u001b[1mCreating and dealing with the single TZR_toa for absolute phase\u001b[0m\n",
      "\u001b[32m2025-01-29 14:21:34.893\u001b[0m | \u001b[34m\u001b[1mDEBUG   \u001b[0m | \u001b[36mpint.toa\u001b[0m:\u001b[36m__init__\u001b[0m:\u001b[36m1377\u001b[0m - \u001b[34m\u001b[1mNo pulse number flags found in the TOAs\u001b[0m\n",
      "\u001b[32m2025-01-29 14:21:34.894\u001b[0m | \u001b[34m\u001b[1mDEBUG   \u001b[0m | \u001b[36mpint.toa\u001b[0m:\u001b[36mapply_clock_corrections\u001b[0m:\u001b[36m2224\u001b[0m - \u001b[34m\u001b[1mApplying clock corrections (include_bipm = False)\u001b[0m\n",
      "\u001b[32m2025-01-29 14:21:34.895\u001b[0m | \u001b[34m\u001b[1mDEBUG   \u001b[0m | \u001b[36mpint.toa\u001b[0m:\u001b[36mcompute_TDBs\u001b[0m:\u001b[36m2270\u001b[0m - \u001b[34m\u001b[1mComputing TDB columns.\u001b[0m\n",
      "\u001b[32m2025-01-29 14:21:34.896\u001b[0m | \u001b[34m\u001b[1mDEBUG   \u001b[0m | \u001b[36mpint.toa\u001b[0m:\u001b[36mcompute_TDBs\u001b[0m:\u001b[36m2291\u001b[0m - \u001b[34m\u001b[1mUsing EPHEM = DE440 for TDB calculation.\u001b[0m\n",
      "\u001b[32m2025-01-29 14:21:34.897\u001b[0m | \u001b[34m\u001b[1mDEBUG   \u001b[0m | \u001b[36mpint.toa\u001b[0m:\u001b[36mcompute_posvels\u001b[0m:\u001b[36m2366\u001b[0m - \u001b[34m\u001b[1mComputing PosVels of observatories, Earth and planets, using DE440\u001b[0m\n",
      "\u001b[32m2025-01-29 14:21:34.899\u001b[0m | \u001b[34m\u001b[1mDEBUG   \u001b[0m | \u001b[36mpint.toa\u001b[0m:\u001b[36mcompute_posvels\u001b[0m:\u001b[36m2424\u001b[0m - \u001b[34m\u001b[1mSSB obs pos [0. 0. 0.] m\u001b[0m\n",
      "\u001b[32m2025-01-29 14:21:34.900\u001b[0m | \u001b[1mINFO    \u001b[0m | \u001b[36mpint.solar_system_ephemerides\u001b[0m:\u001b[36mload_kernel\u001b[0m:\u001b[36m194\u001b[0m - \u001b[1mSet solar system ephemeris to de440 through astropy\u001b[0m\n",
      "\u001b[32m2025-01-29 14:21:34.901\u001b[0m | \u001b[1mINFO    \u001b[0m | \u001b[36mpint.solar_system_ephemerides\u001b[0m:\u001b[36mload_kernel\u001b[0m:\u001b[36m194\u001b[0m - \u001b[1mSet solar system ephemeris to de440 through astropy\u001b[0m\n",
      "\u001b[32m2025-01-29 14:21:34.902\u001b[0m | \u001b[1mINFO    \u001b[0m | \u001b[36mpint.solar_system_ephemerides\u001b[0m:\u001b[36mload_kernel\u001b[0m:\u001b[36m194\u001b[0m - \u001b[1mSet solar system ephemeris to de440 through astropy\u001b[0m\n",
      "\u001b[32m2025-01-29 14:21:34.903\u001b[0m | \u001b[1mINFO    \u001b[0m | \u001b[36mpint.solar_system_ephemerides\u001b[0m:\u001b[36mload_kernel\u001b[0m:\u001b[36m194\u001b[0m - \u001b[1mSet solar system ephemeris to de440 through astropy\u001b[0m\n",
      "\u001b[32m2025-01-29 14:21:34.904\u001b[0m | \u001b[1mINFO    \u001b[0m | \u001b[36mpint.solar_system_ephemerides\u001b[0m:\u001b[36mload_kernel\u001b[0m:\u001b[36m194\u001b[0m - \u001b[1mSet solar system ephemeris to de440 through astropy\u001b[0m\n",
      "\u001b[32m2025-01-29 14:21:34.904\u001b[0m | \u001b[1mINFO    \u001b[0m | \u001b[36mpint.solar_system_ephemerides\u001b[0m:\u001b[36mload_kernel\u001b[0m:\u001b[36m194\u001b[0m - \u001b[1mSet solar system ephemeris to de440 through astropy\u001b[0m\n",
      "\u001b[32m2025-01-29 14:21:34.905\u001b[0m | \u001b[1mINFO    \u001b[0m | \u001b[36mpint.solar_system_ephemerides\u001b[0m:\u001b[36mload_kernel\u001b[0m:\u001b[36m194\u001b[0m - \u001b[1mSet solar system ephemeris to de440 through astropy\u001b[0m\n",
      "\u001b[32m2025-01-29 14:21:34.907\u001b[0m | \u001b[34m\u001b[1mDEBUG   \u001b[0m | \u001b[36mpint.toa\u001b[0m:\u001b[36mcompute_posvels\u001b[0m:\u001b[36m2438\u001b[0m - \u001b[34m\u001b[1mAdding columns ssb_obs_pos ssb_obs_vel obs_sun_pos obs_jupiter_pos obs_saturn_pos obs_venus_pos obs_uranus_pos obs_neptune_pos obs_earth_pos\u001b[0m\n",
      "\u001b[32m2025-01-29 14:21:34.908\u001b[0m | \u001b[34m\u001b[1mDEBUG   \u001b[0m | \u001b[36mpint.models.absolute_phase\u001b[0m:\u001b[36mget_TZR_toa\u001b[0m:\u001b[36m122\u001b[0m - \u001b[34m\u001b[1mDone with TZR_toa\u001b[0m\n",
      "WARNING: Could not find pulsar distance for PSR J0218+4232. Setting value to 1 with 20% uncertainty.\n",
      "/fred/oz022/tkimpson/conda_envs/Argus3/lib/python3.12/site-packages/pint/models/model_builder.py:225: UserWarning: Unrecognized parfile line 'EPHVER 5'\n",
      "  warnings.warn(f\"Unrecognized parfile line '{p_line}'\", UserWarning)\n",
      "\u001b[32m2025-01-29 14:21:35.300\u001b[0m | \u001b[33m\u001b[1mWARNING \u001b[0m | \u001b[36mpint.models.model_builder\u001b[0m:\u001b[36m__call__\u001b[0m:\u001b[36m229\u001b[0m - \u001b[33m\u001b[1mUNITS is not specified. Assuming TDB...\u001b[0m\n",
      "\u001b[32m2025-01-29 14:21:35.366\u001b[0m | \u001b[34m\u001b[1mDEBUG   \u001b[0m | \u001b[36mpint.toa\u001b[0m:\u001b[36m__init__\u001b[0m:\u001b[36m1377\u001b[0m - \u001b[34m\u001b[1mNo pulse number flags found in the TOAs\u001b[0m\n",
      "\u001b[32m2025-01-29 14:21:35.367\u001b[0m | \u001b[34m\u001b[1mDEBUG   \u001b[0m | \u001b[36mpint.toa\u001b[0m:\u001b[36mapply_clock_corrections\u001b[0m:\u001b[36m2224\u001b[0m - \u001b[34m\u001b[1mApplying clock corrections (include_bipm = False)\u001b[0m\n",
      "\u001b[32m2025-01-29 14:21:35.376\u001b[0m | \u001b[1mINFO    \u001b[0m | \u001b[36mpint.observatory.topo_obs\u001b[0m:\u001b[36mclock_corrections\u001b[0m:\u001b[36m354\u001b[0m - \u001b[1mObservatory axis requires no clock corrections.\u001b[0m\n"
     ]
    },
    {
     "name": "stdout",
     "output_type": "stream",
     "text": [
      "The number of toas for idx = 1 is 130, with first element 4579200358.529834\n",
      "../data/data_from_enterprise/mdc1/J0437-4715.par\n"
     ]
    },
    {
     "name": "stderr",
     "output_type": "stream",
     "text": [
      "\u001b[32m2025-01-29 14:21:35.433\u001b[0m | \u001b[34m\u001b[1mDEBUG   \u001b[0m | \u001b[36mpint.toa\u001b[0m:\u001b[36mcompute_TDBs\u001b[0m:\u001b[36m2270\u001b[0m - \u001b[34m\u001b[1mComputing TDB columns.\u001b[0m\n",
      "\u001b[32m2025-01-29 14:21:35.433\u001b[0m | \u001b[34m\u001b[1mDEBUG   \u001b[0m | \u001b[36mpint.toa\u001b[0m:\u001b[36mcompute_TDBs\u001b[0m:\u001b[36m2291\u001b[0m - \u001b[34m\u001b[1mUsing EPHEM = DE440 for TDB calculation.\u001b[0m\n",
      "\u001b[32m2025-01-29 14:21:35.452\u001b[0m | \u001b[34m\u001b[1mDEBUG   \u001b[0m | \u001b[36mpint.toa\u001b[0m:\u001b[36mget_TOAs\u001b[0m:\u001b[36m310\u001b[0m - \u001b[34m\u001b[1mPlanet PosVels will be calculated.\u001b[0m\n",
      "\u001b[32m2025-01-29 14:21:35.453\u001b[0m | \u001b[34m\u001b[1mDEBUG   \u001b[0m | \u001b[36mpint.toa\u001b[0m:\u001b[36mcompute_posvels\u001b[0m:\u001b[36m2366\u001b[0m - \u001b[34m\u001b[1mComputing PosVels of observatories, Earth and planets, using DE440\u001b[0m\n",
      "\u001b[32m2025-01-29 14:21:35.458\u001b[0m | \u001b[1mINFO    \u001b[0m | \u001b[36mpint.solar_system_ephemerides\u001b[0m:\u001b[36mload_kernel\u001b[0m:\u001b[36m194\u001b[0m - \u001b[1mSet solar system ephemeris to de440 through astropy\u001b[0m\n",
      "\u001b[32m2025-01-29 14:21:35.484\u001b[0m | \u001b[34m\u001b[1mDEBUG   \u001b[0m | \u001b[36mpint.toa\u001b[0m:\u001b[36mcompute_posvels\u001b[0m:\u001b[36m2424\u001b[0m - \u001b[34m\u001b[1mSSB obs pos [-1.16725313e+10  1.34138434e+11  5.81425475e+10] m\u001b[0m\n",
      "\u001b[32m2025-01-29 14:21:35.485\u001b[0m | \u001b[1mINFO    \u001b[0m | \u001b[36mpint.solar_system_ephemerides\u001b[0m:\u001b[36mload_kernel\u001b[0m:\u001b[36m194\u001b[0m - \u001b[1mSet solar system ephemeris to de440 through astropy\u001b[0m\n",
      "\u001b[32m2025-01-29 14:21:35.486\u001b[0m | \u001b[1mINFO    \u001b[0m | \u001b[36mpint.solar_system_ephemerides\u001b[0m:\u001b[36mload_kernel\u001b[0m:\u001b[36m194\u001b[0m - \u001b[1mSet solar system ephemeris to de440 through astropy\u001b[0m\n",
      "\u001b[32m2025-01-29 14:21:35.488\u001b[0m | \u001b[1mINFO    \u001b[0m | \u001b[36mpint.solar_system_ephemerides\u001b[0m:\u001b[36mload_kernel\u001b[0m:\u001b[36m194\u001b[0m - \u001b[1mSet solar system ephemeris to de440 through astropy\u001b[0m\n",
      "\u001b[32m2025-01-29 14:21:35.489\u001b[0m | \u001b[1mINFO    \u001b[0m | \u001b[36mpint.solar_system_ephemerides\u001b[0m:\u001b[36mload_kernel\u001b[0m:\u001b[36m194\u001b[0m - \u001b[1mSet solar system ephemeris to de440 through astropy\u001b[0m\n",
      "\u001b[32m2025-01-29 14:21:35.490\u001b[0m | \u001b[1mINFO    \u001b[0m | \u001b[36mpint.solar_system_ephemerides\u001b[0m:\u001b[36mload_kernel\u001b[0m:\u001b[36m194\u001b[0m - \u001b[1mSet solar system ephemeris to de440 through astropy\u001b[0m\n",
      "\u001b[32m2025-01-29 14:21:35.491\u001b[0m | \u001b[1mINFO    \u001b[0m | \u001b[36mpint.solar_system_ephemerides\u001b[0m:\u001b[36mload_kernel\u001b[0m:\u001b[36m194\u001b[0m - \u001b[1mSet solar system ephemeris to de440 through astropy\u001b[0m\n",
      "\u001b[32m2025-01-29 14:21:35.493\u001b[0m | \u001b[1mINFO    \u001b[0m | \u001b[36mpint.solar_system_ephemerides\u001b[0m:\u001b[36mload_kernel\u001b[0m:\u001b[36m194\u001b[0m - \u001b[1mSet solar system ephemeris to de440 through astropy\u001b[0m\n",
      "\u001b[32m2025-01-29 14:21:35.494\u001b[0m | \u001b[34m\u001b[1mDEBUG   \u001b[0m | \u001b[36mpint.toa\u001b[0m:\u001b[36mcompute_posvels\u001b[0m:\u001b[36m2438\u001b[0m - \u001b[34m\u001b[1mAdding columns ssb_obs_pos ssb_obs_vel obs_sun_pos obs_jupiter_pos obs_saturn_pos obs_venus_pos obs_uranus_pos obs_neptune_pos obs_earth_pos\u001b[0m\n",
      "\u001b[32m2025-01-29 14:21:35.495\u001b[0m | \u001b[1mINFO    \u001b[0m | \u001b[36mpint.models.model_builder\u001b[0m:\u001b[36mget_model_and_toas\u001b[0m:\u001b[36m968\u001b[0m - \u001b[1mCreating a TZR TOA (AbsPhase) using the given TOAs object.\u001b[0m\n",
      "\u001b[32m2025-01-29 14:21:35.505\u001b[0m | \u001b[1mINFO    \u001b[0m | \u001b[36mpint.models.absolute_phase\u001b[0m:\u001b[36mvalidate\u001b[0m:\u001b[36m74\u001b[0m - \u001b[1mThe TZRSITE is set at the solar system barycenter.\u001b[0m\n",
      "\u001b[32m2025-01-29 14:21:35.505\u001b[0m | \u001b[1mINFO    \u001b[0m | \u001b[36mpint.models.absolute_phase\u001b[0m:\u001b[36mvalidate\u001b[0m:\u001b[36m78\u001b[0m - \u001b[1mTZRFRQ was 0.0 or None. Setting to infinite frequency.\u001b[0m\n",
      "\u001b[32m2025-01-29 14:21:35.528\u001b[0m | \u001b[34m\u001b[1mDEBUG   \u001b[0m | \u001b[36mpint.models.absolute_phase\u001b[0m:\u001b[36mget_TZR_toa\u001b[0m:\u001b[36m101\u001b[0m - \u001b[34m\u001b[1mCreating and dealing with the single TZR_toa for absolute phase\u001b[0m\n",
      "\u001b[32m2025-01-29 14:21:35.530\u001b[0m | \u001b[34m\u001b[1mDEBUG   \u001b[0m | \u001b[36mpint.toa\u001b[0m:\u001b[36m__init__\u001b[0m:\u001b[36m1377\u001b[0m - \u001b[34m\u001b[1mNo pulse number flags found in the TOAs\u001b[0m\n",
      "\u001b[32m2025-01-29 14:21:35.530\u001b[0m | \u001b[34m\u001b[1mDEBUG   \u001b[0m | \u001b[36mpint.toa\u001b[0m:\u001b[36mapply_clock_corrections\u001b[0m:\u001b[36m2224\u001b[0m - \u001b[34m\u001b[1mApplying clock corrections (include_bipm = False)\u001b[0m\n",
      "\u001b[32m2025-01-29 14:21:35.532\u001b[0m | \u001b[34m\u001b[1mDEBUG   \u001b[0m | \u001b[36mpint.toa\u001b[0m:\u001b[36mcompute_TDBs\u001b[0m:\u001b[36m2270\u001b[0m - \u001b[34m\u001b[1mComputing TDB columns.\u001b[0m\n",
      "\u001b[32m2025-01-29 14:21:35.532\u001b[0m | \u001b[34m\u001b[1mDEBUG   \u001b[0m | \u001b[36mpint.toa\u001b[0m:\u001b[36mcompute_TDBs\u001b[0m:\u001b[36m2291\u001b[0m - \u001b[34m\u001b[1mUsing EPHEM = DE440 for TDB calculation.\u001b[0m\n",
      "\u001b[32m2025-01-29 14:21:35.534\u001b[0m | \u001b[34m\u001b[1mDEBUG   \u001b[0m | \u001b[36mpint.toa\u001b[0m:\u001b[36mcompute_posvels\u001b[0m:\u001b[36m2366\u001b[0m - \u001b[34m\u001b[1mComputing PosVels of observatories, Earth and planets, using DE440\u001b[0m\n",
      "\u001b[32m2025-01-29 14:21:35.536\u001b[0m | \u001b[34m\u001b[1mDEBUG   \u001b[0m | \u001b[36mpint.toa\u001b[0m:\u001b[36mcompute_posvels\u001b[0m:\u001b[36m2424\u001b[0m - \u001b[34m\u001b[1mSSB obs pos [0. 0. 0.] m\u001b[0m\n",
      "\u001b[32m2025-01-29 14:21:35.536\u001b[0m | \u001b[1mINFO    \u001b[0m | \u001b[36mpint.solar_system_ephemerides\u001b[0m:\u001b[36mload_kernel\u001b[0m:\u001b[36m194\u001b[0m - \u001b[1mSet solar system ephemeris to de440 through astropy\u001b[0m\n",
      "\u001b[32m2025-01-29 14:21:35.537\u001b[0m | \u001b[1mINFO    \u001b[0m | \u001b[36mpint.solar_system_ephemerides\u001b[0m:\u001b[36mload_kernel\u001b[0m:\u001b[36m194\u001b[0m - \u001b[1mSet solar system ephemeris to de440 through astropy\u001b[0m\n",
      "\u001b[32m2025-01-29 14:21:35.538\u001b[0m | \u001b[1mINFO    \u001b[0m | \u001b[36mpint.solar_system_ephemerides\u001b[0m:\u001b[36mload_kernel\u001b[0m:\u001b[36m194\u001b[0m - \u001b[1mSet solar system ephemeris to de440 through astropy\u001b[0m\n",
      "\u001b[32m2025-01-29 14:21:35.539\u001b[0m | \u001b[1mINFO    \u001b[0m | \u001b[36mpint.solar_system_ephemerides\u001b[0m:\u001b[36mload_kernel\u001b[0m:\u001b[36m194\u001b[0m - \u001b[1mSet solar system ephemeris to de440 through astropy\u001b[0m\n",
      "\u001b[32m2025-01-29 14:21:35.540\u001b[0m | \u001b[1mINFO    \u001b[0m | \u001b[36mpint.solar_system_ephemerides\u001b[0m:\u001b[36mload_kernel\u001b[0m:\u001b[36m194\u001b[0m - \u001b[1mSet solar system ephemeris to de440 through astropy\u001b[0m\n",
      "\u001b[32m2025-01-29 14:21:35.541\u001b[0m | \u001b[1mINFO    \u001b[0m | \u001b[36mpint.solar_system_ephemerides\u001b[0m:\u001b[36mload_kernel\u001b[0m:\u001b[36m194\u001b[0m - \u001b[1mSet solar system ephemeris to de440 through astropy\u001b[0m\n",
      "\u001b[32m2025-01-29 14:21:35.542\u001b[0m | \u001b[1mINFO    \u001b[0m | \u001b[36mpint.solar_system_ephemerides\u001b[0m:\u001b[36mload_kernel\u001b[0m:\u001b[36m194\u001b[0m - \u001b[1mSet solar system ephemeris to de440 through astropy\u001b[0m\n",
      "\u001b[32m2025-01-29 14:21:35.543\u001b[0m | \u001b[34m\u001b[1mDEBUG   \u001b[0m | \u001b[36mpint.toa\u001b[0m:\u001b[36mcompute_posvels\u001b[0m:\u001b[36m2438\u001b[0m - \u001b[34m\u001b[1mAdding columns ssb_obs_pos ssb_obs_vel obs_sun_pos obs_jupiter_pos obs_saturn_pos obs_venus_pos obs_uranus_pos obs_neptune_pos obs_earth_pos\u001b[0m\n",
      "\u001b[32m2025-01-29 14:21:35.544\u001b[0m | \u001b[34m\u001b[1mDEBUG   \u001b[0m | \u001b[36mpint.models.absolute_phase\u001b[0m:\u001b[36mget_TZR_toa\u001b[0m:\u001b[36m122\u001b[0m - \u001b[34m\u001b[1mDone with TZR_toa\u001b[0m\n",
      "\u001b[32m2025-01-29 14:21:36.298\u001b[0m | \u001b[31m\u001b[1mERROR   \u001b[0m | \u001b[36mpint.models.model_builder\u001b[0m:\u001b[36mchoose_binary_model\u001b[0m:\u001b[36m638\u001b[0m - \u001b[31m\u001b[1mCould not find binary model T2\u001b[0m\n",
      "\u001b[32m2025-01-29 14:21:36.299\u001b[0m | \u001b[1mINFO    \u001b[0m | \u001b[36mpint.models.model_builder\u001b[0m:\u001b[36mchoose_binary_model\u001b[0m:\u001b[36m640\u001b[0m - \u001b[1mCompatible models with these parameters: BT, BT_piecewise, DD, DDK, DDGR, DDS, DDH.\u001b[0m\n"
     ]
    },
    {
     "name": "stdout",
     "output_type": "stream",
     "text": [
      "The number of toas for idx = 2 is 130, with first element 4579200196.557758\n",
      "../data/data_from_enterprise/mdc1/J0613-0200.par\n",
      "Error loading pulsar data: Pulsar system/Binary model component T2 is not provided. Perhaps use BT?\n"
     ]
    },
    {
     "ename": "UnknownBinaryModel",
     "evalue": "Pulsar system/Binary model component T2 is not provided. Perhaps use BT?",
     "output_type": "error",
     "traceback": [
      "\u001b[0;31m---------------------------------------------------------------------------\u001b[0m",
      "\u001b[0;31mUnknownBinaryModel\u001b[0m                        Traceback (most recent call last)",
      "Cell \u001b[0;32mIn[14], line 21\u001b[0m\n\u001b[1;32m     19\u001b[0m \u001b[38;5;28;01mfor\u001b[39;00m par_file, tim_file \u001b[38;5;129;01min\u001b[39;00m file_pairs[\u001b[38;5;241m0\u001b[39m:\u001b[38;5;241m5\u001b[39m]:\n\u001b[1;32m     20\u001b[0m     \u001b[38;5;28mprint\u001b[39m (par_file)\n\u001b[0;32m---> 21\u001b[0m     psr \u001b[38;5;241m=\u001b[39m \u001b[43mLoadWidebandPulsarData\u001b[49m\u001b[38;5;241;43m.\u001b[39;49m\u001b[43mread_par_tim\u001b[49m\u001b[43m(\u001b[49m\u001b[43mpar_file\u001b[49m\u001b[43m,\u001b[49m\u001b[43m \u001b[49m\u001b[43mtim_file\u001b[49m\u001b[43m,\u001b[49m\u001b[43m \u001b[49m\u001b[43mtiming_package\u001b[49m\u001b[38;5;241;43m=\u001b[39;49m\u001b[38;5;124;43m\"\u001b[39;49m\u001b[38;5;124;43mpint\u001b[39;49m\u001b[38;5;124;43m\"\u001b[39;49m\u001b[43m,\u001b[49m\u001b[43m \u001b[49m\u001b[43mephem\u001b[49m\u001b[38;5;241;43m=\u001b[39;49m\u001b[38;5;124;43m\"\u001b[39;49m\u001b[38;5;124;43mDE440\u001b[39;49m\u001b[38;5;124;43m\"\u001b[39;49m\u001b[43m,\u001b[49m\u001b[43m \u001b[49m\u001b[43mbipm_version\u001b[49m\u001b[38;5;241;43m=\u001b[39;49m\u001b[38;5;124;43m\"\u001b[39;49m\u001b[38;5;124;43mBIPM2019\u001b[39;49m\u001b[38;5;124;43m\"\u001b[39;49m\u001b[43m,\u001b[49m\u001b[43m \u001b[49m\u001b[43mclk\u001b[49m\u001b[38;5;241;43m=\u001b[39;49m\u001b[38;5;124;43m\"\u001b[39;49m\u001b[38;5;124;43mTT(BIPM2019)\u001b[39;49m\u001b[38;5;124;43m\"\u001b[39;49m\u001b[43m)\u001b[49m\n\u001b[1;32m     24\u001b[0m     \u001b[38;5;66;03m# Create a DataFrame with toas and residuals\u001b[39;00m\n\u001b[1;32m     25\u001b[0m     df \u001b[38;5;241m=\u001b[39m pd\u001b[38;5;241m.\u001b[39mDataFrame({\n\u001b[1;32m     26\u001b[0m         \u001b[38;5;124m'\u001b[39m\u001b[38;5;124mtoas\u001b[39m\u001b[38;5;124m'\u001b[39m: psr\u001b[38;5;241m.\u001b[39mtoas,\n\u001b[1;32m     27\u001b[0m         \u001b[38;5;124mf\u001b[39m\u001b[38;5;124m'\u001b[39m\u001b[38;5;124mresiduals_\u001b[39m\u001b[38;5;132;01m{\u001b[39;00midx\u001b[38;5;132;01m}\u001b[39;00m\u001b[38;5;124m'\u001b[39m: psr\u001b[38;5;241m.\u001b[39mresiduals\n\u001b[1;32m     28\u001b[0m     })\n",
      "File \u001b[0;32m/fred/oz022/tkimpson/Argus/notebooks/../src/data_loader.py:93\u001b[0m, in \u001b[0;36mLoadWidebandPulsarData.read_par_tim\u001b[0;34m(cls, par_file, tim_file, **kwargs)\u001b[0m\n\u001b[1;32m     73\u001b[0m \u001b[38;5;250m\u001b[39m\u001b[38;5;124;03m\"\"\"\u001b[39;00m\n\u001b[1;32m     74\u001b[0m \u001b[38;5;124;03mLoads the pulsar data from the specified file paths, uses enterprise to extract\u001b[39;00m\n\u001b[1;32m     75\u001b[0m \u001b[38;5;124;03mthe relevant data, and stores it in the data attribute.\u001b[39;00m\n\u001b[0;32m   (...)\u001b[0m\n\u001b[1;32m     89\u001b[0m \u001b[38;5;124;03m    An instance of the LoadWidebandPulsarData class initialized with the loaded data.\u001b[39;00m\n\u001b[1;32m     90\u001b[0m \u001b[38;5;124;03m\"\"\"\u001b[39;00m\n\u001b[1;32m     92\u001b[0m \u001b[38;5;28;01mtry\u001b[39;00m:\n\u001b[0;32m---> 93\u001b[0m     pulsar_object \u001b[38;5;241m=\u001b[39m \u001b[43menterprise_pulsar\u001b[49m\u001b[43m(\u001b[49m\u001b[38;5;28;43mstr\u001b[39;49m\u001b[43m(\u001b[49m\u001b[43mpar_file\u001b[49m\u001b[43m)\u001b[49m\u001b[43m,\u001b[49m\u001b[43m \u001b[49m\u001b[38;5;28;43mstr\u001b[39;49m\u001b[43m(\u001b[49m\u001b[43mtim_file\u001b[49m\u001b[43m)\u001b[49m\u001b[43m,\u001b[49m\u001b[43m \u001b[49m\u001b[38;5;241;43m*\u001b[39;49m\u001b[38;5;241;43m*\u001b[39;49m\u001b[43mkwargs\u001b[49m\u001b[43m)\u001b[49m \u001b[38;5;66;03m#error handling. Probably overkill? \u001b[39;00m\n\u001b[1;32m     94\u001b[0m     \u001b[38;5;28;01mreturn\u001b[39;00m \u001b[38;5;28mcls\u001b[39m(pulsar_object)\n\u001b[1;32m     95\u001b[0m \u001b[38;5;28;01mexcept\u001b[39;00m \u001b[38;5;167;01mException\u001b[39;00m \u001b[38;5;28;01mas\u001b[39;00m e:\n",
      "File \u001b[0;32m/fred/oz022/tkimpson/conda_envs/Argus3/lib/python3.12/site-packages/enterprise/pulsar.py:729\u001b[0m, in \u001b[0;36mPulsar\u001b[0;34m(*args, **kwargs)\u001b[0m\n\u001b[1;32m    727\u001b[0m \u001b[38;5;28;01mif\u001b[39;00m (clk \u001b[38;5;129;01mis\u001b[39;00m \u001b[38;5;129;01mnot\u001b[39;00m \u001b[38;5;28;01mNone\u001b[39;00m) \u001b[38;5;129;01mand\u001b[39;00m (bipm_version \u001b[38;5;129;01mis\u001b[39;00m \u001b[38;5;28;01mNone\u001b[39;00m):\n\u001b[1;32m    728\u001b[0m     bipm_version \u001b[38;5;241m=\u001b[39m clk\u001b[38;5;241m.\u001b[39msplit(\u001b[38;5;124m\"\u001b[39m\u001b[38;5;124m(\u001b[39m\u001b[38;5;124m\"\u001b[39m)[\u001b[38;5;241m1\u001b[39m][:\u001b[38;5;241m-\u001b[39m\u001b[38;5;241m1\u001b[39m]\n\u001b[0;32m--> 729\u001b[0m model, toas \u001b[38;5;241m=\u001b[39m \u001b[43mget_model_and_toas\u001b[49m\u001b[43m(\u001b[49m\n\u001b[1;32m    730\u001b[0m \u001b[43m    \u001b[49m\u001b[43mrelparfile\u001b[49m\u001b[43m,\u001b[49m\u001b[43m \u001b[49m\u001b[43mreltimfile\u001b[49m\u001b[43m,\u001b[49m\u001b[43m \u001b[49m\u001b[43mephem\u001b[49m\u001b[38;5;241;43m=\u001b[39;49m\u001b[43mephem\u001b[49m\u001b[43m,\u001b[49m\u001b[43m \u001b[49m\u001b[43mbipm_version\u001b[49m\u001b[38;5;241;43m=\u001b[39;49m\u001b[43mbipm_version\u001b[49m\u001b[43m,\u001b[49m\u001b[43m \u001b[49m\u001b[43mplanets\u001b[49m\u001b[38;5;241;43m=\u001b[39;49m\u001b[43mplanets\u001b[49m\n\u001b[1;32m    731\u001b[0m \u001b[43m\u001b[49m\u001b[43m)\u001b[49m\n\u001b[1;32m    732\u001b[0m os\u001b[38;5;241m.\u001b[39mchdir(cwd)\n\u001b[1;32m    733\u001b[0m \u001b[38;5;28;01mreturn\u001b[39;00m PintPulsar(toas, model, sort\u001b[38;5;241m=\u001b[39msort, drop_pintpsr\u001b[38;5;241m=\u001b[39mdrop_pintpsr, planets\u001b[38;5;241m=\u001b[39mplanets)\n",
      "File \u001b[0;32m/fred/oz022/tkimpson/conda_envs/Argus3/lib/python3.12/site-packages/pint/models/model_builder.py:944\u001b[0m, in \u001b[0;36mget_model_and_toas\u001b[0;34m(parfile, timfile, ephem, include_bipm, bipm_version, planets, usepickle, tdb_method, include_pn, picklefilename, allow_name_mixing, limits, allow_tcb, allow_T2, force_binary_model, add_tzr_to_model, **kwargs)\u001b[0m\n\u001b[1;32m    863\u001b[0m \u001b[38;5;28;01mdef\u001b[39;00m\u001b[38;5;250m \u001b[39m\u001b[38;5;21mget_model_and_toas\u001b[39m(\n\u001b[1;32m    864\u001b[0m     parfile: file_like,\n\u001b[1;32m    865\u001b[0m     timfile: file_like,\n\u001b[0;32m   (...)\u001b[0m\n\u001b[1;32m    880\u001b[0m     \u001b[38;5;241m*\u001b[39m\u001b[38;5;241m*\u001b[39mkwargs,\n\u001b[1;32m    881\u001b[0m ) \u001b[38;5;241m-\u001b[39m\u001b[38;5;241m>\u001b[39m Tuple[TimingModel, TOAs]:\n\u001b[1;32m    882\u001b[0m \u001b[38;5;250m    \u001b[39m\u001b[38;5;124;03m\"\"\"Load a timing model and a related TOAs, using model commands as needed\u001b[39;00m\n\u001b[1;32m    883\u001b[0m \n\u001b[1;32m    884\u001b[0m \u001b[38;5;124;03m    Parameters\u001b[39;00m\n\u001b[0;32m   (...)\u001b[0m\n\u001b[1;32m    941\u001b[0m \u001b[38;5;124;03m    A tuple with (model instance, TOAs instance)\u001b[39;00m\n\u001b[1;32m    942\u001b[0m \u001b[38;5;124;03m    \"\"\"\u001b[39;00m\n\u001b[0;32m--> 944\u001b[0m     mm \u001b[38;5;241m=\u001b[39m \u001b[43mget_model\u001b[49m\u001b[43m(\u001b[49m\n\u001b[1;32m    945\u001b[0m \u001b[43m        \u001b[49m\u001b[43mparfile\u001b[49m\u001b[43m,\u001b[49m\n\u001b[1;32m    946\u001b[0m \u001b[43m        \u001b[49m\u001b[43mallow_name_mixing\u001b[49m\u001b[43m,\u001b[49m\n\u001b[1;32m    947\u001b[0m \u001b[43m        \u001b[49m\u001b[43mallow_tcb\u001b[49m\u001b[38;5;241;43m=\u001b[39;49m\u001b[43mallow_tcb\u001b[49m\u001b[43m,\u001b[49m\n\u001b[1;32m    948\u001b[0m \u001b[43m        \u001b[49m\u001b[43mallow_T2\u001b[49m\u001b[38;5;241;43m=\u001b[39;49m\u001b[43mallow_T2\u001b[49m\u001b[43m,\u001b[49m\n\u001b[1;32m    949\u001b[0m \u001b[43m        \u001b[49m\u001b[43mforce_binary_model\u001b[49m\u001b[38;5;241;43m=\u001b[39;49m\u001b[43mforce_binary_model\u001b[49m\u001b[43m,\u001b[49m\n\u001b[1;32m    950\u001b[0m \u001b[43m        \u001b[49m\u001b[38;5;241;43m*\u001b[39;49m\u001b[38;5;241;43m*\u001b[39;49m\u001b[43mkwargs\u001b[49m\u001b[43m,\u001b[49m\n\u001b[1;32m    951\u001b[0m \u001b[43m    \u001b[49m\u001b[43m)\u001b[49m\n\u001b[1;32m    953\u001b[0m     tt \u001b[38;5;241m=\u001b[39m get_TOAs(\n\u001b[1;32m    954\u001b[0m         timfile,\n\u001b[1;32m    955\u001b[0m         include_pn\u001b[38;5;241m=\u001b[39minclude_pn,\n\u001b[0;32m   (...)\u001b[0m\n\u001b[1;32m    964\u001b[0m         limits\u001b[38;5;241m=\u001b[39mlimits,\n\u001b[1;32m    965\u001b[0m     )\n\u001b[1;32m    967\u001b[0m     \u001b[38;5;28;01mif\u001b[39;00m \u001b[38;5;124m\"\u001b[39m\u001b[38;5;124mAbsPhase\u001b[39m\u001b[38;5;124m\"\u001b[39m \u001b[38;5;129;01mnot\u001b[39;00m \u001b[38;5;129;01min\u001b[39;00m mm\u001b[38;5;241m.\u001b[39mcomponents \u001b[38;5;129;01mand\u001b[39;00m add_tzr_to_model:\n",
      "File \u001b[0;32m/fred/oz022/tkimpson/conda_envs/Argus3/lib/python3.12/site-packages/pint/models/model_builder.py:848\u001b[0m, in \u001b[0;36mget_model\u001b[0;34m(parfile, allow_name_mixing, allow_tcb, allow_T2, force_binary_model, toas_for_tzr, **kwargs)\u001b[0m\n\u001b[1;32m    835\u001b[0m     \u001b[38;5;28;01mreturn\u001b[39;00m model_builder(\n\u001b[1;32m    836\u001b[0m         StringIO(contents),\n\u001b[1;32m    837\u001b[0m         allow_name_mixing,\n\u001b[0;32m   (...)\u001b[0m\n\u001b[1;32m    842\u001b[0m         \u001b[38;5;241m*\u001b[39m\u001b[38;5;241m*\u001b[39mkwargs,\n\u001b[1;32m    843\u001b[0m     )\n\u001b[1;32m    845\u001b[0m \u001b[38;5;66;03m# # parfile is a filename and can be handled by ModelBuilder\u001b[39;00m\n\u001b[1;32m    846\u001b[0m \u001b[38;5;66;03m# if _model_builder is None:\u001b[39;00m\n\u001b[1;32m    847\u001b[0m \u001b[38;5;66;03m#     _model_builder = ModelBuilder()\u001b[39;00m\n\u001b[0;32m--> 848\u001b[0m model \u001b[38;5;241m=\u001b[39m \u001b[43mmodel_builder\u001b[49m\u001b[43m(\u001b[49m\n\u001b[1;32m    849\u001b[0m \u001b[43m    \u001b[49m\u001b[43mparfile\u001b[49m\u001b[43m,\u001b[49m\n\u001b[1;32m    850\u001b[0m \u001b[43m    \u001b[49m\u001b[43mallow_name_mixing\u001b[49m\u001b[43m,\u001b[49m\n\u001b[1;32m    851\u001b[0m \u001b[43m    \u001b[49m\u001b[43mallow_tcb\u001b[49m\u001b[38;5;241;43m=\u001b[39;49m\u001b[43mallow_tcb\u001b[49m\u001b[43m,\u001b[49m\n\u001b[1;32m    852\u001b[0m \u001b[43m    \u001b[49m\u001b[43mallow_T2\u001b[49m\u001b[38;5;241;43m=\u001b[39;49m\u001b[43mallow_T2\u001b[49m\u001b[43m,\u001b[49m\n\u001b[1;32m    853\u001b[0m \u001b[43m    \u001b[49m\u001b[43mforce_binary_model\u001b[49m\u001b[38;5;241;43m=\u001b[39;49m\u001b[43mforce_binary_model\u001b[49m\u001b[43m,\u001b[49m\n\u001b[1;32m    854\u001b[0m \u001b[43m    \u001b[49m\u001b[43mtoas_for_tzr\u001b[49m\u001b[38;5;241;43m=\u001b[39;49m\u001b[43mtoas_for_tzr\u001b[49m\u001b[43m,\u001b[49m\n\u001b[1;32m    855\u001b[0m \u001b[43m    \u001b[49m\u001b[38;5;241;43m*\u001b[39;49m\u001b[38;5;241;43m*\u001b[39;49m\u001b[43mkwargs\u001b[49m\u001b[43m,\u001b[49m\n\u001b[1;32m    856\u001b[0m \u001b[43m\u001b[49m\u001b[43m)\u001b[49m\n\u001b[1;32m    857\u001b[0m model\u001b[38;5;241m.\u001b[39mname \u001b[38;5;241m=\u001b[39m parfile\n\u001b[1;32m    858\u001b[0m model\u001b[38;5;241m.\u001b[39mmeta[\u001b[38;5;124m\"\u001b[39m\u001b[38;5;124moriginal_name\u001b[39m\u001b[38;5;124m\"\u001b[39m] \u001b[38;5;241m=\u001b[39m parfile\n",
      "File \u001b[0;32m/fred/oz022/tkimpson/conda_envs/Argus3/lib/python3.12/site-packages/pint/models/model_builder.py:196\u001b[0m, in \u001b[0;36mModelBuilder.__call__\u001b[0;34m(self, parfile, allow_name_mixing, allow_tcb, allow_T2, force_binary_model, toas_for_tzr, **kwargs)\u001b[0m\n\u001b[1;32m    194\u001b[0m     \u001b[38;5;28;01melse\u001b[39;00m:\n\u001b[1;32m    195\u001b[0m         remaining_args[k] \u001b[38;5;241m=\u001b[39m v\n\u001b[0;32m--> 196\u001b[0m selected, conflict, param_not_in_pint \u001b[38;5;241m=\u001b[39m \u001b[38;5;28;43mself\u001b[39;49m\u001b[38;5;241;43m.\u001b[39;49m\u001b[43mchoose_model\u001b[49m\u001b[43m(\u001b[49m\n\u001b[1;32m    197\u001b[0m \u001b[43m    \u001b[49m\u001b[43mpint_param_dict\u001b[49m\u001b[43m,\u001b[49m\u001b[43m \u001b[49m\u001b[43mforce_binary_model\u001b[49m\u001b[38;5;241;43m=\u001b[39;49m\u001b[43mforce_binary_model\u001b[49m\u001b[43m,\u001b[49m\u001b[43m \u001b[49m\u001b[43mallow_T2\u001b[49m\u001b[38;5;241;43m=\u001b[39;49m\u001b[43mallow_T2\u001b[49m\n\u001b[1;32m    198\u001b[0m \u001b[43m\u001b[49m\u001b[43m)\u001b[49m\n\u001b[1;32m    199\u001b[0m selected\u001b[38;5;241m.\u001b[39mupdate(\u001b[38;5;28mset\u001b[39m(\u001b[38;5;28mself\u001b[39m\u001b[38;5;241m.\u001b[39mdefault_components))\n\u001b[1;32m    201\u001b[0m \u001b[38;5;66;03m# Add SolarSystemShapiro only if an Astrometry component is present.\u001b[39;00m\n",
      "File \u001b[0;32m/fred/oz022/tkimpson/conda_envs/Argus3/lib/python3.12/site-packages/pint/models/model_builder.py:493\u001b[0m, in \u001b[0;36mModelBuilder.choose_model\u001b[0;34m(self, param_inpar, force_binary_model, allow_T2)\u001b[0m\n\u001b[1;32m    490\u001b[0m \u001b[38;5;28;01mif\u001b[39;00m binary:\n\u001b[1;32m    491\u001b[0m     binary \u001b[38;5;241m=\u001b[39m binary[\u001b[38;5;241m0\u001b[39m]\n\u001b[1;32m    492\u001b[0m     selected_components\u001b[38;5;241m.\u001b[39madd(\n\u001b[0;32m--> 493\u001b[0m         \u001b[38;5;28;43mself\u001b[39;49m\u001b[38;5;241;43m.\u001b[39;49m\u001b[43mchoose_binary_model\u001b[49m\u001b[43m(\u001b[49m\u001b[43mparam_inpar\u001b[49m\u001b[43m,\u001b[49m\u001b[43m \u001b[49m\u001b[43mforce_binary_model\u001b[49m\u001b[43m,\u001b[49m\u001b[43m \u001b[49m\u001b[43mallow_T2\u001b[49m\u001b[43m)\u001b[49m\n\u001b[1;32m    494\u001b[0m     )\n\u001b[1;32m    496\u001b[0m \u001b[38;5;66;03m# 2. Get the component list from the parameters in the parfile.\u001b[39;00m\n\u001b[1;32m    497\u001b[0m \u001b[38;5;66;03m# 2.1 Check the aliases of input parameters.\u001b[39;00m\n\u001b[1;32m    498\u001b[0m \u001b[38;5;66;03m# This does not include the repeating parameters, but it should not\u001b[39;00m\n\u001b[1;32m    499\u001b[0m \u001b[38;5;66;03m# matter in the component selection.\u001b[39;00m\n\u001b[1;32m    500\u001b[0m param_not_in_pint \u001b[38;5;241m=\u001b[39m []  \u001b[38;5;66;03m# For parameters not initialized in PINT yet.\u001b[39;00m\n",
      "File \u001b[0;32m/fred/oz022/tkimpson/conda_envs/Argus3/lib/python3.12/site-packages/pint/models/model_builder.py:646\u001b[0m, in \u001b[0;36mModelBuilder.choose_binary_model\u001b[0;34m(self, param_inpar, force_binary_model, allow_T2)\u001b[0m\n\u001b[1;32m    644\u001b[0m     \u001b[38;5;66;03m# Re-raise the error, with an added guess for the binary model if we have one\u001b[39;00m\n\u001b[1;32m    645\u001b[0m     \u001b[38;5;28;01mif\u001b[39;00m binary_model_guesses:\n\u001b[0;32m--> 646\u001b[0m         \u001b[38;5;28;01mraise\u001b[39;00m UnknownBinaryModel(\n\u001b[1;32m    647\u001b[0m             \u001b[38;5;28mstr\u001b[39m(e), suggestion\u001b[38;5;241m=\u001b[39mbinary_model_guesses[\u001b[38;5;241m0\u001b[39m]\n\u001b[1;32m    648\u001b[0m         ) \u001b[38;5;28;01mfrom\u001b[39;00m\u001b[38;5;250m \u001b[39m\u001b[38;5;28;01mNone\u001b[39;00m\n\u001b[1;32m    649\u001b[0m     \u001b[38;5;28;01mraise\u001b[39;00m\n\u001b[1;32m    651\u001b[0m \u001b[38;5;28;01mreturn\u001b[39;00m binary_cp\u001b[38;5;241m.\u001b[39m\u001b[38;5;18m__class__\u001b[39m\u001b[38;5;241m.\u001b[39m\u001b[38;5;18m__name__\u001b[39m\n",
      "\u001b[0;31mUnknownBinaryModel\u001b[0m: Pulsar system/Binary model component T2 is not provided. Perhaps use BT?"
     ]
    }
   ],
   "source": [
    "import glob \n",
    "\n",
    "import logging\n",
    "logging.getLogger().setLevel(logging.WARNING)\n",
    "\n",
    "directory = '../data/data_from_enterprise/mdc1/'\n",
    "\n",
    "# Get all .par files in the directory\n",
    "par_files = sorted(glob.glob(os.path.join(directory, '*.par')))\n",
    "\n",
    "print(len(par_files))\n",
    "# Generate the corresponding .tim file paths\n",
    "file_pairs = [(par_file, par_file.replace('.par', '.tim')) for par_file in par_files]\n",
    "\n",
    "# Try to load the first N pulsars\n",
    "dataframes = []\n",
    "\n",
    "idx = 0\n",
    "for par_file, tim_file in file_pairs[0:5]:\n",
    "    print (par_file)\n",
    "    psr = LoadWidebandPulsarData.read_par_tim(par_file, tim_file, timing_package=\"pint\", ephem=\"DE440\", bipm_version=\"BIPM2019\", clk=\"TT(BIPM2019)\")\n",
    "\n",
    "\n",
    "    # Create a DataFrame with toas and residuals\n",
    "    df = pd.DataFrame({\n",
    "        'toas': psr.toas,\n",
    "        f'residuals_{idx}': psr.residuals\n",
    "    })\n",
    "\n",
    "    print(f\"The number of toas for idx = {idx} is {len(psr.toas)}, with first element {psr.toas[0]}\")\n",
    "    if idx > 0:\n",
    "        # Merge the dataframes\n",
    "        merged_df = pd.merge(merged_df, df, on='toas', how='outer')       \n",
    "    else:\n",
    "        merged_df = df \n",
    "    \n",
    "    idx+= 1\n",
    "\n",
    "\n",
    "\n",
    "\n",
    "\n",
    "\n",
    "\n",
    "    # dataframes.append(df)"
   ]
  },
  {
   "cell_type": "code",
   "execution_count": 15,
   "metadata": {},
   "outputs": [
    {
     "data": {
      "text/html": [
       "<div>\n",
       "<style scoped>\n",
       "    .dataframe tbody tr th:only-of-type {\n",
       "        vertical-align: middle;\n",
       "    }\n",
       "\n",
       "    .dataframe tbody tr th {\n",
       "        vertical-align: top;\n",
       "    }\n",
       "\n",
       "    .dataframe thead th {\n",
       "        text-align: right;\n",
       "    }\n",
       "</style>\n",
       "<table border=\"1\" class=\"dataframe\">\n",
       "  <thead>\n",
       "    <tr style=\"text-align: right;\">\n",
       "      <th></th>\n",
       "      <th>toas</th>\n",
       "      <th>residuals_0</th>\n",
       "      <th>residuals_1</th>\n",
       "      <th>residuals_2</th>\n",
       "    </tr>\n",
       "  </thead>\n",
       "  <tbody>\n",
       "    <tr>\n",
       "      <th>0</th>\n",
       "      <td>4.579200e+09</td>\n",
       "      <td>-0.000002</td>\n",
       "      <td>NaN</td>\n",
       "      <td>NaN</td>\n",
       "    </tr>\n",
       "    <tr>\n",
       "      <th>1</th>\n",
       "      <td>4.579200e+09</td>\n",
       "      <td>NaN</td>\n",
       "      <td>NaN</td>\n",
       "      <td>0.000079</td>\n",
       "    </tr>\n",
       "    <tr>\n",
       "      <th>2</th>\n",
       "      <td>4.579200e+09</td>\n",
       "      <td>NaN</td>\n",
       "      <td>-0.000027</td>\n",
       "      <td>NaN</td>\n",
       "    </tr>\n",
       "    <tr>\n",
       "      <th>3</th>\n",
       "      <td>4.580410e+09</td>\n",
       "      <td>0.000707</td>\n",
       "      <td>NaN</td>\n",
       "      <td>NaN</td>\n",
       "    </tr>\n",
       "    <tr>\n",
       "      <th>4</th>\n",
       "      <td>4.580410e+09</td>\n",
       "      <td>NaN</td>\n",
       "      <td>NaN</td>\n",
       "      <td>-0.000372</td>\n",
       "    </tr>\n",
       "    <tr>\n",
       "      <th>...</th>\n",
       "      <td>...</td>\n",
       "      <td>...</td>\n",
       "      <td>...</td>\n",
       "      <td>...</td>\n",
       "    </tr>\n",
       "    <tr>\n",
       "      <th>385</th>\n",
       "      <td>4.734029e+09</td>\n",
       "      <td>-0.001986</td>\n",
       "      <td>NaN</td>\n",
       "      <td>NaN</td>\n",
       "    </tr>\n",
       "    <tr>\n",
       "      <th>386</th>\n",
       "      <td>4.734029e+09</td>\n",
       "      <td>NaN</td>\n",
       "      <td>0.000938</td>\n",
       "      <td>NaN</td>\n",
       "    </tr>\n",
       "    <tr>\n",
       "      <th>387</th>\n",
       "      <td>4.735239e+09</td>\n",
       "      <td>NaN</td>\n",
       "      <td>NaN</td>\n",
       "      <td>-0.000005</td>\n",
       "    </tr>\n",
       "    <tr>\n",
       "      <th>388</th>\n",
       "      <td>4.735239e+09</td>\n",
       "      <td>-0.001278</td>\n",
       "      <td>NaN</td>\n",
       "      <td>NaN</td>\n",
       "    </tr>\n",
       "    <tr>\n",
       "      <th>389</th>\n",
       "      <td>4.735239e+09</td>\n",
       "      <td>NaN</td>\n",
       "      <td>0.000582</td>\n",
       "      <td>NaN</td>\n",
       "    </tr>\n",
       "  </tbody>\n",
       "</table>\n",
       "<p>390 rows × 4 columns</p>\n",
       "</div>"
      ],
      "text/plain": [
       "             toas  residuals_0  residuals_1  residuals_2\n",
       "0    4.579200e+09    -0.000002          NaN          NaN\n",
       "1    4.579200e+09          NaN          NaN     0.000079\n",
       "2    4.579200e+09          NaN    -0.000027          NaN\n",
       "3    4.580410e+09     0.000707          NaN          NaN\n",
       "4    4.580410e+09          NaN          NaN    -0.000372\n",
       "..            ...          ...          ...          ...\n",
       "385  4.734029e+09    -0.001986          NaN          NaN\n",
       "386  4.734029e+09          NaN     0.000938          NaN\n",
       "387  4.735239e+09          NaN          NaN    -0.000005\n",
       "388  4.735239e+09    -0.001278          NaN          NaN\n",
       "389  4.735239e+09          NaN     0.000582          NaN\n",
       "\n",
       "[390 rows x 4 columns]"
      ]
     },
     "execution_count": 15,
     "metadata": {},
     "output_type": "execute_result"
    }
   ],
   "source": [
    "merged_df "
   ]
  },
  {
   "cell_type": "code",
   "execution_count": null,
   "metadata": {},
   "outputs": [],
   "source": [
    "Pulsar(\n",
    "    datadir + \"/B1855+09_NANOGrav_9yv1.gls.par\",\n",
    "    datadir + \"/B1855+09_NANOGrav_9yv1.tim\",\n",
    "    ephem=\"DE430\",\n",
    "    drop_pintpsr=True,\n",
    "    timing_package=\"pint\",\n",
    ")"
   ]
  },
  {
   "cell_type": "code",
   "execution_count": 2,
   "metadata": {},
   "outputs": [],
   "source": [
    "from enterprise.pulsar import Pulsar as enterprise_pulsar\n",
    "import glob "
   ]
  },
  {
   "cell_type": "code",
   "execution_count": 11,
   "metadata": {},
   "outputs": [
    {
     "name": "stderr",
     "output_type": "stream",
     "text": [
      "\u001b[32m2025-01-29 14:40:24.760\u001b[0m | \u001b[31m\u001b[1mERROR   \u001b[0m | \u001b[36mpint.models.model_builder\u001b[0m:\u001b[36mchoose_binary_model\u001b[0m:\u001b[36m638\u001b[0m - \u001b[31m\u001b[1mCould not find binary model T2\u001b[0m\n",
      "\u001b[32m2025-01-29 14:40:24.761\u001b[0m | \u001b[1mINFO    \u001b[0m | \u001b[36mpint.models.model_builder\u001b[0m:\u001b[36mchoose_binary_model\u001b[0m:\u001b[36m640\u001b[0m - \u001b[1mCompatible models with these parameters: BT, BT_piecewise, DD, DDK, DDGR, DDS, DDH.\u001b[0m\n"
     ]
    },
    {
     "ename": "UnknownBinaryModel",
     "evalue": "Pulsar system/Binary model component T2 is not provided. Perhaps use BT?",
     "output_type": "error",
     "traceback": [
      "\u001b[0;31m---------------------------------------------------------------------------\u001b[0m",
      "\u001b[0;31mUnknownBinaryModel\u001b[0m                        Traceback (most recent call last)",
      "Cell \u001b[0;32mIn[11], line 2\u001b[0m\n\u001b[1;32m      1\u001b[0m datadir \u001b[38;5;241m=\u001b[39m \u001b[38;5;124m'\u001b[39m\u001b[38;5;124m../data/data_from_enterprise/mdc1\u001b[39m\u001b[38;5;124m'\u001b[39m\n\u001b[0;32m----> 2\u001b[0m \u001b[43menterprise_pulsar\u001b[49m\u001b[43m(\u001b[49m\n\u001b[1;32m      3\u001b[0m \u001b[43m    \u001b[49m\u001b[43mdatadir\u001b[49m\u001b[43m \u001b[49m\u001b[38;5;241;43m+\u001b[39;49m\u001b[43m \u001b[49m\u001b[38;5;124;43m\"\u001b[39;49m\u001b[38;5;124;43m/J0613-0200.par\u001b[39;49m\u001b[38;5;124;43m\"\u001b[39;49m\u001b[43m,\u001b[49m\n\u001b[1;32m      4\u001b[0m \u001b[43m    \u001b[49m\u001b[43mdatadir\u001b[49m\u001b[43m \u001b[49m\u001b[38;5;241;43m+\u001b[39;49m\u001b[43m \u001b[49m\u001b[38;5;124;43m\"\u001b[39;49m\u001b[38;5;124;43m/J0613-0200.tim\u001b[39;49m\u001b[38;5;124;43m\"\u001b[39;49m\u001b[43m,\u001b[49m\n\u001b[1;32m      5\u001b[0m \u001b[43m    \u001b[49m\u001b[43mephem\u001b[49m\u001b[38;5;241;43m=\u001b[39;49m\u001b[38;5;124;43m\"\u001b[39;49m\u001b[38;5;124;43mDE430\u001b[39;49m\u001b[38;5;124;43m\"\u001b[39;49m\u001b[43m,\u001b[49m\n\u001b[1;32m      6\u001b[0m \u001b[43m    \u001b[49m\u001b[43mdrop_pintpsr\u001b[49m\u001b[38;5;241;43m=\u001b[39;49m\u001b[38;5;28;43;01mTrue\u001b[39;49;00m\u001b[43m,\u001b[49m\n\u001b[1;32m      7\u001b[0m \u001b[43m    \u001b[49m\u001b[43mtiming_package\u001b[49m\u001b[38;5;241;43m=\u001b[39;49m\u001b[38;5;124;43m\"\u001b[39;49m\u001b[38;5;124;43mpint\u001b[39;49m\u001b[38;5;124;43m\"\u001b[39;49m\u001b[43m,\u001b[49m\n\u001b[1;32m      8\u001b[0m \u001b[43m)\u001b[49m\n",
      "File \u001b[0;32m/fred/oz022/tkimpson/conda_envs/Argus3/lib/python3.12/site-packages/enterprise/pulsar.py:729\u001b[0m, in \u001b[0;36mPulsar\u001b[0;34m(*args, **kwargs)\u001b[0m\n\u001b[1;32m    727\u001b[0m \u001b[38;5;28;01mif\u001b[39;00m (clk \u001b[38;5;129;01mis\u001b[39;00m \u001b[38;5;129;01mnot\u001b[39;00m \u001b[38;5;28;01mNone\u001b[39;00m) \u001b[38;5;129;01mand\u001b[39;00m (bipm_version \u001b[38;5;129;01mis\u001b[39;00m \u001b[38;5;28;01mNone\u001b[39;00m):\n\u001b[1;32m    728\u001b[0m     bipm_version \u001b[38;5;241m=\u001b[39m clk\u001b[38;5;241m.\u001b[39msplit(\u001b[38;5;124m\"\u001b[39m\u001b[38;5;124m(\u001b[39m\u001b[38;5;124m\"\u001b[39m)[\u001b[38;5;241m1\u001b[39m][:\u001b[38;5;241m-\u001b[39m\u001b[38;5;241m1\u001b[39m]\n\u001b[0;32m--> 729\u001b[0m model, toas \u001b[38;5;241m=\u001b[39m \u001b[43mget_model_and_toas\u001b[49m\u001b[43m(\u001b[49m\n\u001b[1;32m    730\u001b[0m \u001b[43m    \u001b[49m\u001b[43mrelparfile\u001b[49m\u001b[43m,\u001b[49m\u001b[43m \u001b[49m\u001b[43mreltimfile\u001b[49m\u001b[43m,\u001b[49m\u001b[43m \u001b[49m\u001b[43mephem\u001b[49m\u001b[38;5;241;43m=\u001b[39;49m\u001b[43mephem\u001b[49m\u001b[43m,\u001b[49m\u001b[43m \u001b[49m\u001b[43mbipm_version\u001b[49m\u001b[38;5;241;43m=\u001b[39;49m\u001b[43mbipm_version\u001b[49m\u001b[43m,\u001b[49m\u001b[43m \u001b[49m\u001b[43mplanets\u001b[49m\u001b[38;5;241;43m=\u001b[39;49m\u001b[43mplanets\u001b[49m\n\u001b[1;32m    731\u001b[0m \u001b[43m\u001b[49m\u001b[43m)\u001b[49m\n\u001b[1;32m    732\u001b[0m os\u001b[38;5;241m.\u001b[39mchdir(cwd)\n\u001b[1;32m    733\u001b[0m \u001b[38;5;28;01mreturn\u001b[39;00m PintPulsar(toas, model, sort\u001b[38;5;241m=\u001b[39msort, drop_pintpsr\u001b[38;5;241m=\u001b[39mdrop_pintpsr, planets\u001b[38;5;241m=\u001b[39mplanets)\n",
      "File \u001b[0;32m/fred/oz022/tkimpson/conda_envs/Argus3/lib/python3.12/site-packages/pint/models/model_builder.py:944\u001b[0m, in \u001b[0;36mget_model_and_toas\u001b[0;34m(parfile, timfile, ephem, include_bipm, bipm_version, planets, usepickle, tdb_method, include_pn, picklefilename, allow_name_mixing, limits, allow_tcb, allow_T2, force_binary_model, add_tzr_to_model, **kwargs)\u001b[0m\n\u001b[1;32m    863\u001b[0m \u001b[38;5;28;01mdef\u001b[39;00m\u001b[38;5;250m \u001b[39m\u001b[38;5;21mget_model_and_toas\u001b[39m(\n\u001b[1;32m    864\u001b[0m     parfile: file_like,\n\u001b[1;32m    865\u001b[0m     timfile: file_like,\n\u001b[0;32m   (...)\u001b[0m\n\u001b[1;32m    880\u001b[0m     \u001b[38;5;241m*\u001b[39m\u001b[38;5;241m*\u001b[39mkwargs,\n\u001b[1;32m    881\u001b[0m ) \u001b[38;5;241m-\u001b[39m\u001b[38;5;241m>\u001b[39m Tuple[TimingModel, TOAs]:\n\u001b[1;32m    882\u001b[0m \u001b[38;5;250m    \u001b[39m\u001b[38;5;124;03m\"\"\"Load a timing model and a related TOAs, using model commands as needed\u001b[39;00m\n\u001b[1;32m    883\u001b[0m \n\u001b[1;32m    884\u001b[0m \u001b[38;5;124;03m    Parameters\u001b[39;00m\n\u001b[0;32m   (...)\u001b[0m\n\u001b[1;32m    941\u001b[0m \u001b[38;5;124;03m    A tuple with (model instance, TOAs instance)\u001b[39;00m\n\u001b[1;32m    942\u001b[0m \u001b[38;5;124;03m    \"\"\"\u001b[39;00m\n\u001b[0;32m--> 944\u001b[0m     mm \u001b[38;5;241m=\u001b[39m \u001b[43mget_model\u001b[49m\u001b[43m(\u001b[49m\n\u001b[1;32m    945\u001b[0m \u001b[43m        \u001b[49m\u001b[43mparfile\u001b[49m\u001b[43m,\u001b[49m\n\u001b[1;32m    946\u001b[0m \u001b[43m        \u001b[49m\u001b[43mallow_name_mixing\u001b[49m\u001b[43m,\u001b[49m\n\u001b[1;32m    947\u001b[0m \u001b[43m        \u001b[49m\u001b[43mallow_tcb\u001b[49m\u001b[38;5;241;43m=\u001b[39;49m\u001b[43mallow_tcb\u001b[49m\u001b[43m,\u001b[49m\n\u001b[1;32m    948\u001b[0m \u001b[43m        \u001b[49m\u001b[43mallow_T2\u001b[49m\u001b[38;5;241;43m=\u001b[39;49m\u001b[43mallow_T2\u001b[49m\u001b[43m,\u001b[49m\n\u001b[1;32m    949\u001b[0m \u001b[43m        \u001b[49m\u001b[43mforce_binary_model\u001b[49m\u001b[38;5;241;43m=\u001b[39;49m\u001b[43mforce_binary_model\u001b[49m\u001b[43m,\u001b[49m\n\u001b[1;32m    950\u001b[0m \u001b[43m        \u001b[49m\u001b[38;5;241;43m*\u001b[39;49m\u001b[38;5;241;43m*\u001b[39;49m\u001b[43mkwargs\u001b[49m\u001b[43m,\u001b[49m\n\u001b[1;32m    951\u001b[0m \u001b[43m    \u001b[49m\u001b[43m)\u001b[49m\n\u001b[1;32m    953\u001b[0m     tt \u001b[38;5;241m=\u001b[39m get_TOAs(\n\u001b[1;32m    954\u001b[0m         timfile,\n\u001b[1;32m    955\u001b[0m         include_pn\u001b[38;5;241m=\u001b[39minclude_pn,\n\u001b[0;32m   (...)\u001b[0m\n\u001b[1;32m    964\u001b[0m         limits\u001b[38;5;241m=\u001b[39mlimits,\n\u001b[1;32m    965\u001b[0m     )\n\u001b[1;32m    967\u001b[0m     \u001b[38;5;28;01mif\u001b[39;00m \u001b[38;5;124m\"\u001b[39m\u001b[38;5;124mAbsPhase\u001b[39m\u001b[38;5;124m\"\u001b[39m \u001b[38;5;129;01mnot\u001b[39;00m \u001b[38;5;129;01min\u001b[39;00m mm\u001b[38;5;241m.\u001b[39mcomponents \u001b[38;5;129;01mand\u001b[39;00m add_tzr_to_model:\n",
      "File \u001b[0;32m/fred/oz022/tkimpson/conda_envs/Argus3/lib/python3.12/site-packages/pint/models/model_builder.py:848\u001b[0m, in \u001b[0;36mget_model\u001b[0;34m(parfile, allow_name_mixing, allow_tcb, allow_T2, force_binary_model, toas_for_tzr, **kwargs)\u001b[0m\n\u001b[1;32m    835\u001b[0m     \u001b[38;5;28;01mreturn\u001b[39;00m model_builder(\n\u001b[1;32m    836\u001b[0m         StringIO(contents),\n\u001b[1;32m    837\u001b[0m         allow_name_mixing,\n\u001b[0;32m   (...)\u001b[0m\n\u001b[1;32m    842\u001b[0m         \u001b[38;5;241m*\u001b[39m\u001b[38;5;241m*\u001b[39mkwargs,\n\u001b[1;32m    843\u001b[0m     )\n\u001b[1;32m    845\u001b[0m \u001b[38;5;66;03m# # parfile is a filename and can be handled by ModelBuilder\u001b[39;00m\n\u001b[1;32m    846\u001b[0m \u001b[38;5;66;03m# if _model_builder is None:\u001b[39;00m\n\u001b[1;32m    847\u001b[0m \u001b[38;5;66;03m#     _model_builder = ModelBuilder()\u001b[39;00m\n\u001b[0;32m--> 848\u001b[0m model \u001b[38;5;241m=\u001b[39m \u001b[43mmodel_builder\u001b[49m\u001b[43m(\u001b[49m\n\u001b[1;32m    849\u001b[0m \u001b[43m    \u001b[49m\u001b[43mparfile\u001b[49m\u001b[43m,\u001b[49m\n\u001b[1;32m    850\u001b[0m \u001b[43m    \u001b[49m\u001b[43mallow_name_mixing\u001b[49m\u001b[43m,\u001b[49m\n\u001b[1;32m    851\u001b[0m \u001b[43m    \u001b[49m\u001b[43mallow_tcb\u001b[49m\u001b[38;5;241;43m=\u001b[39;49m\u001b[43mallow_tcb\u001b[49m\u001b[43m,\u001b[49m\n\u001b[1;32m    852\u001b[0m \u001b[43m    \u001b[49m\u001b[43mallow_T2\u001b[49m\u001b[38;5;241;43m=\u001b[39;49m\u001b[43mallow_T2\u001b[49m\u001b[43m,\u001b[49m\n\u001b[1;32m    853\u001b[0m \u001b[43m    \u001b[49m\u001b[43mforce_binary_model\u001b[49m\u001b[38;5;241;43m=\u001b[39;49m\u001b[43mforce_binary_model\u001b[49m\u001b[43m,\u001b[49m\n\u001b[1;32m    854\u001b[0m \u001b[43m    \u001b[49m\u001b[43mtoas_for_tzr\u001b[49m\u001b[38;5;241;43m=\u001b[39;49m\u001b[43mtoas_for_tzr\u001b[49m\u001b[43m,\u001b[49m\n\u001b[1;32m    855\u001b[0m \u001b[43m    \u001b[49m\u001b[38;5;241;43m*\u001b[39;49m\u001b[38;5;241;43m*\u001b[39;49m\u001b[43mkwargs\u001b[49m\u001b[43m,\u001b[49m\n\u001b[1;32m    856\u001b[0m \u001b[43m\u001b[49m\u001b[43m)\u001b[49m\n\u001b[1;32m    857\u001b[0m model\u001b[38;5;241m.\u001b[39mname \u001b[38;5;241m=\u001b[39m parfile\n\u001b[1;32m    858\u001b[0m model\u001b[38;5;241m.\u001b[39mmeta[\u001b[38;5;124m\"\u001b[39m\u001b[38;5;124moriginal_name\u001b[39m\u001b[38;5;124m\"\u001b[39m] \u001b[38;5;241m=\u001b[39m parfile\n",
      "File \u001b[0;32m/fred/oz022/tkimpson/conda_envs/Argus3/lib/python3.12/site-packages/pint/models/model_builder.py:196\u001b[0m, in \u001b[0;36mModelBuilder.__call__\u001b[0;34m(self, parfile, allow_name_mixing, allow_tcb, allow_T2, force_binary_model, toas_for_tzr, **kwargs)\u001b[0m\n\u001b[1;32m    194\u001b[0m     \u001b[38;5;28;01melse\u001b[39;00m:\n\u001b[1;32m    195\u001b[0m         remaining_args[k] \u001b[38;5;241m=\u001b[39m v\n\u001b[0;32m--> 196\u001b[0m selected, conflict, param_not_in_pint \u001b[38;5;241m=\u001b[39m \u001b[38;5;28;43mself\u001b[39;49m\u001b[38;5;241;43m.\u001b[39;49m\u001b[43mchoose_model\u001b[49m\u001b[43m(\u001b[49m\n\u001b[1;32m    197\u001b[0m \u001b[43m    \u001b[49m\u001b[43mpint_param_dict\u001b[49m\u001b[43m,\u001b[49m\u001b[43m \u001b[49m\u001b[43mforce_binary_model\u001b[49m\u001b[38;5;241;43m=\u001b[39;49m\u001b[43mforce_binary_model\u001b[49m\u001b[43m,\u001b[49m\u001b[43m \u001b[49m\u001b[43mallow_T2\u001b[49m\u001b[38;5;241;43m=\u001b[39;49m\u001b[43mallow_T2\u001b[49m\n\u001b[1;32m    198\u001b[0m \u001b[43m\u001b[49m\u001b[43m)\u001b[49m\n\u001b[1;32m    199\u001b[0m selected\u001b[38;5;241m.\u001b[39mupdate(\u001b[38;5;28mset\u001b[39m(\u001b[38;5;28mself\u001b[39m\u001b[38;5;241m.\u001b[39mdefault_components))\n\u001b[1;32m    201\u001b[0m \u001b[38;5;66;03m# Add SolarSystemShapiro only if an Astrometry component is present.\u001b[39;00m\n",
      "File \u001b[0;32m/fred/oz022/tkimpson/conda_envs/Argus3/lib/python3.12/site-packages/pint/models/model_builder.py:493\u001b[0m, in \u001b[0;36mModelBuilder.choose_model\u001b[0;34m(self, param_inpar, force_binary_model, allow_T2)\u001b[0m\n\u001b[1;32m    490\u001b[0m \u001b[38;5;28;01mif\u001b[39;00m binary:\n\u001b[1;32m    491\u001b[0m     binary \u001b[38;5;241m=\u001b[39m binary[\u001b[38;5;241m0\u001b[39m]\n\u001b[1;32m    492\u001b[0m     selected_components\u001b[38;5;241m.\u001b[39madd(\n\u001b[0;32m--> 493\u001b[0m         \u001b[38;5;28;43mself\u001b[39;49m\u001b[38;5;241;43m.\u001b[39;49m\u001b[43mchoose_binary_model\u001b[49m\u001b[43m(\u001b[49m\u001b[43mparam_inpar\u001b[49m\u001b[43m,\u001b[49m\u001b[43m \u001b[49m\u001b[43mforce_binary_model\u001b[49m\u001b[43m,\u001b[49m\u001b[43m \u001b[49m\u001b[43mallow_T2\u001b[49m\u001b[43m)\u001b[49m\n\u001b[1;32m    494\u001b[0m     )\n\u001b[1;32m    496\u001b[0m \u001b[38;5;66;03m# 2. Get the component list from the parameters in the parfile.\u001b[39;00m\n\u001b[1;32m    497\u001b[0m \u001b[38;5;66;03m# 2.1 Check the aliases of input parameters.\u001b[39;00m\n\u001b[1;32m    498\u001b[0m \u001b[38;5;66;03m# This does not include the repeating parameters, but it should not\u001b[39;00m\n\u001b[1;32m    499\u001b[0m \u001b[38;5;66;03m# matter in the component selection.\u001b[39;00m\n\u001b[1;32m    500\u001b[0m param_not_in_pint \u001b[38;5;241m=\u001b[39m []  \u001b[38;5;66;03m# For parameters not initialized in PINT yet.\u001b[39;00m\n",
      "File \u001b[0;32m/fred/oz022/tkimpson/conda_envs/Argus3/lib/python3.12/site-packages/pint/models/model_builder.py:646\u001b[0m, in \u001b[0;36mModelBuilder.choose_binary_model\u001b[0;34m(self, param_inpar, force_binary_model, allow_T2)\u001b[0m\n\u001b[1;32m    644\u001b[0m     \u001b[38;5;66;03m# Re-raise the error, with an added guess for the binary model if we have one\u001b[39;00m\n\u001b[1;32m    645\u001b[0m     \u001b[38;5;28;01mif\u001b[39;00m binary_model_guesses:\n\u001b[0;32m--> 646\u001b[0m         \u001b[38;5;28;01mraise\u001b[39;00m UnknownBinaryModel(\n\u001b[1;32m    647\u001b[0m             \u001b[38;5;28mstr\u001b[39m(e), suggestion\u001b[38;5;241m=\u001b[39mbinary_model_guesses[\u001b[38;5;241m0\u001b[39m]\n\u001b[1;32m    648\u001b[0m         ) \u001b[38;5;28;01mfrom\u001b[39;00m\u001b[38;5;250m \u001b[39m\u001b[38;5;28;01mNone\u001b[39;00m\n\u001b[1;32m    649\u001b[0m     \u001b[38;5;28;01mraise\u001b[39;00m\n\u001b[1;32m    651\u001b[0m \u001b[38;5;28;01mreturn\u001b[39;00m binary_cp\u001b[38;5;241m.\u001b[39m\u001b[38;5;18m__class__\u001b[39m\u001b[38;5;241m.\u001b[39m\u001b[38;5;18m__name__\u001b[39m\n",
      "\u001b[0;31mUnknownBinaryModel\u001b[0m: Pulsar system/Binary model component T2 is not provided. Perhaps use BT?"
     ]
    }
   ],
   "source": [
    "datadir = '../data/data_from_enterprise/mdc1'\n",
    "enterprise_pulsar(\n",
    "    datadir + \"/J0613-0200.par\",\n",
    "    datadir + \"/J0613-0200.tim\",\n",
    "    ephem=\"DE430\",\n",
    "    drop_pintpsr=True,\n",
    "    timing_package=\"pint\",\n",
    ")"
   ]
  },
  {
   "cell_type": "code",
   "execution_count": 15,
   "metadata": {},
   "outputs": [],
   "source": [
    "datadir = '../data/data_from_enterprise/mdc1'\n",
    "parfiles = sorted(glob.glob(datadir + '/*.par'))\n",
    "timfiles = sorted(glob.glob(datadir + '/*.tim'))"
   ]
  },
  {
   "cell_type": "code",
   "execution_count": 16,
   "metadata": {},
   "outputs": [
    {
     "ename": "UnicodeDecodeError",
     "evalue": "'utf-8' codec can't decode byte 0xe0 in position 0: invalid continuation byte",
     "output_type": "error",
     "traceback": [
      "\u001b[0;31m---------------------------------------------------------------------------\u001b[0m",
      "\u001b[0;31mUnicodeDecodeError\u001b[0m                        Traceback (most recent call last)",
      "Cell \u001b[0;32mIn[16], line 1\u001b[0m\n\u001b[0;32m----> 1\u001b[0m \u001b[43menterprise_pulsar\u001b[49m\u001b[43m(\u001b[49m\u001b[43mparfiles\u001b[49m\u001b[43m[\u001b[49m\u001b[38;5;241;43m0\u001b[39;49m\u001b[43m]\u001b[49m\u001b[43m,\u001b[49m\u001b[43m \u001b[49m\u001b[43mtimfiles\u001b[49m\u001b[43m[\u001b[49m\u001b[38;5;241;43m0\u001b[39;49m\u001b[43m]\u001b[49m\u001b[43m)\u001b[49m\n",
      "File \u001b[0;32m/fred/oz022/tkimpson/conda_envs/Argus3/lib/python3.12/site-packages/enterprise/pulsar.py:715\u001b[0m, in \u001b[0;36mPulsar\u001b[0;34m(*args, **kwargs)\u001b[0m\n\u001b[1;32m    713\u001b[0m     \u001b[38;5;66;03m# hack to set maxobs\u001b[39;00m\n\u001b[1;32m    714\u001b[0m     maxobs \u001b[38;5;241m=\u001b[39m get_maxobs(reltimfile) \u001b[38;5;241m+\u001b[39m \u001b[38;5;241m100\u001b[39m\n\u001b[0;32m--> 715\u001b[0m     t2pulsar \u001b[38;5;241m=\u001b[39m \u001b[43mt2\u001b[49m\u001b[38;5;241;43m.\u001b[39;49m\u001b[43mtempopulsar\u001b[49m\u001b[43m(\u001b[49m\u001b[43mrelparfile\u001b[49m\u001b[43m,\u001b[49m\u001b[43m \u001b[49m\u001b[43mreltimfile\u001b[49m\u001b[43m,\u001b[49m\u001b[43m \u001b[49m\u001b[43mmaxobs\u001b[49m\u001b[38;5;241;43m=\u001b[39;49m\u001b[43mmaxobs\u001b[49m\u001b[43m,\u001b[49m\u001b[43m \u001b[49m\u001b[43mephem\u001b[49m\u001b[38;5;241;43m=\u001b[39;49m\u001b[43mephem\u001b[49m\u001b[43m,\u001b[49m\u001b[43m \u001b[49m\u001b[43mclk\u001b[49m\u001b[38;5;241;43m=\u001b[39;49m\u001b[43mclk\u001b[49m\u001b[43m)\u001b[49m\n\u001b[1;32m    716\u001b[0m     \u001b[38;5;28;01mreturn\u001b[39;00m Tempo2Pulsar(\n\u001b[1;32m    717\u001b[0m         t2pulsar,\n\u001b[1;32m    718\u001b[0m         sort\u001b[38;5;241m=\u001b[39msort,\n\u001b[0;32m   (...)\u001b[0m\n\u001b[1;32m    722\u001b[0m         tim_name\u001b[38;5;241m=\u001b[39mreltimfile,\n\u001b[1;32m    723\u001b[0m     )\n\u001b[1;32m    724\u001b[0m \u001b[38;5;28;01melif\u001b[39;00m timing_package\u001b[38;5;241m.\u001b[39mlower() \u001b[38;5;241m==\u001b[39m \u001b[38;5;124m\"\u001b[39m\u001b[38;5;124mpint\u001b[39m\u001b[38;5;124m\"\u001b[39m:\n",
      "File \u001b[0;32m/fred/oz022/tkimpson/conda_envs/Argus3/lib/python3.12/site-packages/libstempo/libstempo.pyx:673\u001b[0m, in \u001b[0;36mlibstempo.libstempo.tempopulsar.__cinit__\u001b[0;34m()\u001b[0m\n",
      "File \u001b[0;32m/fred/oz022/tkimpson/conda_envs/Argus3/lib/python3.12/site-packages/libstempo/libstempo.pyx:763\u001b[0m, in \u001b[0;36mlibstempo.libstempo.tempopulsar._readfiles\u001b[0;34m()\u001b[0m\n",
      "File \u001b[0;32m/fred/oz022/tkimpson/conda_envs/Argus3/lib/python3.12/site-packages/libstempo/libstempo.pyx:10\u001b[0m, in \u001b[0;36mlibstempo.libstempo.lambda\u001b[0;34m()\u001b[0m\n",
      "\u001b[0;31mUnicodeDecodeError\u001b[0m: 'utf-8' codec can't decode byte 0xe0 in position 0: invalid continuation byte"
     ]
    }
   ],
   "source": [
    "enterprise_pulsar(parfiles[0], timfiles[0])"
   ]
  },
  {
   "cell_type": "code",
   "execution_count": 14,
   "metadata": {},
   "outputs": [
    {
     "ename": "UnicodeDecodeError",
     "evalue": "'utf-8' codec can't decode byte 0x9d in position 0: invalid start byte",
     "output_type": "error",
     "traceback": [
      "\u001b[0;31m---------------------------------------------------------------------------\u001b[0m",
      "\u001b[0;31mUnicodeDecodeError\u001b[0m                        Traceback (most recent call last)",
      "Cell \u001b[0;32mIn[14], line 3\u001b[0m\n\u001b[1;32m      1\u001b[0m psrs \u001b[38;5;241m=\u001b[39m []\n\u001b[1;32m      2\u001b[0m \u001b[38;5;28;01mfor\u001b[39;00m p, t \u001b[38;5;129;01min\u001b[39;00m \u001b[38;5;28mzip\u001b[39m(parfiles, timfiles):\n\u001b[0;32m----> 3\u001b[0m     psr \u001b[38;5;241m=\u001b[39m \u001b[43menterprise_pulsar\u001b[49m\u001b[43m(\u001b[49m\u001b[43mp\u001b[49m\u001b[43m,\u001b[49m\u001b[43m \u001b[49m\u001b[43mt\u001b[49m\u001b[43m)\u001b[49m\n\u001b[1;32m      4\u001b[0m     psrs\u001b[38;5;241m.\u001b[39mappend(psr)\n",
      "File \u001b[0;32m/fred/oz022/tkimpson/conda_envs/Argus3/lib/python3.12/site-packages/enterprise/pulsar.py:715\u001b[0m, in \u001b[0;36mPulsar\u001b[0;34m(*args, **kwargs)\u001b[0m\n\u001b[1;32m    713\u001b[0m     \u001b[38;5;66;03m# hack to set maxobs\u001b[39;00m\n\u001b[1;32m    714\u001b[0m     maxobs \u001b[38;5;241m=\u001b[39m get_maxobs(reltimfile) \u001b[38;5;241m+\u001b[39m \u001b[38;5;241m100\u001b[39m\n\u001b[0;32m--> 715\u001b[0m     t2pulsar \u001b[38;5;241m=\u001b[39m \u001b[43mt2\u001b[49m\u001b[38;5;241;43m.\u001b[39;49m\u001b[43mtempopulsar\u001b[49m\u001b[43m(\u001b[49m\u001b[43mrelparfile\u001b[49m\u001b[43m,\u001b[49m\u001b[43m \u001b[49m\u001b[43mreltimfile\u001b[49m\u001b[43m,\u001b[49m\u001b[43m \u001b[49m\u001b[43mmaxobs\u001b[49m\u001b[38;5;241;43m=\u001b[39;49m\u001b[43mmaxobs\u001b[49m\u001b[43m,\u001b[49m\u001b[43m \u001b[49m\u001b[43mephem\u001b[49m\u001b[38;5;241;43m=\u001b[39;49m\u001b[43mephem\u001b[49m\u001b[43m,\u001b[49m\u001b[43m \u001b[49m\u001b[43mclk\u001b[49m\u001b[38;5;241;43m=\u001b[39;49m\u001b[43mclk\u001b[49m\u001b[43m)\u001b[49m\n\u001b[1;32m    716\u001b[0m     \u001b[38;5;28;01mreturn\u001b[39;00m Tempo2Pulsar(\n\u001b[1;32m    717\u001b[0m         t2pulsar,\n\u001b[1;32m    718\u001b[0m         sort\u001b[38;5;241m=\u001b[39msort,\n\u001b[0;32m   (...)\u001b[0m\n\u001b[1;32m    722\u001b[0m         tim_name\u001b[38;5;241m=\u001b[39mreltimfile,\n\u001b[1;32m    723\u001b[0m     )\n\u001b[1;32m    724\u001b[0m \u001b[38;5;28;01melif\u001b[39;00m timing_package\u001b[38;5;241m.\u001b[39mlower() \u001b[38;5;241m==\u001b[39m \u001b[38;5;124m\"\u001b[39m\u001b[38;5;124mpint\u001b[39m\u001b[38;5;124m\"\u001b[39m:\n",
      "File \u001b[0;32m/fred/oz022/tkimpson/conda_envs/Argus3/lib/python3.12/site-packages/libstempo/libstempo.pyx:673\u001b[0m, in \u001b[0;36mlibstempo.libstempo.tempopulsar.__cinit__\u001b[0;34m()\u001b[0m\n",
      "File \u001b[0;32m/fred/oz022/tkimpson/conda_envs/Argus3/lib/python3.12/site-packages/libstempo/libstempo.pyx:763\u001b[0m, in \u001b[0;36mlibstempo.libstempo.tempopulsar._readfiles\u001b[0;34m()\u001b[0m\n",
      "File \u001b[0;32m/fred/oz022/tkimpson/conda_envs/Argus3/lib/python3.12/site-packages/libstempo/libstempo.pyx:10\u001b[0m, in \u001b[0;36mlibstempo.libstempo.lambda\u001b[0;34m()\u001b[0m\n",
      "\u001b[0;31mUnicodeDecodeError\u001b[0m: 'utf-8' codec can't decode byte 0x9d in position 0: invalid start byte"
     ]
    }
   ],
   "source": [
    "psrs = []\n",
    "for p, t in zip(parfiles, timfiles):\n",
    "    psr = enterprise_pulsar(p, t)\n",
    "    psrs.append(psr)"
   ]
  },
  {
   "cell_type": "code",
   "execution_count": 8,
   "metadata": {},
   "outputs": [
    {
     "ename": "ValueError",
     "evalue": "Invalid shape in axis 0: 0.",
     "output_type": "error",
     "traceback": [
      "\u001b[0;31m---------------------------------------------------------------------------\u001b[0m",
      "\u001b[0;31mValueError\u001b[0m                                Traceback (most recent call last)",
      "Cell \u001b[0;32mIn[8], line 1\u001b[0m\n\u001b[0;32m----> 1\u001b[0m psr \u001b[38;5;241m=\u001b[39m \u001b[43menterprise_pulsar\u001b[49m\u001b[43m(\u001b[49m\u001b[43mparfiles\u001b[49m\u001b[43m[\u001b[49m\u001b[38;5;241;43m0\u001b[39;49m\u001b[43m]\u001b[49m\u001b[43m,\u001b[49m\u001b[43m \u001b[49m\u001b[43mtimfiles\u001b[49m\u001b[43m[\u001b[49m\u001b[38;5;241;43m0\u001b[39;49m\u001b[43m]\u001b[49m\u001b[43m)\u001b[49m\n",
      "File \u001b[0;32m/fred/oz022/tkimpson/conda_envs/Argus3/lib/python3.12/site-packages/enterprise/pulsar.py:716\u001b[0m, in \u001b[0;36mPulsar\u001b[0;34m(*args, **kwargs)\u001b[0m\n\u001b[1;32m    714\u001b[0m     maxobs \u001b[38;5;241m=\u001b[39m get_maxobs(reltimfile) \u001b[38;5;241m+\u001b[39m \u001b[38;5;241m100\u001b[39m\n\u001b[1;32m    715\u001b[0m     t2pulsar \u001b[38;5;241m=\u001b[39m t2\u001b[38;5;241m.\u001b[39mtempopulsar(relparfile, reltimfile, maxobs\u001b[38;5;241m=\u001b[39mmaxobs, ephem\u001b[38;5;241m=\u001b[39mephem, clk\u001b[38;5;241m=\u001b[39mclk)\n\u001b[0;32m--> 716\u001b[0m     \u001b[38;5;28;01mreturn\u001b[39;00m \u001b[43mTempo2Pulsar\u001b[49m\u001b[43m(\u001b[49m\n\u001b[1;32m    717\u001b[0m \u001b[43m        \u001b[49m\u001b[43mt2pulsar\u001b[49m\u001b[43m,\u001b[49m\n\u001b[1;32m    718\u001b[0m \u001b[43m        \u001b[49m\u001b[43msort\u001b[49m\u001b[38;5;241;43m=\u001b[39;49m\u001b[43msort\u001b[49m\u001b[43m,\u001b[49m\n\u001b[1;32m    719\u001b[0m \u001b[43m        \u001b[49m\u001b[43mdrop_t2pulsar\u001b[49m\u001b[38;5;241;43m=\u001b[39;49m\u001b[43mdrop_t2pulsar\u001b[49m\u001b[43m,\u001b[49m\n\u001b[1;32m    720\u001b[0m \u001b[43m        \u001b[49m\u001b[43mplanets\u001b[49m\u001b[38;5;241;43m=\u001b[39;49m\u001b[43mplanets\u001b[49m\u001b[43m,\u001b[49m\n\u001b[1;32m    721\u001b[0m \u001b[43m        \u001b[49m\u001b[43mpar_name\u001b[49m\u001b[38;5;241;43m=\u001b[39;49m\u001b[43mrelparfile\u001b[49m\u001b[43m,\u001b[49m\n\u001b[1;32m    722\u001b[0m \u001b[43m        \u001b[49m\u001b[43mtim_name\u001b[49m\u001b[38;5;241;43m=\u001b[39;49m\u001b[43mreltimfile\u001b[49m\u001b[43m,\u001b[49m\n\u001b[1;32m    723\u001b[0m \u001b[43m    \u001b[49m\u001b[43m)\u001b[49m\n\u001b[1;32m    724\u001b[0m \u001b[38;5;28;01melif\u001b[39;00m timing_package\u001b[38;5;241m.\u001b[39mlower() \u001b[38;5;241m==\u001b[39m \u001b[38;5;124m\"\u001b[39m\u001b[38;5;124mpint\u001b[39m\u001b[38;5;124m\"\u001b[39m:\n\u001b[1;32m    725\u001b[0m     \u001b[38;5;28;01mif\u001b[39;00m pint \u001b[38;5;129;01mis\u001b[39;00m \u001b[38;5;28;01mNone\u001b[39;00m:  \u001b[38;5;66;03m# pragma: no cover\u001b[39;00m\n",
      "File \u001b[0;32m/fred/oz022/tkimpson/conda_envs/Argus3/lib/python3.12/site-packages/enterprise/pulsar.py:495\u001b[0m, in \u001b[0;36mTempo2Pulsar.__init__\u001b[0;34m(self, t2pulsar, sort, drop_t2pulsar, planets, par_name, tim_name)\u001b[0m\n\u001b[1;32m    492\u001b[0m \u001b[38;5;28mself\u001b[39m\u001b[38;5;241m.\u001b[39mplanets \u001b[38;5;241m=\u001b[39m planets\n\u001b[1;32m    493\u001b[0m \u001b[38;5;28mself\u001b[39m\u001b[38;5;241m.\u001b[39mname \u001b[38;5;241m=\u001b[39m \u001b[38;5;28mstr\u001b[39m(t2pulsar\u001b[38;5;241m.\u001b[39mname)\n\u001b[0;32m--> 495\u001b[0m \u001b[38;5;28mself\u001b[39m\u001b[38;5;241m.\u001b[39m_toas \u001b[38;5;241m=\u001b[39m np\u001b[38;5;241m.\u001b[39mdouble(\u001b[43mt2pulsar\u001b[49m\u001b[38;5;241;43m.\u001b[39;49m\u001b[43mtoas\u001b[49m\u001b[43m(\u001b[49m\u001b[43m)\u001b[49m) \u001b[38;5;241m*\u001b[39m \u001b[38;5;241m86400\u001b[39m\n\u001b[1;32m    496\u001b[0m \u001b[38;5;66;03m# saving also stoas (e.g., for DMX comparisons)\u001b[39;00m\n\u001b[1;32m    497\u001b[0m \u001b[38;5;28mself\u001b[39m\u001b[38;5;241m.\u001b[39m_stoas \u001b[38;5;241m=\u001b[39m np\u001b[38;5;241m.\u001b[39mdouble(t2pulsar\u001b[38;5;241m.\u001b[39mstoas) \u001b[38;5;241m*\u001b[39m \u001b[38;5;241m86400\u001b[39m\n",
      "File \u001b[0;32m/fred/oz022/tkimpson/conda_envs/Argus3/lib/python3.12/site-packages/libstempo/libstempo.pyx:1298\u001b[0m, in \u001b[0;36mlibstempo.libstempo.tempopulsar.toas\u001b[0;34m()\u001b[0m\n",
      "File \u001b[0;32m<stringsource>:275\u001b[0m, in \u001b[0;36mView.MemoryView.array_cwrapper\u001b[0;34m()\u001b[0m\n",
      "File \u001b[0;32m<stringsource>:161\u001b[0m, in \u001b[0;36mView.MemoryView.array.__cinit__\u001b[0;34m()\u001b[0m\n",
      "\u001b[0;31mValueError\u001b[0m: Invalid shape in axis 0: 0."
     ]
    }
   ],
   "source": [
    "psr = enterprise_pulsar(parfiles[0], timfiles[0])"
   ]
  },
  {
   "cell_type": "code",
   "execution_count": 7,
   "metadata": {},
   "outputs": [
    {
     "data": {
      "text/plain": [
       "'.'"
      ]
     },
     "execution_count": 7,
     "metadata": {},
     "output_type": "execute_result"
    }
   ],
   "source": [
    "p[0]"
   ]
  },
  {
   "cell_type": "code",
   "execution_count": 5,
   "metadata": {},
   "outputs": [
    {
     "ename": "",
     "evalue": "",
     "output_type": "error",
     "traceback": [
      "\u001b[1;31mThe Kernel crashed while executing code in the current cell or a previous cell. \n",
      "\u001b[1;31mPlease review the code in the cell(s) to identify a possible cause of the failure. \n",
      "\u001b[1;31mClick <a href='https://aka.ms/vscodeJupyterKernelCrash'>here</a> for more info. \n",
      "\u001b[1;31mView Jupyter <a href='command:jupyter.viewOutput'>log</a> for further details."
     ]
    }
   ],
   "source": [
    "psrs = []\n",
    "for p, t in zip(parfiles, timfiles):\n",
    "    psr = enterprise_pulsar(p, t,timing_package=\"tempo2\", ephem=\"DE440\", bipm_version=\"BIPM2019\", clk=\"TT(BIPM2019)\")\n",
    "    psrs.append(psr)"
   ]
  },
  {
   "cell_type": "markdown",
   "metadata": {},
   "source": []
  },
  {
   "cell_type": "markdown",
   "metadata": {},
   "source": []
  }
 ],
 "metadata": {
  "kernelspec": {
   "display_name": "Argus3",
   "language": "python",
   "name": "python3"
  },
  "language_info": {
   "codemirror_mode": {
    "name": "ipython",
    "version": 3
   },
   "file_extension": ".py",
   "mimetype": "text/x-python",
   "name": "python",
   "nbconvert_exporter": "python",
   "pygments_lexer": "ipython3",
   "version": "3.12.2"
  }
 },
 "nbformat": 4,
 "nbformat_minor": 2
}
