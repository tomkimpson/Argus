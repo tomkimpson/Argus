{
 "cells": [
  {
   "cell_type": "code",
   "execution_count": 2,
   "metadata": {},
   "outputs": [],
   "source": [
    "%load_ext autoreload\n",
    "%autoreload 2"
   ]
  },
  {
   "cell_type": "code",
   "execution_count": 3,
   "metadata": {},
   "outputs": [],
   "source": [
    "import sys\n",
    "sys.path.append('../src')"
   ]
  },
  {
   "cell_type": "code",
   "execution_count": 4,
   "metadata": {},
   "outputs": [],
   "source": [
    "from data_loader import LoadWidebandPulsarData"
   ]
  },
  {
   "cell_type": "code",
   "execution_count": 6,
   "metadata": {},
   "outputs": [
    {
     "name": "stderr",
     "output_type": "stream",
     "text": [
      "/fred/oz022/tkimpson/conda_envs/Argus3/lib/python3.12/site-packages/pint/models/model_builder.py:225: UserWarning: Unrecognized parfile line 'EPHVER 5'\n",
      "  warnings.warn(f\"Unrecognized parfile line '{p_line}'\", UserWarning)\n",
      "\u001b[32m2025-01-29 12:41:23.804\u001b[0m | \u001b[33m\u001b[1mWARNING \u001b[0m | \u001b[36mpint.models.model_builder\u001b[0m:\u001b[36m__call__\u001b[0m:\u001b[36m229\u001b[0m - \u001b[33m\u001b[1mUNITS is not specified. Assuming TDB...\u001b[0m\n",
      "\u001b[32m2025-01-29 12:41:23.854\u001b[0m | \u001b[34m\u001b[1mDEBUG   \u001b[0m | \u001b[36mpint.toa\u001b[0m:\u001b[36m__init__\u001b[0m:\u001b[36m1377\u001b[0m - \u001b[34m\u001b[1mNo pulse number flags found in the TOAs\u001b[0m\n",
      "\u001b[32m2025-01-29 12:41:23.855\u001b[0m | \u001b[34m\u001b[1mDEBUG   \u001b[0m | \u001b[36mpint.toa\u001b[0m:\u001b[36mapply_clock_corrections\u001b[0m:\u001b[36m2224\u001b[0m - \u001b[34m\u001b[1mApplying clock corrections (include_bipm = False)\u001b[0m\n",
      "\u001b[32m2025-01-29 12:41:23.864\u001b[0m | \u001b[1mINFO    \u001b[0m | \u001b[36mpint.observatory.topo_obs\u001b[0m:\u001b[36mclock_corrections\u001b[0m:\u001b[36m354\u001b[0m - \u001b[1mObservatory axis requires no clock corrections.\u001b[0m\n",
      "\u001b[32m2025-01-29 12:41:23.929\u001b[0m | \u001b[34m\u001b[1mDEBUG   \u001b[0m | \u001b[36mpint.toa\u001b[0m:\u001b[36mcompute_TDBs\u001b[0m:\u001b[36m2270\u001b[0m - \u001b[34m\u001b[1mComputing TDB columns.\u001b[0m\n",
      "\u001b[32m2025-01-29 12:41:23.930\u001b[0m | \u001b[34m\u001b[1mDEBUG   \u001b[0m | \u001b[36mpint.toa\u001b[0m:\u001b[36mcompute_TDBs\u001b[0m:\u001b[36m2291\u001b[0m - \u001b[34m\u001b[1mUsing EPHEM = DE440 for TDB calculation.\u001b[0m\n",
      "\u001b[32m2025-01-29 12:41:23.952\u001b[0m | \u001b[34m\u001b[1mDEBUG   \u001b[0m | \u001b[36mpint.toa\u001b[0m:\u001b[36mget_TOAs\u001b[0m:\u001b[36m310\u001b[0m - \u001b[34m\u001b[1mPlanet PosVels will be calculated.\u001b[0m\n",
      "\u001b[32m2025-01-29 12:41:23.952\u001b[0m | \u001b[34m\u001b[1mDEBUG   \u001b[0m | \u001b[36mpint.toa\u001b[0m:\u001b[36mcompute_posvels\u001b[0m:\u001b[36m2366\u001b[0m - \u001b[34m\u001b[1mComputing PosVels of observatories, Earth and planets, using DE440\u001b[0m\n",
      "\u001b[32m2025-01-29 12:41:23.991\u001b[0m | \u001b[1mINFO    \u001b[0m | \u001b[36mpint.solar_system_ephemerides\u001b[0m:\u001b[36mload_kernel\u001b[0m:\u001b[36m194\u001b[0m - \u001b[1mSet solar system ephemeris to de440 through astropy\u001b[0m\n",
      "\u001b[32m2025-01-29 12:41:24.642\u001b[0m | \u001b[34m\u001b[1mDEBUG   \u001b[0m | \u001b[36mpint.toa\u001b[0m:\u001b[36mcompute_posvels\u001b[0m:\u001b[36m2424\u001b[0m - \u001b[34m\u001b[1mSSB obs pos [-1.16725313e+10  1.34138434e+11  5.81425475e+10] m\u001b[0m\n",
      "\u001b[32m2025-01-29 12:41:24.643\u001b[0m | \u001b[1mINFO    \u001b[0m | \u001b[36mpint.solar_system_ephemerides\u001b[0m:\u001b[36mload_kernel\u001b[0m:\u001b[36m194\u001b[0m - \u001b[1mSet solar system ephemeris to de440 through astropy\u001b[0m\n",
      "\u001b[32m2025-01-29 12:41:24.646\u001b[0m | \u001b[1mINFO    \u001b[0m | \u001b[36mpint.solar_system_ephemerides\u001b[0m:\u001b[36mload_kernel\u001b[0m:\u001b[36m194\u001b[0m - \u001b[1mSet solar system ephemeris to de440 through astropy\u001b[0m\n",
      "\u001b[32m2025-01-29 12:41:24.647\u001b[0m | \u001b[1mINFO    \u001b[0m | \u001b[36mpint.solar_system_ephemerides\u001b[0m:\u001b[36mload_kernel\u001b[0m:\u001b[36m194\u001b[0m - \u001b[1mSet solar system ephemeris to de440 through astropy\u001b[0m\n",
      "\u001b[32m2025-01-29 12:41:24.649\u001b[0m | \u001b[1mINFO    \u001b[0m | \u001b[36mpint.solar_system_ephemerides\u001b[0m:\u001b[36mload_kernel\u001b[0m:\u001b[36m194\u001b[0m - \u001b[1mSet solar system ephemeris to de440 through astropy\u001b[0m\n",
      "\u001b[32m2025-01-29 12:41:24.651\u001b[0m | \u001b[1mINFO    \u001b[0m | \u001b[36mpint.solar_system_ephemerides\u001b[0m:\u001b[36mload_kernel\u001b[0m:\u001b[36m194\u001b[0m - \u001b[1mSet solar system ephemeris to de440 through astropy\u001b[0m\n",
      "\u001b[32m2025-01-29 12:41:24.653\u001b[0m | \u001b[1mINFO    \u001b[0m | \u001b[36mpint.solar_system_ephemerides\u001b[0m:\u001b[36mload_kernel\u001b[0m:\u001b[36m194\u001b[0m - \u001b[1mSet solar system ephemeris to de440 through astropy\u001b[0m\n",
      "\u001b[32m2025-01-29 12:41:24.654\u001b[0m | \u001b[1mINFO    \u001b[0m | \u001b[36mpint.solar_system_ephemerides\u001b[0m:\u001b[36mload_kernel\u001b[0m:\u001b[36m194\u001b[0m - \u001b[1mSet solar system ephemeris to de440 through astropy\u001b[0m\n",
      "\u001b[32m2025-01-29 12:41:24.656\u001b[0m | \u001b[34m\u001b[1mDEBUG   \u001b[0m | \u001b[36mpint.toa\u001b[0m:\u001b[36mcompute_posvels\u001b[0m:\u001b[36m2438\u001b[0m - \u001b[34m\u001b[1mAdding columns ssb_obs_pos ssb_obs_vel obs_sun_pos obs_jupiter_pos obs_saturn_pos obs_venus_pos obs_uranus_pos obs_neptune_pos obs_earth_pos\u001b[0m\n",
      "\u001b[32m2025-01-29 12:41:24.658\u001b[0m | \u001b[1mINFO    \u001b[0m | \u001b[36mpint.models.model_builder\u001b[0m:\u001b[36mget_model_and_toas\u001b[0m:\u001b[36m968\u001b[0m - \u001b[1mCreating a TZR TOA (AbsPhase) using the given TOAs object.\u001b[0m\n",
      "\u001b[32m2025-01-29 12:41:24.671\u001b[0m | \u001b[1mINFO    \u001b[0m | \u001b[36mpint.models.absolute_phase\u001b[0m:\u001b[36mvalidate\u001b[0m:\u001b[36m74\u001b[0m - \u001b[1mThe TZRSITE is set at the solar system barycenter.\u001b[0m\n",
      "\u001b[32m2025-01-29 12:41:24.672\u001b[0m | \u001b[1mINFO    \u001b[0m | \u001b[36mpint.models.absolute_phase\u001b[0m:\u001b[36mvalidate\u001b[0m:\u001b[36m78\u001b[0m - \u001b[1mTZRFRQ was 0.0 or None. Setting to infinite frequency.\u001b[0m\n",
      "\u001b[32m2025-01-29 12:41:24.684\u001b[0m | \u001b[34m\u001b[1mDEBUG   \u001b[0m | \u001b[36mpint.models.absolute_phase\u001b[0m:\u001b[36mget_TZR_toa\u001b[0m:\u001b[36m101\u001b[0m - \u001b[34m\u001b[1mCreating and dealing with the single TZR_toa for absolute phase\u001b[0m\n",
      "\u001b[32m2025-01-29 12:41:24.687\u001b[0m | \u001b[34m\u001b[1mDEBUG   \u001b[0m | \u001b[36mpint.toa\u001b[0m:\u001b[36m__init__\u001b[0m:\u001b[36m1377\u001b[0m - \u001b[34m\u001b[1mNo pulse number flags found in the TOAs\u001b[0m\n",
      "\u001b[32m2025-01-29 12:41:24.688\u001b[0m | \u001b[34m\u001b[1mDEBUG   \u001b[0m | \u001b[36mpint.toa\u001b[0m:\u001b[36mapply_clock_corrections\u001b[0m:\u001b[36m2224\u001b[0m - \u001b[34m\u001b[1mApplying clock corrections (include_bipm = False)\u001b[0m\n",
      "\u001b[32m2025-01-29 12:41:24.689\u001b[0m | \u001b[34m\u001b[1mDEBUG   \u001b[0m | \u001b[36mpint.toa\u001b[0m:\u001b[36mcompute_TDBs\u001b[0m:\u001b[36m2270\u001b[0m - \u001b[34m\u001b[1mComputing TDB columns.\u001b[0m\n",
      "\u001b[32m2025-01-29 12:41:24.690\u001b[0m | \u001b[34m\u001b[1mDEBUG   \u001b[0m | \u001b[36mpint.toa\u001b[0m:\u001b[36mcompute_TDBs\u001b[0m:\u001b[36m2291\u001b[0m - \u001b[34m\u001b[1mUsing EPHEM = DE440 for TDB calculation.\u001b[0m\n",
      "\u001b[32m2025-01-29 12:41:24.692\u001b[0m | \u001b[34m\u001b[1mDEBUG   \u001b[0m | \u001b[36mpint.toa\u001b[0m:\u001b[36mcompute_posvels\u001b[0m:\u001b[36m2366\u001b[0m - \u001b[34m\u001b[1mComputing PosVels of observatories, Earth and planets, using DE440\u001b[0m\n",
      "\u001b[32m2025-01-29 12:41:24.693\u001b[0m | \u001b[34m\u001b[1mDEBUG   \u001b[0m | \u001b[36mpint.toa\u001b[0m:\u001b[36mcompute_posvels\u001b[0m:\u001b[36m2424\u001b[0m - \u001b[34m\u001b[1mSSB obs pos [0. 0. 0.] m\u001b[0m\n",
      "\u001b[32m2025-01-29 12:41:24.694\u001b[0m | \u001b[1mINFO    \u001b[0m | \u001b[36mpint.solar_system_ephemerides\u001b[0m:\u001b[36mload_kernel\u001b[0m:\u001b[36m194\u001b[0m - \u001b[1mSet solar system ephemeris to de440 through astropy\u001b[0m\n",
      "\u001b[32m2025-01-29 12:41:24.696\u001b[0m | \u001b[1mINFO    \u001b[0m | \u001b[36mpint.solar_system_ephemerides\u001b[0m:\u001b[36mload_kernel\u001b[0m:\u001b[36m194\u001b[0m - \u001b[1mSet solar system ephemeris to de440 through astropy\u001b[0m\n",
      "\u001b[32m2025-01-29 12:41:24.697\u001b[0m | \u001b[1mINFO    \u001b[0m | \u001b[36mpint.solar_system_ephemerides\u001b[0m:\u001b[36mload_kernel\u001b[0m:\u001b[36m194\u001b[0m - \u001b[1mSet solar system ephemeris to de440 through astropy\u001b[0m\n",
      "\u001b[32m2025-01-29 12:41:24.698\u001b[0m | \u001b[1mINFO    \u001b[0m | \u001b[36mpint.solar_system_ephemerides\u001b[0m:\u001b[36mload_kernel\u001b[0m:\u001b[36m194\u001b[0m - \u001b[1mSet solar system ephemeris to de440 through astropy\u001b[0m\n",
      "\u001b[32m2025-01-29 12:41:24.699\u001b[0m | \u001b[1mINFO    \u001b[0m | \u001b[36mpint.solar_system_ephemerides\u001b[0m:\u001b[36mload_kernel\u001b[0m:\u001b[36m194\u001b[0m - \u001b[1mSet solar system ephemeris to de440 through astropy\u001b[0m\n",
      "\u001b[32m2025-01-29 12:41:24.700\u001b[0m | \u001b[1mINFO    \u001b[0m | \u001b[36mpint.solar_system_ephemerides\u001b[0m:\u001b[36mload_kernel\u001b[0m:\u001b[36m194\u001b[0m - \u001b[1mSet solar system ephemeris to de440 through astropy\u001b[0m\n",
      "\u001b[32m2025-01-29 12:41:24.701\u001b[0m | \u001b[1mINFO    \u001b[0m | \u001b[36mpint.solar_system_ephemerides\u001b[0m:\u001b[36mload_kernel\u001b[0m:\u001b[36m194\u001b[0m - \u001b[1mSet solar system ephemeris to de440 through astropy\u001b[0m\n",
      "\u001b[32m2025-01-29 12:41:24.703\u001b[0m | \u001b[34m\u001b[1mDEBUG   \u001b[0m | \u001b[36mpint.toa\u001b[0m:\u001b[36mcompute_posvels\u001b[0m:\u001b[36m2438\u001b[0m - \u001b[34m\u001b[1mAdding columns ssb_obs_pos ssb_obs_vel obs_sun_pos obs_jupiter_pos obs_saturn_pos obs_venus_pos obs_uranus_pos obs_neptune_pos obs_earth_pos\u001b[0m\n",
      "\u001b[32m2025-01-29 12:41:24.704\u001b[0m | \u001b[34m\u001b[1mDEBUG   \u001b[0m | \u001b[36mpint.models.absolute_phase\u001b[0m:\u001b[36mget_TZR_toa\u001b[0m:\u001b[36m122\u001b[0m - \u001b[34m\u001b[1mDone with TZR_toa\u001b[0m\n"
     ]
    }
   ],
   "source": [
    "\n",
    "psr_name = 'J0030+0451'\n",
    "\n",
    "par = f'../data/IPTA_MockDataChallenge/IPTA_Challenge1_open/Challenge_Data/Dataset1/{psr_name}.par'\n",
    "tim = f'../data/IPTA_MockDataChallenge/IPTA_Challenge1_open/Challenge_Data/Dataset1/{psr_name}.tim'\n",
    "psr = LoadWidebandPulsarData.read_par_tim(par, tim, timing_package=\"pint\", ephem=\"DE440\", bipm_version=\"BIPM2019\", clk=\"TT(BIPM2019)\")\n"
   ]
  },
  {
   "cell_type": "code",
   "execution_count": null,
   "metadata": {},
   "outputs": [],
   "source": []
  },
  {
   "cell_type": "code",
   "execution_count": 9,
   "metadata": {},
   "outputs": [],
   "source": [
    "import pandas as pd \n",
    "# Create a DataFrame with toas and residuals\n",
    "df = pd.DataFrame({\n",
    "    'toas': psr.toas,\n",
    "    'residuals': psr.residuals\n",
    "})"
   ]
  },
  {
   "cell_type": "code",
   "execution_count": null,
   "metadata": {},
   "outputs": [],
   "source": []
  },
  {
   "cell_type": "markdown",
   "metadata": {},
   "source": []
  }
 ],
 "metadata": {
  "kernelspec": {
   "display_name": "Argus3",
   "language": "python",
   "name": "python3"
  },
  "language_info": {
   "codemirror_mode": {
    "name": "ipython",
    "version": 3
   },
   "file_extension": ".py",
   "mimetype": "text/x-python",
   "name": "python",
   "nbconvert_exporter": "python",
   "pygments_lexer": "ipython3",
   "version": "3.12.2"
  }
 },
 "nbformat": 4,
 "nbformat_minor": 2
}
