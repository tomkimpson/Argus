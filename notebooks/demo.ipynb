{
 "cells": [
  {
   "cell_type": "markdown",
   "metadata": {},
   "source": [
    "# Demo of PTAStateSpaceAnalysis\n",
    "\n",
    "This notebook demonstrates how to use the methods in this repository.\n",
    "\n",
    "\n",
    "The notebook is organised as follows:\n",
    "\n",
    "\n"
   ]
  },
  {
   "cell_type": "markdown",
   "metadata": {},
   "source": [
    "## 0. Setup"
   ]
  },
  {
   "cell_type": "code",
   "execution_count": 1,
   "metadata": {},
   "outputs": [],
   "source": [
    "%load_ext autoreload\n",
    "%autoreload 2\n",
    "\n",
    "import sys\n",
    "sys.path.append(\"../src\") \n"
   ]
  },
  {
   "cell_type": "code",
   "execution_count": 2,
   "metadata": {},
   "outputs": [],
   "source": [
    "#some useful quantities\n",
    "year = 3.154e7 # in seconds\n",
    "week = 604800  # in seconds"
   ]
  },
  {
   "cell_type": "markdown",
   "metadata": {},
   "source": [
    "## 1. Making fake data \n",
    "\n",
    "\n",
    "\n",
    "### 1.1 Creating a GW signal\n",
    "To start, lets generate a stochastic GW background by sampling $M$ BHs, each with 7 parameters."
   ]
  },
  {
   "cell_type": "code",
   "execution_count": 3,
   "metadata": {},
   "outputs": [
    {
     "name": "stderr",
     "output_type": "stream",
     "text": [
      "INFO:root:Generating a GW signal with M = 10000\n"
     ]
    }
   ],
   "source": [
    "from make_synthetic_data import BH_population \n",
    "\n",
    "\n",
    "#Define the parameters for the power law over Ω\n",
    "α = -3.0 #Exponent of the power law for the PDF of Ω\n",
    "Ω_min = 1/(10*year) #lower bound on the Ω power law distribution. Set by Tobs\n",
    "Ω_max = 1/(week)  #upper bound on the Ω power law distribution. Set by dt\n",
    "M = int(1e4)\n",
    "\n",
    "universe_i_sgwb = BH_population(α,Ω_min,Ω_max,M) #this is a random realisation of the universe\n"
   ]
  },
  {
   "cell_type": "markdown",
   "metadata": {},
   "source": [
    "For $M=1$, you can also specify the 7 parameters explicitly. In this case $\\alpha$, $\\Omega_{\\rm min}$, $\\Omega_{\\rm max}$ are ignored. "
   ]
  },
  {
   "cell_type": "code",
   "execution_count": 4,
   "metadata": {},
   "outputs": [
    {
     "name": "stderr",
     "output_type": "stream",
     "text": [
      "INFO:root:Generating a GW signal with M = 1\n"
     ]
    }
   ],
   "source": [
    "parameters_dictionary = {\n",
    "  \"Ω\": 5e-7,\n",
    "  \"h\": 1e-12,\n",
    "  \"φ0\": 0.20,\n",
    "  \"ψ\": 2.50,\n",
    "  \"ι\": 1.0,\n",
    "  \"δ\": 1.0,\n",
    "  \"α\": 1.0\n",
    "}\n",
    "\n",
    "universe_single_source = BH_population(M=1,parameters_dictionary=parameters_dictionary) #this is a random realisation of the universe\n"
   ]
  },
  {
   "cell_type": "markdown",
   "metadata": {},
   "source": [
    "### 1.2 Creating a PTA\n",
    "\n",
    "Now we specify the pulsars that constitute our PTA. For this demo we use the pulsars specified in `data/NANOGrav_pulsars.csv`"
   ]
  },
  {
   "cell_type": "code",
   "execution_count": null,
   "metadata": {},
   "outputs": [],
   "source": [
    "from make_synthetic_data import Pulsars\n",
    "PTA = Pulsars(pulsar_file='../data/NANOGrav_pulsars.csv',\n",
    "              γp=1e-13,\n",
    "              dt_weeks=1,\n",
    "              Tobs_years=10)"
   ]
  },
  {
   "cell_type": "markdown",
   "metadata": {},
   "source": [
    "### 1.3 $a(t)$ signal \n",
    "\n",
    "Given our GW signal and our PTA, we can calculate the $a^{(n)}(t)$ redshift. \n"
   ]
  },
  {
   "cell_type": "code",
   "execution_count": null,
   "metadata": {},
   "outputs": [
    {
     "name": "stderr",
     "output_type": "stream",
     "text": [
      "INFO:root:Generating a GW signal with M = 10000\n"
     ]
    },
    {
     "name": "stdout",
     "output_type": "stream",
     "text": [
      "(3, 10000) (3, 10000)\n",
      "eplus shape is (3, 3, 10000)\n",
      "ecross shape is (3, 3, 10000)\n",
      "(47, 3)\n"
     ]
    }
   ],
   "source": [
    "from gravitational_waves import GW\n",
    "\n",
    "SGWB = GW(universe_i_sgwb,PTA)\n",
    "a = SGWB.compute_a()"
   ]
  },
  {
   "cell_type": "code",
   "execution_count": 8,
   "metadata": {},
   "outputs": [
    {
     "data": {
      "text/plain": [
       "Text(0.5, 0, '$t$ [years]')"
      ]
     },
     "execution_count": 8,
     "metadata": {},
     "output_type": "execute_result"
    },
    {
     "data": {
      "image/png": "[encoded data removed]",
      "text/plain": [
       "<Figure size 640x480 with 1 Axes>"
      ]
     },
     "metadata": {},
     "output_type": "display_data"
    }
   ],
   "source": [
    "import matplotlib.pyplot as plt \n",
    "t = PTA.t / year \n",
    "\n",
    "psr_index = 1\n",
    "plt.plot(t,a[:,0]) \n",
    "plt.ylabel(rf'$a^{{({psr_index})}}$')\n",
    "plt.xlabel(r'$t$ [years]')"
   ]
  },
  {
   "cell_type": "markdown",
   "metadata": {},
   "source": [
    "We can do the same thing for a single source:"
   ]
  },
  {
   "cell_type": "code",
   "execution_count": 9,
   "metadata": {},
   "outputs": [
    {
     "ename": "TypeError",
     "evalue": "object of type 'float' has no len()",
     "output_type": "error",
     "traceback": [
      "\u001b[0;31m---------------------------------------------------------------------------\u001b[0m",
      "\u001b[0;31mTypeError\u001b[0m                                 Traceback (most recent call last)",
      "Cell \u001b[0;32mIn[9], line 2\u001b[0m\n\u001b[1;32m      1\u001b[0m GW_single_source\u001b[38;5;241m=\u001b[39m GW(universe_single_source,PTA)\n\u001b[0;32m----> 2\u001b[0m a \u001b[38;5;241m=\u001b[39m \u001b[43mGW_single_source\u001b[49m\u001b[38;5;241;43m.\u001b[39;49m\u001b[43mcompute_a\u001b[49m\u001b[43m(\u001b[49m\u001b[43m)\u001b[49m\n\u001b[1;32m      4\u001b[0m psr_index \u001b[38;5;241m=\u001b[39m \u001b[38;5;241m1\u001b[39m\n\u001b[1;32m      5\u001b[0m plt\u001b[38;5;241m.\u001b[39mplot(t,a[:,\u001b[38;5;241m0\u001b[39m]) \n",
      "File \u001b[0;32m~/projects/PTAStateSpaceAnalysis/notebooks/../src/gravitational_waves.py:139\u001b[0m, in \u001b[0;36mGW.compute_a\u001b[0;34m(self)\u001b[0m\n\u001b[1;32m    137\u001b[0m \u001b[38;5;28;01mdef\u001b[39;00m \u001b[38;5;21mcompute_a\u001b[39m(\u001b[38;5;28mself\u001b[39m):\n\u001b[0;32m--> 139\u001b[0m     m,n                 \u001b[38;5;241m=\u001b[39m \u001b[43m_principal_axes\u001b[49m\u001b[43m(\u001b[49m\u001b[43mnp\u001b[49m\u001b[38;5;241;43m.\u001b[39;49m\u001b[43mpi\u001b[49m\u001b[38;5;241;43m/\u001b[39;49m\u001b[38;5;241;43m2.0\u001b[39;49m\u001b[43m \u001b[49m\u001b[38;5;241;43m-\u001b[39;49m\u001b[43m \u001b[49m\u001b[38;5;28;43mself\u001b[39;49m\u001b[38;5;241;43m.\u001b[39;49m\u001b[43mδ\u001b[49m\u001b[43m,\u001b[49m\u001b[38;5;28;43mself\u001b[39;49m\u001b[38;5;241;43m.\u001b[39;49m\u001b[43mα\u001b[49m\u001b[43m,\u001b[49m\u001b[38;5;28;43mself\u001b[39;49m\u001b[38;5;241;43m.\u001b[39;49m\u001b[43mψ\u001b[49m\u001b[43m)\u001b[49m \u001b[38;5;66;03m# Get the principal axes. declination converted to a latitude 0-π. Shape (K,3)   \u001b[39;00m\n\u001b[1;32m    140\u001b[0m     gw_direction        \u001b[38;5;241m=\u001b[39m np\u001b[38;5;241m.\u001b[39mcross(m,n)\u001b[38;5;241m.\u001b[39mT                                     \u001b[38;5;66;03m# The direction of each source. Shape (3,M). Transpose to enable dot product with q vector\u001b[39;00m\n\u001b[1;32m    141\u001b[0m     e_plus,e_cross      \u001b[38;5;241m=\u001b[39m _polarisation_tensors(m\u001b[38;5;241m.\u001b[39mT,n\u001b[38;5;241m.\u001b[39mT)                     \u001b[38;5;66;03m# The polarization tensors. Shape (3,3,K)\u001b[39;00m\n",
      "File \u001b[0;32m~/projects/PTAStateSpaceAnalysis/notebooks/../src/gravitational_waves.py:41\u001b[0m, in \u001b[0;36m_principal_axes\u001b[0;34m(θ, φ, ψ)\u001b[0m\n\u001b[1;32m     28\u001b[0m \u001b[38;5;28;01mdef\u001b[39;00m \u001b[38;5;21m_principal_axes\u001b[39m(θ,φ,ψ):\n\u001b[1;32m     29\u001b[0m \u001b[38;5;250m    \u001b[39m\u001b[38;5;124;03m\"\"\"Calculate the two principal axes of the GW propagation.\u001b[39;00m\n\u001b[1;32m     30\u001b[0m \n\u001b[1;32m     31\u001b[0m \u001b[38;5;124;03m    Args:\u001b[39;00m\n\u001b[0;32m   (...)\u001b[0m\n\u001b[1;32m     39\u001b[0m \n\u001b[1;32m     40\u001b[0m \u001b[38;5;124;03m    \"\"\"\u001b[39;00m\n\u001b[0;32m---> 41\u001b[0m     m \u001b[38;5;241m=\u001b[39m np\u001b[38;5;241m.\u001b[39mzeros((\u001b[38;5;28;43mlen\u001b[39;49m\u001b[43m(\u001b[49m\u001b[43mθ\u001b[49m\u001b[43m)\u001b[49m,\u001b[38;5;241m3\u001b[39m)) \u001b[38;5;66;03m#size M GW sources x 3 component directions    \u001b[39;00m\n\u001b[1;32m     42\u001b[0m     m[:,\u001b[38;5;241m0\u001b[39m] \u001b[38;5;241m=\u001b[39m sin(φ)\u001b[38;5;241m*\u001b[39mcos(ψ) \u001b[38;5;241m-\u001b[39m sin(ψ)\u001b[38;5;241m*\u001b[39mcos(φ)\u001b[38;5;241m*\u001b[39mcos(θ)\n\u001b[1;32m     43\u001b[0m     m[:,\u001b[38;5;241m1\u001b[39m] \u001b[38;5;241m=\u001b[39m \u001b[38;5;241m-\u001b[39m(cos(φ)\u001b[38;5;241m*\u001b[39mcos(ψ) \u001b[38;5;241m+\u001b[39m sin(ψ)\u001b[38;5;241m*\u001b[39msin(φ)\u001b[38;5;241m*\u001b[39mcos(θ))\n",
      "\u001b[0;31mTypeError\u001b[0m: object of type 'float' has no len()"
     ]
    }
   ],
   "source": [
    "GW_single_source= GW(universe_single_source,PTA)\n",
    "a = GW_single_source.compute_a()\n",
    "\n",
    "psr_index = 1\n",
    "plt.plot(t,a[:,0]) \n",
    "plt.ylabel(rf'$a^{{({psr_index})}}$')\n",
    "plt.xlabel(r'$t$ [years]')"
   ]
  },
  {
   "cell_type": "markdown",
   "metadata": {},
   "source": []
  }
 ],
 "metadata": {
  "kernelspec": {
   "display_name": "PTAStateSpaceAnalysis",
   "language": "python",
   "name": "python3"
  },
  "language_info": {
   "codemirror_mode": {
    "name": "ipython",
    "version": 3
   },
   "file_extension": ".py",
   "mimetype": "text/x-python",
   "name": "python",
   "nbconvert_exporter": "python",
   "pygments_lexer": "ipython3",
   "version": "3.12.2"
  }
 },
 "nbformat": 4,
 "nbformat_minor": 2
}
