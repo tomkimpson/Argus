{
 "cells": [
  {
   "cell_type": "markdown",
   "metadata": {},
   "source": [
    "# Demo of PTAStateSpaceAnalysis\n",
    "\n",
    "This notebook demonstrates how to use the methods in this repository.\n",
    "\n",
    "\n",
    "The notebook is organised as follows:\n",
    "\n",
    "\n"
   ]
  },
  {
   "cell_type": "markdown",
   "metadata": {},
   "source": [
    "## 0. Setup"
   ]
  },
  {
   "cell_type": "code",
   "execution_count": 1,
   "metadata": {},
   "outputs": [],
   "source": [
    "%load_ext autoreload\n",
    "%autoreload 2\n",
    "\n",
    "import sys\n",
    "sys.path.append(\"../src\") \n"
   ]
  },
  {
   "cell_type": "code",
   "execution_count": 2,
   "metadata": {},
   "outputs": [],
   "source": [
    "#some useful quantities\n",
    "year = 3.154e7 # in seconds\n",
    "week = 604800  # in seconds"
   ]
  },
  {
   "cell_type": "markdown",
   "metadata": {},
   "source": [
    "## 1. Making fake data \n",
    "\n",
    "\n",
    "\n",
    "### 1.1 Creating a GW signal\n",
    "To start, lets generate a stochastic GW background by sampling $M$ BHs, each with 7 parameters."
   ]
  },
  {
   "cell_type": "code",
   "execution_count": 4,
   "metadata": {},
   "outputs": [
    {
     "name": "stderr",
     "output_type": "stream",
     "text": [
      "INFO:root:Generating a GW signal with M = 10000\n"
     ]
    }
   ],
   "source": [
    "from make_synthetic_data import BH_population \n",
    "\n",
    "\n",
    "#Define the parameters for the power law over Ω\n",
    "α = -3.0 #Exponent of the power law for the PDF of Ω\n",
    "Ω_min = 1/(10*year) #lower bound on the Ω power law distribution. Set by Tobs\n",
    "Ω_max = 1/(week)  #upper bound on the Ω power law distribution. Set by dt\n",
    "M = int(1e4)\n",
    "\n",
    "universe_i = BH_population(α,Ω_min,Ω_max,M) #this is a random realisation of the universe\n"
   ]
  },
  {
   "cell_type": "markdown",
   "metadata": {},
   "source": [
    "For $M=1$, you can also specify the 7 parameters explicitly. In this case $\\alpha$, $\\Omega_{\\rm min}$, $\\Omega_{\\rm max}$ are ignored. "
   ]
  },
  {
   "cell_type": "code",
   "execution_count": null,
   "metadata": {},
   "outputs": [
    {
     "name": "stderr",
     "output_type": "stream",
     "text": [
      "INFO:root:Generating a GW signal with M = 1\n"
     ]
    }
   ],
   "source": [
    "parameters_dictionary = {\n",
    "  \"Ω\": 5e-7,\n",
    "  \"h\": 1e-12,\n",
    "  \"φ0\": 0.20,\n",
    "  \"ψ\": 2.50,\n",
    "  \"ι\": 1.0,\n",
    "  \"δ\": 1.0,\n",
    "  \"α\": 1.0\n",
    "}\n",
    "\n",
    "universe_i = Universe(M=1,parameters_dictionary=parameters_dictionary) #this is a random realisation of the universe\n"
   ]
  },
  {
   "cell_type": "markdown",
   "metadata": {},
   "source": [
    "### 1.2 Creating a PTA\n",
    "\n",
    "Now we specify the pulsars that constitute our PTA. For this demo we use the pulsars specified in `data/NANOGrav_pulsars.csv`"
   ]
  },
  {
   "cell_type": "code",
   "execution_count": 7,
   "metadata": {},
   "outputs": [],
   "source": [
    "from make_synthetic_data import Pulsars\n",
    "\n",
    "PTA = Pulsars(pulsar_file='../data/NANOGrav_pulsars.csv',\n",
    "              γp=1e-13,\n",
    "              dt_weeks=1,\n",
    "              Tobs_years=10)"
   ]
  },
  {
   "cell_type": "markdown",
   "metadata": {},
   "source": []
  }
 ],
 "metadata": {
  "kernelspec": {
   "display_name": "PTAStateSpaceAnalysis",
   "language": "python",
   "name": "python3"
  },
  "language_info": {
   "codemirror_mode": {
    "name": "ipython",
    "version": 3
   },
   "file_extension": ".py",
   "mimetype": "text/x-python",
   "name": "python",
   "nbconvert_exporter": "python",
   "pygments_lexer": "ipython3",
   "version": "3.12.2"
  }
 },
 "nbformat": 4,
 "nbformat_minor": 2
}
