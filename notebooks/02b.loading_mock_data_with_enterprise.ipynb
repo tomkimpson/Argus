{
 "cells": [
  {
   "cell_type": "markdown",
   "metadata": {},
   "source": [
    "# Test loading mock data\n",
    "\n",
    "This notebook looks at loading the IPTA mock data files using enterprise "
   ]
  },
  {
   "cell_type": "code",
   "execution_count": 1,
   "metadata": {},
   "outputs": [],
   "source": [
    "\n",
    "from enterprise.pulsar import Pulsar as enterprise_pulsar\n",
    "import glob \n",
    "datadir= '../data/data_from_enterprise/mdc1/'\n",
    "\n"
   ]
  },
  {
   "cell_type": "code",
   "execution_count": 2,
   "metadata": {},
   "outputs": [],
   "source": [
    "parfiles = sorted(glob.glob(datadir + '*.par'))\n",
    "timfiles = sorted(glob.glob(datadir + '*.tim'))"
   ]
  },
  {
   "cell_type": "code",
   "execution_count": 3,
   "metadata": {},
   "outputs": [
    {
     "name": "stdout",
     "output_type": "stream",
     "text": [
      "../data/data_from_enterprise/mdc1/J0030+0451.par\n"
     ]
    },
    {
     "name": "stderr",
     "output_type": "stream",
     "text": [
      "WARNING: Could not find pulsar distance for PSR J0218+4232. Setting value to 1 with 20% uncertainty.\n"
     ]
    },
    {
     "name": "stdout",
     "output_type": "stream",
     "text": [
      "[tempo2Util.C:396] Warning: [TIM1] Please place MODE flags in the parameter file \n",
      "../data/data_from_enterprise/mdc1/J0218+4232.par\n",
      "[tempo2Util.C:401] Warning: [DUP1] duplicated warnings have been suppressed.\n",
      "../data/data_from_enterprise/mdc1/J0437-4715.par\n",
      "../data/data_from_enterprise/mdc1/J0613-0200.par\n",
      "../data/data_from_enterprise/mdc1/J0621+1002.par\n"
     ]
    },
    {
     "name": "stderr",
     "output_type": "stream",
     "text": [
      "WARNING: Could not find pulsar distance for PSR J0621+1002. Setting value to 1 with 20% uncertainty.\n"
     ]
    },
    {
     "name": "stdout",
     "output_type": "stream",
     "text": [
      "../data/data_from_enterprise/mdc1/J0711-6830.par\n",
      "../data/data_from_enterprise/mdc1/J0751+1807.par\n"
     ]
    },
    {
     "name": "stderr",
     "output_type": "stream",
     "text": [
      "WARNING: Could not find pulsar distance for PSR J0751+1807. Setting value to 1 with 20% uncertainty.\n",
      "WARNING: Could not find pulsar distance for PSR J0900-3144. Setting value to 1 with 20% uncertainty.\n"
     ]
    },
    {
     "name": "stdout",
     "output_type": "stream",
     "text": [
      "../data/data_from_enterprise/mdc1/J0900-3144.par\n",
      "../data/data_from_enterprise/mdc1/J1012+5307.par\n",
      "../data/data_from_enterprise/mdc1/J1022+1001.par\n",
      "../data/data_from_enterprise/mdc1/J1024-0719.par\n",
      "../data/data_from_enterprise/mdc1/J1045-4509.par\n",
      "../data/data_from_enterprise/mdc1/J1455-3330.par\n",
      "../data/data_from_enterprise/mdc1/J1600-3053.par\n",
      "../data/data_from_enterprise/mdc1/J1603-7202.par\n",
      "../data/data_from_enterprise/mdc1/J1640+2224.par\n",
      "../data/data_from_enterprise/mdc1/J1643-1224.par\n",
      "../data/data_from_enterprise/mdc1/J1713+0747.par\n",
      "../data/data_from_enterprise/mdc1/J1730-2304.par\n",
      "../data/data_from_enterprise/mdc1/J1732-5049.par\n",
      "../data/data_from_enterprise/mdc1/J1738+0333.par\n"
     ]
    },
    {
     "name": "stderr",
     "output_type": "stream",
     "text": [
      "WARNING: Could not find pulsar distance for PSR J1738+0333. Setting value to 1 with 20% uncertainty.\n",
      "WARNING: Could not find pulsar distance for PSR J1741+1351. Setting value to 1 with 20% uncertainty.\n"
     ]
    },
    {
     "name": "stdout",
     "output_type": "stream",
     "text": [
      "../data/data_from_enterprise/mdc1/J1741+1351.par\n",
      "../data/data_from_enterprise/mdc1/J1744-1134.par\n"
     ]
    },
    {
     "name": "stderr",
     "output_type": "stream",
     "text": [
      "WARNING: Could not find pulsar distance for PSR J1751-2857. Setting value to 1 with 20% uncertainty.\n"
     ]
    },
    {
     "name": "stdout",
     "output_type": "stream",
     "text": [
      "../data/data_from_enterprise/mdc1/J1751-2857.par\n",
      "../data/data_from_enterprise/mdc1/J1853+1303.par\n"
     ]
    },
    {
     "name": "stderr",
     "output_type": "stream",
     "text": [
      "WARNING: Could not find pulsar distance for PSR J1853+1303. Setting value to 1 with 20% uncertainty.\n"
     ]
    },
    {
     "name": "stdout",
     "output_type": "stream",
     "text": [
      "../data/data_from_enterprise/mdc1/J1857+0943.par\n",
      "../data/data_from_enterprise/mdc1/J1909-3744.par\n",
      "../data/data_from_enterprise/mdc1/J1910+1256.par\n",
      "../data/data_from_enterprise/mdc1/J1918-0642.par\n",
      "../data/data_from_enterprise/mdc1/J1939+2134.par\n",
      "../data/data_from_enterprise/mdc1/J1955+2908.par\n"
     ]
    },
    {
     "name": "stderr",
     "output_type": "stream",
     "text": [
      "WARNING: Could not find pulsar distance for PSR J1955+2908. Setting value to 1 with 20% uncertainty.\n",
      "WARNING: Could not find pulsar distance for PSR J2019+2425. Setting value to 1 with 20% uncertainty.\n"
     ]
    },
    {
     "name": "stdout",
     "output_type": "stream",
     "text": [
      "../data/data_from_enterprise/mdc1/J2019+2425.par\n",
      "../data/data_from_enterprise/mdc1/J2124-3358.par\n",
      "../data/data_from_enterprise/mdc1/J2129-5721.par\n",
      "../data/data_from_enterprise/mdc1/J2145-0750.par\n",
      "../data/data_from_enterprise/mdc1/J2317+1439.par\n"
     ]
    }
   ],
   "source": [
    "#example from https://enterprise.readthedocs.io/en/latest/mdc.html\n",
    "\n",
    "psrs = []\n",
    "for p, t in zip(parfiles, timfiles):\n",
    "    print(p)\n",
    "    psr = enterprise_pulsar(p, t)\n",
    "    psrs.append(psr)\n"
   ]
  },
  {
   "cell_type": "code",
   "execution_count": 5,
   "metadata": {},
   "outputs": [
    {
     "data": {
      "text/plain": [
       "[<enterprise.pulsar.Tempo2Pulsar at 0x7fa2adb60f50>,\n",
       " <enterprise.pulsar.Tempo2Pulsar at 0x7fa2ad693e30>,\n",
       " <enterprise.pulsar.Tempo2Pulsar at 0x7fa2adb3f530>,\n",
       " <enterprise.pulsar.Tempo2Pulsar at 0x7fa2ad6c3e00>,\n",
       " <enterprise.pulsar.Tempo2Pulsar at 0x7fa2ad996b10>,\n",
       " <enterprise.pulsar.Tempo2Pulsar at 0x7fa2ad6c3c50>,\n",
       " <enterprise.pulsar.Tempo2Pulsar at 0x7fa2d1fe1430>,\n",
       " <enterprise.pulsar.Tempo2Pulsar at 0x7fa2ad6c3aa0>,\n",
       " <enterprise.pulsar.Tempo2Pulsar at 0x7fa2ad670800>,\n",
       " <enterprise.pulsar.Tempo2Pulsar at 0x7fa2ada4be90>,\n",
       " <enterprise.pulsar.Tempo2Pulsar at 0x7fa2ad670c20>,\n",
       " <enterprise.pulsar.Tempo2Pulsar at 0x7fa2ad6c36e0>,\n",
       " <enterprise.pulsar.Tempo2Pulsar at 0x7fa2ad670e90>,\n",
       " <enterprise.pulsar.Tempo2Pulsar at 0x7fa2ad6c34a0>,\n",
       " <enterprise.pulsar.Tempo2Pulsar at 0x7fa2ad6710a0>,\n",
       " <enterprise.pulsar.Tempo2Pulsar at 0x7fa2ad6c3260>,\n",
       " <enterprise.pulsar.Tempo2Pulsar at 0x7fa2ad671220>,\n",
       " <enterprise.pulsar.Tempo2Pulsar at 0x7fa2ad6c2f90>,\n",
       " <enterprise.pulsar.Tempo2Pulsar at 0x7fa2ad715a00>,\n",
       " <enterprise.pulsar.Tempo2Pulsar at 0x7fa2ad6c2cf0>,\n",
       " <enterprise.pulsar.Tempo2Pulsar at 0x7fa2ad716390>,\n",
       " <enterprise.pulsar.Tempo2Pulsar at 0x7fa2ad933140>,\n",
       " <enterprise.pulsar.Tempo2Pulsar at 0x7fa2ad717380>,\n",
       " <enterprise.pulsar.Tempo2Pulsar at 0x7fa2ad6c2630>,\n",
       " <enterprise.pulsar.Tempo2Pulsar at 0x7fa2ad7174a0>,\n",
       " <enterprise.pulsar.Tempo2Pulsar at 0x7fa2ad693c50>,\n",
       " <enterprise.pulsar.Tempo2Pulsar at 0x7fa2ad6c0050>,\n",
       " <enterprise.pulsar.Tempo2Pulsar at 0x7fa2ad693aa0>,\n",
       " <enterprise.pulsar.Tempo2Pulsar at 0x7fa2ad6c1a30>,\n",
       " <enterprise.pulsar.Tempo2Pulsar at 0x7fa2ad6938f0>,\n",
       " <enterprise.pulsar.Tempo2Pulsar at 0x7fa2ad6c1730>,\n",
       " <enterprise.pulsar.Tempo2Pulsar at 0x7fa2ad6936b0>,\n",
       " <enterprise.pulsar.Tempo2Pulsar at 0x7fa2ad6c15e0>,\n",
       " <enterprise.pulsar.Tempo2Pulsar at 0x7fa2ad6934a0>,\n",
       " <enterprise.pulsar.Tempo2Pulsar at 0x7fa2ad6c1490>,\n",
       " <enterprise.pulsar.Tempo2Pulsar at 0x7fa2ad738920>]"
      ]
     },
     "execution_count": 5,
     "metadata": {},
     "output_type": "execute_result"
    }
   ],
   "source": [
    "psrs "
   ]
  },
  {
   "cell_type": "code",
   "execution_count": null,
   "metadata": {},
   "outputs": [],
   "source": []
  }
 ],
 "metadata": {
  "kernelspec": {
   "display_name": "test_enterprise",
   "language": "python",
   "name": "python3"
  },
  "language_info": {
   "codemirror_mode": {
    "name": "ipython",
    "version": 3
   },
   "file_extension": ".py",
   "mimetype": "text/x-python",
   "name": "python",
   "nbconvert_exporter": "python",
   "pygments_lexer": "ipython3",
   "version": "3.12.8"
  }
 },
 "nbformat": 4,
 "nbformat_minor": 2
}
