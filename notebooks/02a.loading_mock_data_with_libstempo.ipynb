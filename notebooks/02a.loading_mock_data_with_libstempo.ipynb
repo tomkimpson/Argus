{
 "cells": [
  {
   "cell_type": "markdown",
   "metadata": {},
   "source": [
    "# Test loading mock data\n",
    "\n",
    "This notebook looks at loading the IPTA mock data files using libstempo "
   ]
  },
  {
   "cell_type": "code",
   "execution_count": 1,
   "metadata": {},
   "outputs": [],
   "source": [
    "import libstempo \n",
    "import glob \n",
    "datadir_enterprise = '../data/data_from_enterprise/mdc1'\n",
    "datadir_nanograv = '../data/NANOGrav15year/wideband/'\n"
   ]
  },
  {
   "cell_type": "code",
   "execution_count": 2,
   "metadata": {},
   "outputs": [],
   "source": [
    "parfiles = sorted(glob.glob(datadir_nanograv + 'par/*.par'))\n",
    "timfiles = sorted(glob.glob(datadir_nanograv + 'tim/*.tim'))"
   ]
  },
  {
   "cell_type": "code",
   "execution_count": 3,
   "metadata": {},
   "outputs": [
    {
     "ename": "",
     "evalue": "",
     "output_type": "error",
     "traceback": [
      "\u001b[1;31mThe Kernel crashed while executing code in the current cell or a previous cell. \n",
      "\u001b[1;31mPlease review the code in the cell(s) to identify a possible cause of the failure. \n",
      "\u001b[1;31mClick <a href='https://aka.ms/vscodeJupyterKernelCrash'>here</a> for more info. \n",
      "\u001b[1;31mView Jupyter <a href='command:jupyter.viewOutput'>log</a> for further details."
     ]
    }
   ],
   "source": [
    "import libstempo\n",
    "idx = 0\n",
    "psr = libstempo.tempopulsar(\n",
    "    parfile=parfiles[idx], \n",
    "    timfile=timfiles[idx]\n",
    ")\n"
   ]
  },
  {
   "cell_type": "code",
   "execution_count": 8,
   "metadata": {},
   "outputs": [
    {
     "ename": "ValueError",
     "evalue": "Invalid shape in axis 0: 0.",
     "output_type": "error",
     "traceback": [
      "\u001b[0;31m---------------------------------------------------------------------------\u001b[0m",
      "\u001b[0;31mValueError\u001b[0m                                Traceback (most recent call last)",
      "Cell \u001b[0;32mIn[8], line 2\u001b[0m\n\u001b[1;32m      1\u001b[0m \u001b[38;5;28;01mimport\u001b[39;00m\u001b[38;5;250m \u001b[39m\u001b[38;5;21;01mlibstempo\u001b[39;00m\u001b[38;5;21;01m.\u001b[39;00m\u001b[38;5;21;01mplot\u001b[39;00m\n\u001b[0;32m----> 2\u001b[0m \u001b[43mlibstempo\u001b[49m\u001b[38;5;241;43m.\u001b[39;49m\u001b[43mplot\u001b[49m\u001b[38;5;241;43m.\u001b[39;49m\u001b[43mplotres\u001b[49m\u001b[43m(\u001b[49m\u001b[43mpsr\u001b[49m\u001b[43m)\u001b[49m\n",
      "File \u001b[0;32m/fred/oz022/tkimpson/conda_envs/Argus3/lib/python3.12/site-packages/libstempo/plot.py:11\u001b[0m, in \u001b[0;36mplotres\u001b[0;34m(psr, deleted, group, **kwargs)\u001b[0m\n\u001b[1;32m      8\u001b[0m \u001b[38;5;28;01mdef\u001b[39;00m\u001b[38;5;250m \u001b[39m\u001b[38;5;21mplotres\u001b[39m(psr, deleted\u001b[38;5;241m=\u001b[39m\u001b[38;5;28;01mFalse\u001b[39;00m, group\u001b[38;5;241m=\u001b[39m\u001b[38;5;28;01mNone\u001b[39;00m, \u001b[38;5;241m*\u001b[39m\u001b[38;5;241m*\u001b[39mkwargs):\n\u001b[1;32m      9\u001b[0m \u001b[38;5;250m    \u001b[39m\u001b[38;5;124;03m\"\"\"Plot residuals, compute unweighted rms residual.\"\"\"\u001b[39;00m\n\u001b[0;32m---> 11\u001b[0m     res, t, errs \u001b[38;5;241m=\u001b[39m \u001b[43mpsr\u001b[49m\u001b[38;5;241;43m.\u001b[39;49m\u001b[43mresiduals\u001b[49m\u001b[43m(\u001b[49m\u001b[43m)\u001b[49m, psr\u001b[38;5;241m.\u001b[39mtoas(), psr\u001b[38;5;241m.\u001b[39mtoaerrs\n\u001b[1;32m     13\u001b[0m     \u001b[38;5;28;01mif\u001b[39;00m (\u001b[38;5;129;01mnot\u001b[39;00m deleted) \u001b[38;5;129;01mand\u001b[39;00m N\u001b[38;5;241m.\u001b[39many(psr\u001b[38;5;241m.\u001b[39mdeleted \u001b[38;5;241m!=\u001b[39m \u001b[38;5;241m0\u001b[39m):\n\u001b[1;32m     14\u001b[0m         res, t, errs \u001b[38;5;241m=\u001b[39m res[psr\u001b[38;5;241m.\u001b[39mdeleted \u001b[38;5;241m==\u001b[39m \u001b[38;5;241m0\u001b[39m], t[psr\u001b[38;5;241m.\u001b[39mdeleted \u001b[38;5;241m==\u001b[39m \u001b[38;5;241m0\u001b[39m], errs[psr\u001b[38;5;241m.\u001b[39mdeleted \u001b[38;5;241m==\u001b[39m \u001b[38;5;241m0\u001b[39m]\n",
      "File \u001b[0;32m/fred/oz022/tkimpson/conda_envs/Argus3/lib/python3.12/site-packages/libstempo/libstempo.pyx:1603\u001b[0m, in \u001b[0;36mlibstempo.libstempo.tempopulsar.residuals\u001b[0;34m()\u001b[0m\n",
      "File \u001b[0;32m<stringsource>:275\u001b[0m, in \u001b[0;36mView.MemoryView.array_cwrapper\u001b[0;34m()\u001b[0m\n",
      "File \u001b[0;32m<stringsource>:161\u001b[0m, in \u001b[0;36mView.MemoryView.array.__cinit__\u001b[0;34m()\u001b[0m\n",
      "\u001b[0;31mValueError\u001b[0m: Invalid shape in axis 0: 0."
     ]
    }
   ],
   "source": [
    "import libstempo.plot\n",
    "libstempo.plot.plotres(psr)\n"
   ]
  },
  {
   "cell_type": "code",
   "execution_count": null,
   "metadata": {},
   "outputs": [],
   "source": []
  }
 ],
 "metadata": {
  "kernelspec": {
   "display_name": "Argus3",
   "language": "python",
   "name": "python3"
  },
  "language_info": {
   "codemirror_mode": {
    "name": "ipython",
    "version": 3
   },
   "file_extension": ".py",
   "mimetype": "text/x-python",
   "name": "python",
   "nbconvert_exporter": "python",
   "pygments_lexer": "ipython3",
   "version": "3.12.2"
  }
 },
 "nbformat": 4,
 "nbformat_minor": 2
}
